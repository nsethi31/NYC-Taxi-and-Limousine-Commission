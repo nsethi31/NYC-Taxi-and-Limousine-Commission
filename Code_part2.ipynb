{
 "cells": [
  {
   "cell_type": "markdown",
   "metadata": {},
   "source": [
    "Question 5\n",
    "Option A: Distributions\n",
    "1. Build a derived variable representing the average speed over the course of a trip.\n",
    "2. Can you perform a test to determine if the average trip speeds are materially the same in all weeks of September?      If you decide they are not the same, can you form a hypothesis regarding why they differ?\n",
    "3. Can you build up a hypothesis of average trip speed as a function of time of day?"
   ]
  },
  {
   "cell_type": "markdown",
   "metadata": {},
   "source": [
    "Downloading the data from the url containing the required csv file for September 2015 Green Taxis data using \"pandas.read_table\" which has \"tab (\\t)\" as default delimiter . So used \"comma (,)\" as the separator for csv file."
   ]
  },
  {
   "cell_type": "markdown",
   "metadata": {},
   "source": [
    "For this part, I haven't removed any erroneous data. But after the work with the original data, I have removed the data with errors and again performed the analysis.\n",
    "The errors I am refering to are related to the completion of time for long trips, which I have discussed at the end."
   ]
  },
  {
   "cell_type": "code",
   "execution_count": 14,
   "metadata": {
    "collapsed": false
   },
   "outputs": [],
   "source": [
    "#importing the pandas library for data analysis\n",
    "import pandas as pd\n",
    "\n",
    "#downloading the data from the url\n",
    "data=pd.read_table(\"https://s3.amazonaws.com/nyc-tlc/trip+data/green_tripdata_2015-09.csv\",sep=',')"
   ]
  },
  {
   "cell_type": "code",
   "execution_count": 15,
   "metadata": {
    "collapsed": false
   },
   "outputs": [
    {
     "name": "stdout",
     "output_type": "stream",
     "text": [
      "VendorID                       0\n",
      "lpep_pickup_datetime           0\n",
      "Lpep_dropoff_datetime          0\n",
      "Store_and_fwd_flag             0\n",
      "RateCodeID                     0\n",
      "Pickup_longitude               0\n",
      "Pickup_latitude                0\n",
      "Dropoff_longitude              0\n",
      "Dropoff_latitude               0\n",
      "Passenger_count                0\n",
      "Trip_distance                  0\n",
      "Fare_amount                    0\n",
      "Extra                          0\n",
      "MTA_tax                        0\n",
      "Tip_amount                     0\n",
      "Tolls_amount                   0\n",
      "Ehail_fee                1494926\n",
      "improvement_surcharge          0\n",
      "Total_amount                   0\n",
      "Payment_type                   0\n",
      "Trip_type                      4\n",
      "dtype: int64\n"
     ]
    }
   ],
   "source": [
    "#making a copy of the data set\n",
    "df=data\n",
    "\n",
    "#checking the number of missing values in each column\n",
    "print(df.isnull().sum())"
   ]
  },
  {
   "cell_type": "markdown",
   "metadata": {},
   "source": [
    "Inference-\n",
    "'Ehail_fee' column has all missing values. So we remove it using drop function.\n",
    "axis=1 refers to the column axis and inplace=True means that make the change in the data set permanently."
   ]
  },
  {
   "cell_type": "code",
   "execution_count": 16,
   "metadata": {
    "collapsed": false
   },
   "outputs": [
    {
     "data": {
      "text/plain": [
       "Index(['VendorID', 'lpep_pickup_datetime', 'Lpep_dropoff_datetime',\n",
       "       'Store_and_fwd_flag', 'RateCodeID', 'Pickup_longitude',\n",
       "       'Pickup_latitude', 'Dropoff_longitude', 'Dropoff_latitude',\n",
       "       'Passenger_count', 'Trip_distance', 'Fare_amount', 'Extra', 'MTA_tax',\n",
       "       'Tip_amount', 'Tolls_amount', 'improvement_surcharge', 'Total_amount',\n",
       "       'Payment_type', 'Trip_type '],\n",
       "      dtype='object')"
      ]
     },
     "execution_count": 16,
     "metadata": {},
     "output_type": "execute_result"
    }
   ],
   "source": [
    "#removing 'Ehail_fee' column from the data set\n",
    "df.drop('Ehail_fee', axis=1, inplace=True)\n",
    "\n",
    "#checking the columns in the data (checking whether 'Ehail_fee' is removed)\n",
    "df.columns"
   ]
  },
  {
   "cell_type": "markdown",
   "metadata": {},
   "source": [
    "To calculate the average speed of the trip, we need the trip duration.\n",
    "So, we create another column (Trip_duration), which is the difference between the dropoff time and the pickup time.\n",
    "For this, we need to first convert the columns \"lpep_pickup_datetime\" and \"Lpep_dropoff_datetime\" to datetime type."
   ]
  },
  {
   "cell_type": "code",
   "execution_count": 17,
   "metadata": {
    "collapsed": true
   },
   "outputs": [],
   "source": [
    "#\"lpep_pickup_datetime\" and \"Lpep_dropoff_datetime\" have indexes 1 and 2 respectively\n",
    "df.iloc[:,1:3] = df.iloc[:,1:3].apply(pd.to_datetime, errors='coerce')\n",
    "#Passing errors='coerce' to convert invalid data to NaT (not a time)\n",
    "\n",
    "#Creating the \"Trip_duration\" column\n",
    "df['Trip_duration']=df['Lpep_dropoff_datetime']-df['lpep_pickup_datetime']"
   ]
  },
  {
   "cell_type": "markdown",
   "metadata": {},
   "source": [
    "Since the Trip_duration column contains both the date and time, we look at the components of the time portion (hour, minutes, seconds, etc.)."
   ]
  },
  {
   "cell_type": "code",
   "execution_count": 18,
   "metadata": {
    "collapsed": false
   },
   "outputs": [
    {
     "data": {
      "text/html": [
       "<div>\n",
       "<table border=\"1\" class=\"dataframe\">\n",
       "  <thead>\n",
       "    <tr style=\"text-align: right;\">\n",
       "      <th></th>\n",
       "      <th>days</th>\n",
       "      <th>hours</th>\n",
       "      <th>minutes</th>\n",
       "      <th>seconds</th>\n",
       "      <th>milliseconds</th>\n",
       "      <th>microseconds</th>\n",
       "      <th>nanoseconds</th>\n",
       "    </tr>\n",
       "  </thead>\n",
       "  <tbody>\n",
       "    <tr>\n",
       "      <th>0</th>\n",
       "      <td>0</td>\n",
       "      <td>0</td>\n",
       "      <td>0</td>\n",
       "      <td>4</td>\n",
       "      <td>0</td>\n",
       "      <td>0</td>\n",
       "      <td>0</td>\n",
       "    </tr>\n",
       "    <tr>\n",
       "      <th>1</th>\n",
       "      <td>0</td>\n",
       "      <td>0</td>\n",
       "      <td>0</td>\n",
       "      <td>4</td>\n",
       "      <td>0</td>\n",
       "      <td>0</td>\n",
       "      <td>0</td>\n",
       "    </tr>\n",
       "    <tr>\n",
       "      <th>2</th>\n",
       "      <td>0</td>\n",
       "      <td>0</td>\n",
       "      <td>2</td>\n",
       "      <td>34</td>\n",
       "      <td>0</td>\n",
       "      <td>0</td>\n",
       "      <td>0</td>\n",
       "    </tr>\n",
       "    <tr>\n",
       "      <th>3</th>\n",
       "      <td>0</td>\n",
       "      <td>0</td>\n",
       "      <td>4</td>\n",
       "      <td>6</td>\n",
       "      <td>0</td>\n",
       "      <td>0</td>\n",
       "      <td>0</td>\n",
       "    </tr>\n",
       "    <tr>\n",
       "      <th>4</th>\n",
       "      <td>0</td>\n",
       "      <td>0</td>\n",
       "      <td>4</td>\n",
       "      <td>6</td>\n",
       "      <td>0</td>\n",
       "      <td>0</td>\n",
       "      <td>0</td>\n",
       "    </tr>\n",
       "    <tr>\n",
       "      <th>5</th>\n",
       "      <td>0</td>\n",
       "      <td>0</td>\n",
       "      <td>4</td>\n",
       "      <td>41</td>\n",
       "      <td>0</td>\n",
       "      <td>0</td>\n",
       "      <td>0</td>\n",
       "    </tr>\n",
       "    <tr>\n",
       "      <th>6</th>\n",
       "      <td>0</td>\n",
       "      <td>0</td>\n",
       "      <td>4</td>\n",
       "      <td>58</td>\n",
       "      <td>0</td>\n",
       "      <td>0</td>\n",
       "      <td>0</td>\n",
       "    </tr>\n",
       "    <tr>\n",
       "      <th>7</th>\n",
       "      <td>0</td>\n",
       "      <td>0</td>\n",
       "      <td>3</td>\n",
       "      <td>19</td>\n",
       "      <td>0</td>\n",
       "      <td>0</td>\n",
       "      <td>0</td>\n",
       "    </tr>\n",
       "    <tr>\n",
       "      <th>8</th>\n",
       "      <td>0</td>\n",
       "      <td>0</td>\n",
       "      <td>4</td>\n",
       "      <td>44</td>\n",
       "      <td>0</td>\n",
       "      <td>0</td>\n",
       "      <td>0</td>\n",
       "    </tr>\n",
       "    <tr>\n",
       "      <th>9</th>\n",
       "      <td>0</td>\n",
       "      <td>0</td>\n",
       "      <td>5</td>\n",
       "      <td>10</td>\n",
       "      <td>0</td>\n",
       "      <td>0</td>\n",
       "      <td>0</td>\n",
       "    </tr>\n",
       "    <tr>\n",
       "      <th>10</th>\n",
       "      <td>0</td>\n",
       "      <td>0</td>\n",
       "      <td>3</td>\n",
       "      <td>51</td>\n",
       "      <td>0</td>\n",
       "      <td>0</td>\n",
       "      <td>0</td>\n",
       "    </tr>\n",
       "    <tr>\n",
       "      <th>11</th>\n",
       "      <td>0</td>\n",
       "      <td>0</td>\n",
       "      <td>2</td>\n",
       "      <td>6</td>\n",
       "      <td>0</td>\n",
       "      <td>0</td>\n",
       "      <td>0</td>\n",
       "    </tr>\n",
       "    <tr>\n",
       "      <th>12</th>\n",
       "      <td>0</td>\n",
       "      <td>0</td>\n",
       "      <td>4</td>\n",
       "      <td>34</td>\n",
       "      <td>0</td>\n",
       "      <td>0</td>\n",
       "      <td>0</td>\n",
       "    </tr>\n",
       "    <tr>\n",
       "      <th>13</th>\n",
       "      <td>0</td>\n",
       "      <td>0</td>\n",
       "      <td>2</td>\n",
       "      <td>10</td>\n",
       "      <td>0</td>\n",
       "      <td>0</td>\n",
       "      <td>0</td>\n",
       "    </tr>\n",
       "    <tr>\n",
       "      <th>14</th>\n",
       "      <td>0</td>\n",
       "      <td>0</td>\n",
       "      <td>2</td>\n",
       "      <td>28</td>\n",
       "      <td>0</td>\n",
       "      <td>0</td>\n",
       "      <td>0</td>\n",
       "    </tr>\n",
       "    <tr>\n",
       "      <th>15</th>\n",
       "      <td>0</td>\n",
       "      <td>0</td>\n",
       "      <td>6</td>\n",
       "      <td>56</td>\n",
       "      <td>0</td>\n",
       "      <td>0</td>\n",
       "      <td>0</td>\n",
       "    </tr>\n",
       "    <tr>\n",
       "      <th>16</th>\n",
       "      <td>0</td>\n",
       "      <td>0</td>\n",
       "      <td>7</td>\n",
       "      <td>14</td>\n",
       "      <td>0</td>\n",
       "      <td>0</td>\n",
       "      <td>0</td>\n",
       "    </tr>\n",
       "    <tr>\n",
       "      <th>17</th>\n",
       "      <td>0</td>\n",
       "      <td>0</td>\n",
       "      <td>3</td>\n",
       "      <td>18</td>\n",
       "      <td>0</td>\n",
       "      <td>0</td>\n",
       "      <td>0</td>\n",
       "    </tr>\n",
       "    <tr>\n",
       "      <th>18</th>\n",
       "      <td>0</td>\n",
       "      <td>0</td>\n",
       "      <td>7</td>\n",
       "      <td>12</td>\n",
       "      <td>0</td>\n",
       "      <td>0</td>\n",
       "      <td>0</td>\n",
       "    </tr>\n",
       "    <tr>\n",
       "      <th>19</th>\n",
       "      <td>0</td>\n",
       "      <td>0</td>\n",
       "      <td>5</td>\n",
       "      <td>55</td>\n",
       "      <td>0</td>\n",
       "      <td>0</td>\n",
       "      <td>0</td>\n",
       "    </tr>\n",
       "    <tr>\n",
       "      <th>20</th>\n",
       "      <td>0</td>\n",
       "      <td>0</td>\n",
       "      <td>6</td>\n",
       "      <td>56</td>\n",
       "      <td>0</td>\n",
       "      <td>0</td>\n",
       "      <td>0</td>\n",
       "    </tr>\n",
       "    <tr>\n",
       "      <th>21</th>\n",
       "      <td>0</td>\n",
       "      <td>0</td>\n",
       "      <td>3</td>\n",
       "      <td>55</td>\n",
       "      <td>0</td>\n",
       "      <td>0</td>\n",
       "      <td>0</td>\n",
       "    </tr>\n",
       "    <tr>\n",
       "      <th>22</th>\n",
       "      <td>0</td>\n",
       "      <td>0</td>\n",
       "      <td>5</td>\n",
       "      <td>52</td>\n",
       "      <td>0</td>\n",
       "      <td>0</td>\n",
       "      <td>0</td>\n",
       "    </tr>\n",
       "    <tr>\n",
       "      <th>23</th>\n",
       "      <td>0</td>\n",
       "      <td>0</td>\n",
       "      <td>6</td>\n",
       "      <td>31</td>\n",
       "      <td>0</td>\n",
       "      <td>0</td>\n",
       "      <td>0</td>\n",
       "    </tr>\n",
       "    <tr>\n",
       "      <th>24</th>\n",
       "      <td>0</td>\n",
       "      <td>0</td>\n",
       "      <td>9</td>\n",
       "      <td>10</td>\n",
       "      <td>0</td>\n",
       "      <td>0</td>\n",
       "      <td>0</td>\n",
       "    </tr>\n",
       "    <tr>\n",
       "      <th>25</th>\n",
       "      <td>0</td>\n",
       "      <td>0</td>\n",
       "      <td>5</td>\n",
       "      <td>58</td>\n",
       "      <td>0</td>\n",
       "      <td>0</td>\n",
       "      <td>0</td>\n",
       "    </tr>\n",
       "    <tr>\n",
       "      <th>26</th>\n",
       "      <td>0</td>\n",
       "      <td>0</td>\n",
       "      <td>7</td>\n",
       "      <td>56</td>\n",
       "      <td>0</td>\n",
       "      <td>0</td>\n",
       "      <td>0</td>\n",
       "    </tr>\n",
       "    <tr>\n",
       "      <th>27</th>\n",
       "      <td>0</td>\n",
       "      <td>0</td>\n",
       "      <td>0</td>\n",
       "      <td>21</td>\n",
       "      <td>0</td>\n",
       "      <td>0</td>\n",
       "      <td>0</td>\n",
       "    </tr>\n",
       "    <tr>\n",
       "      <th>28</th>\n",
       "      <td>0</td>\n",
       "      <td>0</td>\n",
       "      <td>3</td>\n",
       "      <td>0</td>\n",
       "      <td>0</td>\n",
       "      <td>0</td>\n",
       "      <td>0</td>\n",
       "    </tr>\n",
       "    <tr>\n",
       "      <th>29</th>\n",
       "      <td>0</td>\n",
       "      <td>0</td>\n",
       "      <td>7</td>\n",
       "      <td>54</td>\n",
       "      <td>0</td>\n",
       "      <td>0</td>\n",
       "      <td>0</td>\n",
       "    </tr>\n",
       "    <tr>\n",
       "      <th>...</th>\n",
       "      <td>...</td>\n",
       "      <td>...</td>\n",
       "      <td>...</td>\n",
       "      <td>...</td>\n",
       "      <td>...</td>\n",
       "      <td>...</td>\n",
       "      <td>...</td>\n",
       "    </tr>\n",
       "    <tr>\n",
       "      <th>1494896</th>\n",
       "      <td>0</td>\n",
       "      <td>0</td>\n",
       "      <td>16</td>\n",
       "      <td>35</td>\n",
       "      <td>0</td>\n",
       "      <td>0</td>\n",
       "      <td>0</td>\n",
       "    </tr>\n",
       "    <tr>\n",
       "      <th>1494897</th>\n",
       "      <td>0</td>\n",
       "      <td>0</td>\n",
       "      <td>1</td>\n",
       "      <td>39</td>\n",
       "      <td>0</td>\n",
       "      <td>0</td>\n",
       "      <td>0</td>\n",
       "    </tr>\n",
       "    <tr>\n",
       "      <th>1494898</th>\n",
       "      <td>0</td>\n",
       "      <td>0</td>\n",
       "      <td>9</td>\n",
       "      <td>14</td>\n",
       "      <td>0</td>\n",
       "      <td>0</td>\n",
       "      <td>0</td>\n",
       "    </tr>\n",
       "    <tr>\n",
       "      <th>1494899</th>\n",
       "      <td>0</td>\n",
       "      <td>0</td>\n",
       "      <td>10</td>\n",
       "      <td>7</td>\n",
       "      <td>0</td>\n",
       "      <td>0</td>\n",
       "      <td>0</td>\n",
       "    </tr>\n",
       "    <tr>\n",
       "      <th>1494900</th>\n",
       "      <td>0</td>\n",
       "      <td>0</td>\n",
       "      <td>11</td>\n",
       "      <td>53</td>\n",
       "      <td>0</td>\n",
       "      <td>0</td>\n",
       "      <td>0</td>\n",
       "    </tr>\n",
       "    <tr>\n",
       "      <th>1494901</th>\n",
       "      <td>0</td>\n",
       "      <td>0</td>\n",
       "      <td>18</td>\n",
       "      <td>20</td>\n",
       "      <td>0</td>\n",
       "      <td>0</td>\n",
       "      <td>0</td>\n",
       "    </tr>\n",
       "    <tr>\n",
       "      <th>1494902</th>\n",
       "      <td>0</td>\n",
       "      <td>0</td>\n",
       "      <td>5</td>\n",
       "      <td>26</td>\n",
       "      <td>0</td>\n",
       "      <td>0</td>\n",
       "      <td>0</td>\n",
       "    </tr>\n",
       "    <tr>\n",
       "      <th>1494903</th>\n",
       "      <td>0</td>\n",
       "      <td>0</td>\n",
       "      <td>4</td>\n",
       "      <td>57</td>\n",
       "      <td>0</td>\n",
       "      <td>0</td>\n",
       "      <td>0</td>\n",
       "    </tr>\n",
       "    <tr>\n",
       "      <th>1494904</th>\n",
       "      <td>0</td>\n",
       "      <td>0</td>\n",
       "      <td>8</td>\n",
       "      <td>25</td>\n",
       "      <td>0</td>\n",
       "      <td>0</td>\n",
       "      <td>0</td>\n",
       "    </tr>\n",
       "    <tr>\n",
       "      <th>1494905</th>\n",
       "      <td>0</td>\n",
       "      <td>0</td>\n",
       "      <td>5</td>\n",
       "      <td>29</td>\n",
       "      <td>0</td>\n",
       "      <td>0</td>\n",
       "      <td>0</td>\n",
       "    </tr>\n",
       "    <tr>\n",
       "      <th>1494906</th>\n",
       "      <td>0</td>\n",
       "      <td>0</td>\n",
       "      <td>6</td>\n",
       "      <td>36</td>\n",
       "      <td>0</td>\n",
       "      <td>0</td>\n",
       "      <td>0</td>\n",
       "    </tr>\n",
       "    <tr>\n",
       "      <th>1494907</th>\n",
       "      <td>0</td>\n",
       "      <td>0</td>\n",
       "      <td>2</td>\n",
       "      <td>39</td>\n",
       "      <td>0</td>\n",
       "      <td>0</td>\n",
       "      <td>0</td>\n",
       "    </tr>\n",
       "    <tr>\n",
       "      <th>1494908</th>\n",
       "      <td>0</td>\n",
       "      <td>0</td>\n",
       "      <td>15</td>\n",
       "      <td>17</td>\n",
       "      <td>0</td>\n",
       "      <td>0</td>\n",
       "      <td>0</td>\n",
       "    </tr>\n",
       "    <tr>\n",
       "      <th>1494909</th>\n",
       "      <td>0</td>\n",
       "      <td>0</td>\n",
       "      <td>7</td>\n",
       "      <td>25</td>\n",
       "      <td>0</td>\n",
       "      <td>0</td>\n",
       "      <td>0</td>\n",
       "    </tr>\n",
       "    <tr>\n",
       "      <th>1494910</th>\n",
       "      <td>0</td>\n",
       "      <td>0</td>\n",
       "      <td>9</td>\n",
       "      <td>53</td>\n",
       "      <td>0</td>\n",
       "      <td>0</td>\n",
       "      <td>0</td>\n",
       "    </tr>\n",
       "    <tr>\n",
       "      <th>1494911</th>\n",
       "      <td>0</td>\n",
       "      <td>0</td>\n",
       "      <td>6</td>\n",
       "      <td>13</td>\n",
       "      <td>0</td>\n",
       "      <td>0</td>\n",
       "      <td>0</td>\n",
       "    </tr>\n",
       "    <tr>\n",
       "      <th>1494912</th>\n",
       "      <td>0</td>\n",
       "      <td>0</td>\n",
       "      <td>9</td>\n",
       "      <td>9</td>\n",
       "      <td>0</td>\n",
       "      <td>0</td>\n",
       "      <td>0</td>\n",
       "    </tr>\n",
       "    <tr>\n",
       "      <th>1494913</th>\n",
       "      <td>0</td>\n",
       "      <td>0</td>\n",
       "      <td>11</td>\n",
       "      <td>2</td>\n",
       "      <td>0</td>\n",
       "      <td>0</td>\n",
       "      <td>0</td>\n",
       "    </tr>\n",
       "    <tr>\n",
       "      <th>1494914</th>\n",
       "      <td>0</td>\n",
       "      <td>0</td>\n",
       "      <td>4</td>\n",
       "      <td>30</td>\n",
       "      <td>0</td>\n",
       "      <td>0</td>\n",
       "      <td>0</td>\n",
       "    </tr>\n",
       "    <tr>\n",
       "      <th>1494915</th>\n",
       "      <td>0</td>\n",
       "      <td>0</td>\n",
       "      <td>22</td>\n",
       "      <td>56</td>\n",
       "      <td>0</td>\n",
       "      <td>0</td>\n",
       "      <td>0</td>\n",
       "    </tr>\n",
       "    <tr>\n",
       "      <th>1494916</th>\n",
       "      <td>0</td>\n",
       "      <td>0</td>\n",
       "      <td>19</td>\n",
       "      <td>50</td>\n",
       "      <td>0</td>\n",
       "      <td>0</td>\n",
       "      <td>0</td>\n",
       "    </tr>\n",
       "    <tr>\n",
       "      <th>1494917</th>\n",
       "      <td>0</td>\n",
       "      <td>0</td>\n",
       "      <td>4</td>\n",
       "      <td>38</td>\n",
       "      <td>0</td>\n",
       "      <td>0</td>\n",
       "      <td>0</td>\n",
       "    </tr>\n",
       "    <tr>\n",
       "      <th>1494918</th>\n",
       "      <td>0</td>\n",
       "      <td>0</td>\n",
       "      <td>5</td>\n",
       "      <td>34</td>\n",
       "      <td>0</td>\n",
       "      <td>0</td>\n",
       "      <td>0</td>\n",
       "    </tr>\n",
       "    <tr>\n",
       "      <th>1494919</th>\n",
       "      <td>0</td>\n",
       "      <td>0</td>\n",
       "      <td>5</td>\n",
       "      <td>42</td>\n",
       "      <td>0</td>\n",
       "      <td>0</td>\n",
       "      <td>0</td>\n",
       "    </tr>\n",
       "    <tr>\n",
       "      <th>1494920</th>\n",
       "      <td>0</td>\n",
       "      <td>0</td>\n",
       "      <td>18</td>\n",
       "      <td>9</td>\n",
       "      <td>0</td>\n",
       "      <td>0</td>\n",
       "      <td>0</td>\n",
       "    </tr>\n",
       "    <tr>\n",
       "      <th>1494921</th>\n",
       "      <td>0</td>\n",
       "      <td>0</td>\n",
       "      <td>17</td>\n",
       "      <td>20</td>\n",
       "      <td>0</td>\n",
       "      <td>0</td>\n",
       "      <td>0</td>\n",
       "    </tr>\n",
       "    <tr>\n",
       "      <th>1494922</th>\n",
       "      <td>0</td>\n",
       "      <td>0</td>\n",
       "      <td>8</td>\n",
       "      <td>8</td>\n",
       "      <td>0</td>\n",
       "      <td>0</td>\n",
       "      <td>0</td>\n",
       "    </tr>\n",
       "    <tr>\n",
       "      <th>1494923</th>\n",
       "      <td>0</td>\n",
       "      <td>0</td>\n",
       "      <td>8</td>\n",
       "      <td>9</td>\n",
       "      <td>0</td>\n",
       "      <td>0</td>\n",
       "      <td>0</td>\n",
       "    </tr>\n",
       "    <tr>\n",
       "      <th>1494924</th>\n",
       "      <td>0</td>\n",
       "      <td>0</td>\n",
       "      <td>3</td>\n",
       "      <td>39</td>\n",
       "      <td>0</td>\n",
       "      <td>0</td>\n",
       "      <td>0</td>\n",
       "    </tr>\n",
       "    <tr>\n",
       "      <th>1494925</th>\n",
       "      <td>0</td>\n",
       "      <td>0</td>\n",
       "      <td>5</td>\n",
       "      <td>25</td>\n",
       "      <td>0</td>\n",
       "      <td>0</td>\n",
       "      <td>0</td>\n",
       "    </tr>\n",
       "  </tbody>\n",
       "</table>\n",
       "<p>1494926 rows × 7 columns</p>\n",
       "</div>"
      ],
      "text/plain": [
       "         days  hours  minutes  seconds  milliseconds  microseconds  \\\n",
       "0           0      0        0        4             0             0   \n",
       "1           0      0        0        4             0             0   \n",
       "2           0      0        2       34             0             0   \n",
       "3           0      0        4        6             0             0   \n",
       "4           0      0        4        6             0             0   \n",
       "5           0      0        4       41             0             0   \n",
       "6           0      0        4       58             0             0   \n",
       "7           0      0        3       19             0             0   \n",
       "8           0      0        4       44             0             0   \n",
       "9           0      0        5       10             0             0   \n",
       "10          0      0        3       51             0             0   \n",
       "11          0      0        2        6             0             0   \n",
       "12          0      0        4       34             0             0   \n",
       "13          0      0        2       10             0             0   \n",
       "14          0      0        2       28             0             0   \n",
       "15          0      0        6       56             0             0   \n",
       "16          0      0        7       14             0             0   \n",
       "17          0      0        3       18             0             0   \n",
       "18          0      0        7       12             0             0   \n",
       "19          0      0        5       55             0             0   \n",
       "20          0      0        6       56             0             0   \n",
       "21          0      0        3       55             0             0   \n",
       "22          0      0        5       52             0             0   \n",
       "23          0      0        6       31             0             0   \n",
       "24          0      0        9       10             0             0   \n",
       "25          0      0        5       58             0             0   \n",
       "26          0      0        7       56             0             0   \n",
       "27          0      0        0       21             0             0   \n",
       "28          0      0        3        0             0             0   \n",
       "29          0      0        7       54             0             0   \n",
       "...       ...    ...      ...      ...           ...           ...   \n",
       "1494896     0      0       16       35             0             0   \n",
       "1494897     0      0        1       39             0             0   \n",
       "1494898     0      0        9       14             0             0   \n",
       "1494899     0      0       10        7             0             0   \n",
       "1494900     0      0       11       53             0             0   \n",
       "1494901     0      0       18       20             0             0   \n",
       "1494902     0      0        5       26             0             0   \n",
       "1494903     0      0        4       57             0             0   \n",
       "1494904     0      0        8       25             0             0   \n",
       "1494905     0      0        5       29             0             0   \n",
       "1494906     0      0        6       36             0             0   \n",
       "1494907     0      0        2       39             0             0   \n",
       "1494908     0      0       15       17             0             0   \n",
       "1494909     0      0        7       25             0             0   \n",
       "1494910     0      0        9       53             0             0   \n",
       "1494911     0      0        6       13             0             0   \n",
       "1494912     0      0        9        9             0             0   \n",
       "1494913     0      0       11        2             0             0   \n",
       "1494914     0      0        4       30             0             0   \n",
       "1494915     0      0       22       56             0             0   \n",
       "1494916     0      0       19       50             0             0   \n",
       "1494917     0      0        4       38             0             0   \n",
       "1494918     0      0        5       34             0             0   \n",
       "1494919     0      0        5       42             0             0   \n",
       "1494920     0      0       18        9             0             0   \n",
       "1494921     0      0       17       20             0             0   \n",
       "1494922     0      0        8        8             0             0   \n",
       "1494923     0      0        8        9             0             0   \n",
       "1494924     0      0        3       39             0             0   \n",
       "1494925     0      0        5       25             0             0   \n",
       "\n",
       "         nanoseconds  \n",
       "0                  0  \n",
       "1                  0  \n",
       "2                  0  \n",
       "3                  0  \n",
       "4                  0  \n",
       "5                  0  \n",
       "6                  0  \n",
       "7                  0  \n",
       "8                  0  \n",
       "9                  0  \n",
       "10                 0  \n",
       "11                 0  \n",
       "12                 0  \n",
       "13                 0  \n",
       "14                 0  \n",
       "15                 0  \n",
       "16                 0  \n",
       "17                 0  \n",
       "18                 0  \n",
       "19                 0  \n",
       "20                 0  \n",
       "21                 0  \n",
       "22                 0  \n",
       "23                 0  \n",
       "24                 0  \n",
       "25                 0  \n",
       "26                 0  \n",
       "27                 0  \n",
       "28                 0  \n",
       "29                 0  \n",
       "...              ...  \n",
       "1494896            0  \n",
       "1494897            0  \n",
       "1494898            0  \n",
       "1494899            0  \n",
       "1494900            0  \n",
       "1494901            0  \n",
       "1494902            0  \n",
       "1494903            0  \n",
       "1494904            0  \n",
       "1494905            0  \n",
       "1494906            0  \n",
       "1494907            0  \n",
       "1494908            0  \n",
       "1494909            0  \n",
       "1494910            0  \n",
       "1494911            0  \n",
       "1494912            0  \n",
       "1494913            0  \n",
       "1494914            0  \n",
       "1494915            0  \n",
       "1494916            0  \n",
       "1494917            0  \n",
       "1494918            0  \n",
       "1494919            0  \n",
       "1494920            0  \n",
       "1494921            0  \n",
       "1494922            0  \n",
       "1494923            0  \n",
       "1494924            0  \n",
       "1494925            0  \n",
       "\n",
       "[1494926 rows x 7 columns]"
      ]
     },
     "execution_count": 18,
     "metadata": {},
     "output_type": "execute_result"
    }
   ],
   "source": [
    "#Looking at the components of the time (of the trip duration)\n",
    "df['Trip_duration'].dt.components"
   ]
  },
  {
   "cell_type": "markdown",
   "metadata": {},
   "source": [
    "Now, since we want to calculate the duration only, we calculate the duration as the total seconds."
   ]
  },
  {
   "cell_type": "code",
   "execution_count": 19,
   "metadata": {
    "collapsed": false
   },
   "outputs": [],
   "source": [
    "#Converting the duration equal to total seconds\n",
    "df['Trip_duration']=df['Trip_duration'].astype('timedelta64[s]')"
   ]
  },
  {
   "cell_type": "markdown",
   "metadata": {},
   "source": [
    "Subsetting the data set with only those values of Trip duration which are greater than 0. This is necessary, otherwise it will result in infinite value of average speed"
   ]
  },
  {
   "cell_type": "code",
   "execution_count": 20,
   "metadata": {
    "collapsed": false
   },
   "outputs": [],
   "source": [
    "#Removing observations with duration=0\n",
    "df=df[df.Trip_duration >0]"
   ]
  },
  {
   "cell_type": "markdown",
   "metadata": {},
   "source": [
    "Since, Speed=Distance/Time, here. Average Speed= Trip Distance/Trip Duration\n",
    "The units of Avg_speed are Miles/second (in this case).\n",
    "To convert to miles/hour, we multiply it by 3600 (1 hour = 3600 seconds)."
   ]
  },
  {
   "cell_type": "code",
   "execution_count": 21,
   "metadata": {
    "collapsed": false
   },
   "outputs": [
    {
     "name": "stderr",
     "output_type": "stream",
     "text": [
      "C:\\Users\\sethi\\Anaconda3\\lib\\site-packages\\ipykernel\\__main__.py:2: SettingWithCopyWarning: \n",
      "A value is trying to be set on a copy of a slice from a DataFrame.\n",
      "Try using .loc[row_indexer,col_indexer] = value instead\n",
      "\n",
      "See the caveats in the documentation: http://pandas.pydata.org/pandas-docs/stable/indexing.html#indexing-view-versus-copy\n",
      "  from ipykernel import kernelapp as app\n",
      "C:\\Users\\sethi\\Anaconda3\\lib\\site-packages\\ipykernel\\__main__.py:4: SettingWithCopyWarning: \n",
      "A value is trying to be set on a copy of a slice from a DataFrame.\n",
      "Try using .loc[row_indexer,col_indexer] = value instead\n",
      "\n",
      "See the caveats in the documentation: http://pandas.pydata.org/pandas-docs/stable/indexing.html#indexing-view-versus-copy\n"
     ]
    },
    {
     "data": {
      "text/plain": [
       "count    1.493846e+06\n",
       "mean     1.579184e+01\n",
       "std      2.158942e+02\n",
       "min      0.000000e+00\n",
       "25%      9.313433e+00\n",
       "50%      1.176755e+01\n",
       "75%      1.506488e+01\n",
       "max      2.026800e+05\n",
       "Name: Avg_speed, dtype: float64"
      ]
     },
     "execution_count": 21,
     "metadata": {},
     "output_type": "execute_result"
    }
   ],
   "source": [
    "#Creating the average speed variable\n",
    "df['Avg_speed']= (df['Trip_distance'] / df['Trip_duration']) #miles/second\n",
    "\n",
    "df['Avg_speed']=df['Avg_speed']*3600  #miles/hour\n",
    "\n",
    "#Looking at the summary statistics of the Average speed\n",
    "df['Avg_speed'].describe()"
   ]
  },
  {
   "cell_type": "markdown",
   "metadata": {},
   "source": [
    "As we can see that the maximum value of Average speed is 2.026800e+05, which is impossible. It is due to some error in the data which I have showed at the last."
   ]
  },
  {
   "cell_type": "markdown",
   "metadata": {
    "collapsed": true
   },
   "source": [
    "Creating a new column \"Week\" which is the week ordinal of the year, considering the Dropoff time"
   ]
  },
  {
   "cell_type": "code",
   "execution_count": 22,
   "metadata": {
    "collapsed": false
   },
   "outputs": [
    {
     "name": "stderr",
     "output_type": "stream",
     "text": [
      "C:\\Users\\sethi\\Anaconda3\\lib\\site-packages\\ipykernel\\__main__.py:2: SettingWithCopyWarning: \n",
      "A value is trying to be set on a copy of a slice from a DataFrame.\n",
      "Try using .loc[row_indexer,col_indexer] = value instead\n",
      "\n",
      "See the caveats in the documentation: http://pandas.pydata.org/pandas-docs/stable/indexing.html#indexing-view-versus-copy\n",
      "  from ipykernel import kernelapp as app\n",
      "C:\\Users\\sethi\\Anaconda3\\lib\\site-packages\\ipykernel\\__main__.py:5: SettingWithCopyWarning: \n",
      "A value is trying to be set on a copy of a slice from a DataFrame.\n",
      "Try using .loc[row_indexer,col_indexer] = value instead\n",
      "\n",
      "See the caveats in the documentation: http://pandas.pydata.org/pandas-docs/stable/indexing.html#indexing-view-versus-copy\n"
     ]
    },
    {
     "data": {
      "text/plain": [
       "count     1493846\n",
       "unique          5\n",
       "top            37\n",
       "freq       363672\n",
       "Name: Week, dtype: int64"
      ]
     },
     "execution_count": 22,
     "metadata": {},
     "output_type": "execute_result"
    }
   ],
   "source": [
    "#Creating a new variable \"Week\"\n",
    "df['Week']=pd.DatetimeIndex(df['Lpep_dropoff_datetime']).week\n",
    "\n",
    "#Converting the Week variable into categorical type\n",
    "df['Week']=df.Week.astype('category')\n",
    "\n",
    "#Looking at its summary statistics\n",
    "df['Week'].describe()"
   ]
  },
  {
   "cell_type": "markdown",
   "metadata": {},
   "source": [
    "To calculate the average speed per week, we need to group the data by the week number and then calculate the mean of the average speed."
   ]
  },
  {
   "cell_type": "code",
   "execution_count": 23,
   "metadata": {
    "collapsed": false
   },
   "outputs": [
    {
     "data": {
      "text/plain": [
       "Week\n",
       "36    15.978631\n",
       "37    15.356781\n",
       "38    15.281045\n",
       "39    16.200527\n",
       "40    16.904883\n",
       "Name: Avg_speed, dtype: float64"
      ]
     },
     "execution_count": 23,
     "metadata": {},
     "output_type": "execute_result"
    }
   ],
   "source": [
    "#Grouping the data based on the week value and calculating the average speed in that week\n",
    "df.groupby('Week').Avg_speed.mean()"
   ]
  },
  {
   "cell_type": "markdown",
   "metadata": {},
   "source": [
    "From the numbers, it is quite evident that the average trip speeds are materially the same in all weeks of September 2015.\n",
    "But, it is always better to plot the same."
   ]
  },
  {
   "cell_type": "code",
   "execution_count": 24,
   "metadata": {
    "collapsed": false
   },
   "outputs": [
    {
     "data": {
      "text/plain": [
       "<matplotlib.text.Text at 0x2c3d54f8518>"
      ]
     },
     "execution_count": 24,
     "metadata": {},
     "output_type": "execute_result"
    },
    {
     "data": {
      "image/png": "[encoded data removed]",
      "text/plain": [
       "<matplotlib.figure.Figure at 0x2c3bd8734e0>"
      ]
     },
     "metadata": {},
     "output_type": "display_data"
    }
   ],
   "source": [
    "#importing the matplotlib library to plot the average speed across weeks in September\n",
    "import matplotlib.pyplot as plt\n",
    "%matplotlib inline\n",
    "\n",
    "Week=[36,37,38,39,40]\n",
    "Average_speed=[15.978631,15.356781,15.281045,16.200527,16.904883]\n",
    "\n",
    "plt.bar(Week,Average_speed)\n",
    "plt.xlabel('Week')\n",
    "plt.ylabel('Average Speed')\n",
    "plt.title('Average Speed during Weeks in September 2015')"
   ]
  },
  {
   "cell_type": "markdown",
   "metadata": {},
   "source": [
    "Inference- The average speed across the all the weeks in September have nearly the same average speed. This is justified because there were as such no special events in any of the weeks in September 2015 in New York."
   ]
  },
  {
   "cell_type": "markdown",
   "metadata": {},
   "source": [
    "To analyse the average speed as the function of time of the day, we will first create a new variable \"Hour\", which is the hour extracted from the pickup time."
   ]
  },
  {
   "cell_type": "code",
   "execution_count": 25,
   "metadata": {
    "collapsed": false
   },
   "outputs": [
    {
     "name": "stderr",
     "output_type": "stream",
     "text": [
      "C:\\Users\\sethi\\Anaconda3\\lib\\site-packages\\ipykernel\\__main__.py:2: SettingWithCopyWarning: \n",
      "A value is trying to be set on a copy of a slice from a DataFrame.\n",
      "Try using .loc[row_indexer,col_indexer] = value instead\n",
      "\n",
      "See the caveats in the documentation: http://pandas.pydata.org/pandas-docs/stable/indexing.html#indexing-view-versus-copy\n",
      "  from ipykernel import kernelapp as app\n"
     ]
    }
   ],
   "source": [
    "#Creating a column \"Hour\", which is the hour extracted from the pickup time\n",
    "df['Hour']=pd.DatetimeIndex(df['lpep_pickup_datetime']).hour"
   ]
  },
  {
   "cell_type": "markdown",
   "metadata": {},
   "source": [
    "To calculate the average speed per hour, we need to group the data by the hour value and then calculate the mean of the average speed for that hour."
   ]
  },
  {
   "cell_type": "code",
   "execution_count": 26,
   "metadata": {
    "collapsed": false
   },
   "outputs": [
    {
     "data": {
      "text/plain": [
       "Hour\n",
       "0     17.627781\n",
       "1     17.920955\n",
       "2     18.491873\n",
       "3     19.044242\n",
       "4     19.513797\n",
       "5     29.091177\n",
       "6     20.837229\n",
       "7     15.794756\n",
       "8     15.512551\n",
       "9     14.840761\n",
       "10    15.319964\n",
       "11    16.063268\n",
       "12    15.568542\n",
       "13    15.499389\n",
       "14    13.319543\n",
       "15    13.861156\n",
       "16    13.673805\n",
       "17    15.639893\n",
       "18    13.743963\n",
       "19    14.008072\n",
       "20    14.601560\n",
       "21    16.043777\n",
       "22    16.404644\n",
       "23    17.340058\n",
       "Name: Avg_speed, dtype: float64"
      ]
     },
     "execution_count": 26,
     "metadata": {},
     "output_type": "execute_result"
    }
   ],
   "source": [
    "#Grouping the data based on the hour value and calculating the average speed in that hour\n",
    "df.groupby('Hour').Avg_speed.mean()"
   ]
  },
  {
   "cell_type": "markdown",
   "metadata": {},
   "source": [
    "Plotting the line graph to show the average speed as a function of the time of the day."
   ]
  },
  {
   "cell_type": "code",
   "execution_count": 28,
   "metadata": {
    "collapsed": false
   },
   "outputs": [
    {
     "data": {
      "text/plain": [
       "<matplotlib.text.Text at 0x2c380cf4c88>"
      ]
     },
     "execution_count": 28,
     "metadata": {},
     "output_type": "execute_result"
    },
    {
     "data": {
      "image/png": "[encoded data removed]",
      "text/plain": [
       "<matplotlib.figure.Figure at 0x2c3d54f87f0>"
      ]
     },
     "metadata": {},
     "output_type": "display_data"
    }
   ],
   "source": [
    "import numpy as np\n",
    "\n",
    "Average_speed=[17.627177,17.920955,18.360816,18.934826,19.513797,29.091177,20.836070,15.794756,15.512551,14.840761\\\n",
    "               ,15.319245,16.062522,15.568066,15.499282,13.319543,13.861153,13.673630,13.335646,13.743497,14.007720\\\n",
    "               ,14.601226,16.043176,16.404302,17.340058]\n",
    "Hour=np.arange(0,24)\n",
    "\n",
    "plt.plot(Hour,Average_speed)\n",
    "plt.xlabel('Hour of the day')\n",
    "plt.ylabel('Average speed')\n",
    "plt.title('Average Speed across Hours of a Day in September 2015')"
   ]
  },
  {
   "cell_type": "markdown",
   "metadata": {},
   "source": [
    "Inference- We can see that there is a downward trend in the average speed from midnight till 8PM and then it starts to increase again. This is justified because, generally after 9PM, roads are less busy as compared to the other day time hours. So, on less busy roads, the average speed is more.\n",
    "Also, the average speed is comparitively less from 2PM to 6PM, which is generally the time for highest traffic in any city.\n",
    "The unsual spike at 5AM and also the maximum value of Average speed (max=2.026800e+05) is due to the erroneous data which I will show now."
   ]
  },
  {
   "cell_type": "markdown",
   "metadata": {},
   "source": [
    "To analyze the errors, I created another column (Trip_duration), which is the difference between the dropoff time and the pickup time.\n",
    "For this, we need to first convert the columns \"lpep_pickup_datetime\" and \"Lpep_dropoff_datetime\" to datetime type and then create the new column."
   ]
  },
  {
   "cell_type": "code",
   "execution_count": 29,
   "metadata": {
    "collapsed": false
   },
   "outputs": [
    {
     "name": "stderr",
     "output_type": "stream",
     "text": [
      "C:\\Users\\sethi\\Anaconda3\\lib\\site-packages\\pandas\\core\\indexing.py:465: SettingWithCopyWarning: \n",
      "A value is trying to be set on a copy of a slice from a DataFrame.\n",
      "Try using .loc[row_indexer,col_indexer] = value instead\n",
      "\n",
      "See the caveats in the documentation: http://pandas.pydata.org/pandas-docs/stable/indexing.html#indexing-view-versus-copy\n",
      "  self.obj[item] = s\n",
      "C:\\Users\\sethi\\Anaconda3\\lib\\site-packages\\ipykernel\\__main__.py:5: SettingWithCopyWarning: \n",
      "A value is trying to be set on a copy of a slice from a DataFrame.\n",
      "Try using .loc[row_indexer,col_indexer] = value instead\n",
      "\n",
      "See the caveats in the documentation: http://pandas.pydata.org/pandas-docs/stable/indexing.html#indexing-view-versus-copy\n"
     ]
    }
   ],
   "source": [
    "df.iloc[:,1:3] = df.iloc[:,1:3].apply(pd.to_datetime, errors='coerce') \n",
    "#Passing errors='coerce' to convert invalid data to NaT (not a time)\n",
    "\n",
    "#Creating the \"Trip_duration\" column\n",
    "df['Trip_duration']=df['Lpep_dropoff_datetime']-df['lpep_pickup_datetime']"
   ]
  },
  {
   "cell_type": "markdown",
   "metadata": {},
   "source": [
    "My hypothesis is that we should first check the trip duration for the trips with very large trip distance.\n",
    "\n",
    "If we look at the observations with trip distance greater than 100 miles, we find that some of the records are erroneous.\n",
    "So, these observations have non-natural (artificial outliers).\n",
    "The outliers lead to decrease in normality of the distribution,so it is better to remove them."
   ]
  },
  {
   "cell_type": "code",
   "execution_count": 32,
   "metadata": {
    "collapsed": false
   },
   "outputs": [
    {
     "data": {
      "text/html": [
       "<div>\n",
       "<table border=\"1\" class=\"dataframe\">\n",
       "  <thead>\n",
       "    <tr style=\"text-align: right;\">\n",
       "      <th></th>\n",
       "      <th>Trip_distance</th>\n",
       "      <th>Trip_duration</th>\n",
       "      <th>lpep_pickup_datetime</th>\n",
       "    </tr>\n",
       "  </thead>\n",
       "  <tbody>\n",
       "    <tr>\n",
       "      <th>478080</th>\n",
       "      <td>246.28</td>\n",
       "      <td>03:37:07</td>\n",
       "      <td>2015-09-10 21:15:00</td>\n",
       "    </tr>\n",
       "    <tr>\n",
       "      <th>516757</th>\n",
       "      <td>120.13</td>\n",
       "      <td>03:16:58</td>\n",
       "      <td>2015-09-11 17:22:50</td>\n",
       "    </tr>\n",
       "    <tr>\n",
       "      <th>885097</th>\n",
       "      <td>100.74</td>\n",
       "      <td>02:14:37</td>\n",
       "      <td>2015-09-18 20:21:27</td>\n",
       "    </tr>\n",
       "    <tr>\n",
       "      <th>944537</th>\n",
       "      <td>134.70</td>\n",
       "      <td>02:16:54</td>\n",
       "      <td>2015-09-19 18:49:29</td>\n",
       "    </tr>\n",
       "    <tr>\n",
       "      <th>1077032</th>\n",
       "      <td>105.65</td>\n",
       "      <td>01:58:06</td>\n",
       "      <td>2015-09-22 10:30:53</td>\n",
       "    </tr>\n",
       "    <tr>\n",
       "      <th>1282594</th>\n",
       "      <td>108.62</td>\n",
       "      <td>06:36:08</td>\n",
       "      <td>2015-09-26 17:23:52</td>\n",
       "    </tr>\n",
       "    <tr>\n",
       "      <th>1321961</th>\n",
       "      <td>603.10</td>\n",
       "      <td>00:10:24</td>\n",
       "      <td>2015-09-27 03:13:48</td>\n",
       "    </tr>\n",
       "    <tr>\n",
       "      <th>1416994</th>\n",
       "      <td>112.60</td>\n",
       "      <td>06:09:31</td>\n",
       "      <td>2015-09-29 10:45:52</td>\n",
       "    </tr>\n",
       "    <tr>\n",
       "      <th>1432692</th>\n",
       "      <td>112.60</td>\n",
       "      <td>00:00:02</td>\n",
       "      <td>2015-09-29 17:01:17</td>\n",
       "    </tr>\n",
       "  </tbody>\n",
       "</table>\n",
       "</div>"
      ],
      "text/plain": [
       "         Trip_distance  Trip_duration lpep_pickup_datetime\n",
       "478080          246.28       03:37:07  2015-09-10 21:15:00\n",
       "516757          120.13       03:16:58  2015-09-11 17:22:50\n",
       "885097          100.74       02:14:37  2015-09-18 20:21:27\n",
       "944537          134.70       02:16:54  2015-09-19 18:49:29\n",
       "1077032         105.65       01:58:06  2015-09-22 10:30:53\n",
       "1282594         108.62       06:36:08  2015-09-26 17:23:52\n",
       "1321961         603.10       00:10:24  2015-09-27 03:13:48\n",
       "1416994         112.60       06:09:31  2015-09-29 10:45:52\n",
       "1432692         112.60       00:00:02  2015-09-29 17:01:17"
      ]
     },
     "execution_count": 32,
     "metadata": {},
     "output_type": "execute_result"
    }
   ],
   "source": [
    "#subsetting data with trip distance greater than 100 miles\n",
    "df1=df[df.Trip_distance>=100]\n",
    "\n",
    "#selecting only Trip_distance and Trip_duration columns\n",
    "df1.loc[:,['Trip_distance','Trip_duration']]"
   ]
  },
  {
   "cell_type": "markdown",
   "metadata": {},
   "source": [
    "We can see the following anomalies:\n",
    "1. (1321961) the trip of 603.10 miles was completed in 10 minutes 24 seconds, which is not possible.\n",
    "2. (1432692) the trip of 112.60 miles was completed in mere 2 seconds, which is not at all possible.\n",
    "\n",
    "Similarly, we can find more anomalies if we further drill down the data.\n",
    "\n",
    "Now, I will again calculate the average speed statistics, after subsetting the data by removing trips with Trip distance > 100."
   ]
  },
  {
   "cell_type": "code",
   "execution_count": 42,
   "metadata": {
    "collapsed": false
   },
   "outputs": [
    {
     "data": {
      "text/plain": [
       "count    1.493837e+06\n",
       "mean     1.565373e+01\n",
       "std      1.382306e+02\n",
       "min      0.000000e+00\n",
       "25%      9.313433e+00\n",
       "50%      1.176755e+01\n",
       "75%      1.506475e+01\n",
       "max      4.572000e+04\n",
       "Name: Avg_speed, dtype: float64"
      ]
     },
     "execution_count": 42,
     "metadata": {},
     "output_type": "execute_result"
    }
   ],
   "source": [
    "#Removing trips with trip distance greater than 100 miles\n",
    "df2=df[df.Trip_distance < 100]\n",
    "\n",
    "#Looking at the summary statistics of the Average speed\n",
    "df2['Avg_speed'].describe()"
   ]
  },
  {
   "cell_type": "code",
   "execution_count": 48,
   "metadata": {
    "collapsed": false
   },
   "outputs": [
    {
     "data": {
      "text/plain": [
       "count    1.493837e+06\n",
       "mean     1.565373e+01\n",
       "std      1.382306e+02\n",
       "min      0.000000e+00\n",
       "25%      9.313433e+00\n",
       "50%      1.176755e+01\n",
       "75%      1.506475e+01\n",
       "max      4.572000e+04\n",
       "Name: Avg_speed, dtype: float64"
      ]
     },
     "execution_count": 48,
     "metadata": {},
     "output_type": "execute_result"
    }
   ],
   "source": [
    "#Removing trips with trip distance greater than 100 miles\n",
    "df2=df[df.Trip_distance < 100]\n",
    "\n",
    "#Looking at the summary statistics of the Average speed\n",
    "df2['Avg_speed'].describe()"
   ]
  },
  {
   "cell_type": "markdown",
   "metadata": {},
   "source": [
    "Inference-The maximum value of the Average speed decrease by 1 power of 10, but still it is very large. This can be attributed to the fact that there are more anomalies in the data, which I could have found out if there was more time."
   ]
  }
 ],
 "metadata": {
  "anaconda-cloud": {},
  "kernelspec": {
   "display_name": "Python [conda root]",
   "language": "python",
   "name": "conda-root-py"
  },
  "language_info": {
   "codemirror_mode": {
    "name": "ipython",
    "version": 3
   },
   "file_extension": ".py",
   "mimetype": "text/x-python",
   "name": "python",
   "nbconvert_exporter": "python",
   "pygments_lexer": "ipython3",
   "version": "3.5.2"
  }
 },
 "nbformat": 4,
 "nbformat_minor": 1
}
