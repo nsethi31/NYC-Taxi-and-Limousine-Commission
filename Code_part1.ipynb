{
 "cells": [
  {
   "cell_type": "markdown",
   "metadata": {},
   "source": [
    "Data Dictionary used- http://www.nyc.gov/html/tlc/downloads/pdf/data_dictionary_trip_records_green.pdf"
   ]
  },
  {
   "cell_type": "markdown",
   "metadata": {},
   "source": [
    "Question 1\n",
    "1. Programmatically download and load into your favorite analytical tool the trip data for September 2015.\n",
    "2. Report how many rows and columns of data you have loaded."
   ]
  },
  {
   "cell_type": "markdown",
   "metadata": {},
   "source": [
    "Downloading the data from the url containing the required csv file for September 2015 Green Taxis data using \"pandas.read_table\" which has \"tab (\\t)\" as default delimiter . So used \"comma (,)\" as the separator for csv file."
   ]
  },
  {
   "cell_type": "code",
   "execution_count": 1,
   "metadata": {
    "collapsed": false
   },
   "outputs": [],
   "source": [
    "#importing the pandas library for data analysis\n",
    "import pandas as pd\n",
    "\n",
    "#loading the data set\n",
    "data=pd.read_table(\"https://s3.amazonaws.com/nyc-tlc/trip+data/green_tripdata_2015-09.csv\",sep=',')"
   ]
  },
  {
   "cell_type": "code",
   "execution_count": 2,
   "metadata": {
    "collapsed": false
   },
   "outputs": [
    {
     "data": {
      "text/plain": [
       "(1494926, 21)"
      ]
     },
     "execution_count": 2,
     "metadata": {},
     "output_type": "execute_result"
    }
   ],
   "source": [
    "#looking at the dimensions of the data set loaded\n",
    "data.shape"
   ]
  },
  {
   "cell_type": "markdown",
   "metadata": {},
   "source": [
    "Inference-1494926 rows and 21 columns were loaded."
   ]
  },
  {
   "cell_type": "code",
   "execution_count": 3,
   "metadata": {
    "collapsed": false
   },
   "outputs": [
    {
     "data": {
      "text/plain": [
       "Index(['VendorID', 'lpep_pickup_datetime', 'Lpep_dropoff_datetime',\n",
       "       'Store_and_fwd_flag', 'RateCodeID', 'Pickup_longitude',\n",
       "       'Pickup_latitude', 'Dropoff_longitude', 'Dropoff_latitude',\n",
       "       'Passenger_count', 'Trip_distance', 'Fare_amount', 'Extra', 'MTA_tax',\n",
       "       'Tip_amount', 'Tolls_amount', 'Ehail_fee', 'improvement_surcharge',\n",
       "       'Total_amount', 'Payment_type', 'Trip_type '],\n",
       "      dtype='object')"
      ]
     },
     "execution_count": 3,
     "metadata": {},
     "output_type": "execute_result"
    }
   ],
   "source": [
    "#displaying the column names\n",
    "data.columns"
   ]
  },
  {
   "cell_type": "code",
   "execution_count": 4,
   "metadata": {
    "collapsed": false
   },
   "outputs": [
    {
     "name": "stdout",
     "output_type": "stream",
     "text": [
      "VendorID                       0\n",
      "lpep_pickup_datetime           0\n",
      "Lpep_dropoff_datetime          0\n",
      "Store_and_fwd_flag             0\n",
      "RateCodeID                     0\n",
      "Pickup_longitude               0\n",
      "Pickup_latitude                0\n",
      "Dropoff_longitude              0\n",
      "Dropoff_latitude               0\n",
      "Passenger_count                0\n",
      "Trip_distance                  0\n",
      "Fare_amount                    0\n",
      "Extra                          0\n",
      "MTA_tax                        0\n",
      "Tip_amount                     0\n",
      "Tolls_amount                   0\n",
      "Ehail_fee                1494926\n",
      "improvement_surcharge          0\n",
      "Total_amount                   0\n",
      "Payment_type                   0\n",
      "Trip_type                      4\n",
      "dtype: int64\n"
     ]
    }
   ],
   "source": [
    "#making a copy of the data set\n",
    "df=data\n",
    "\n",
    "#checking the number of missing values in each column\n",
    "print(data.isnull().sum())"
   ]
  },
  {
   "cell_type": "markdown",
   "metadata": {},
   "source": [
    "Inference-'Ehail_fee' column has all missing values. So we have to remove it."
   ]
  },
  {
   "cell_type": "code",
   "execution_count": 5,
   "metadata": {
    "collapsed": false
   },
   "outputs": [
    {
     "data": {
      "text/plain": [
       "Index(['VendorID', 'lpep_pickup_datetime', 'Lpep_dropoff_datetime',\n",
       "       'Store_and_fwd_flag', 'RateCodeID', 'Pickup_longitude',\n",
       "       'Pickup_latitude', 'Dropoff_longitude', 'Dropoff_latitude',\n",
       "       'Passenger_count', 'Trip_distance', 'Fare_amount', 'Extra', 'MTA_tax',\n",
       "       'Tip_amount', 'Tolls_amount', 'improvement_surcharge', 'Total_amount',\n",
       "       'Payment_type', 'Trip_type '],\n",
       "      dtype='object')"
      ]
     },
     "execution_count": 5,
     "metadata": {},
     "output_type": "execute_result"
    }
   ],
   "source": [
    "#removing 'Ehail_fee' column from the data set\n",
    "df.drop('Ehail_fee', axis=1, inplace=True)\n",
    "#axis=1 refers to the column axis and inplace=True means that make the change in the original data set\n",
    "\n",
    "#checking the columns in the data (checking whether 'Ehail_fee' is removed)\n",
    "df.columns"
   ]
  },
  {
   "cell_type": "markdown",
   "metadata": {},
   "source": [
    "Question 2\n",
    "1. Plot a histogram of the number of the trip distance (\"Trip Distance\").\n",
    "2. Report any structure you find and any hypotheses you have about that structure."
   ]
  },
  {
   "cell_type": "markdown",
   "metadata": {},
   "source": [
    "Plotting the histogram using the \"matplotlib\" library. I am also using the inline function to display the plot in the notebook itself inline with the code, so that we don't need the matplotlib.show() function to display the plot in a new window."
   ]
  },
  {
   "cell_type": "code",
   "execution_count": 6,
   "metadata": {
    "collapsed": false
   },
   "outputs": [
    {
     "data": {
      "text/plain": [
       "<matplotlib.text.Text at 0x1ce8edae6d8>"
      ]
     },
     "execution_count": 6,
     "metadata": {},
     "output_type": "execute_result"
    },
    {
     "data": {
      "image/png": "[encoded data removed]",
      "text/plain": [
       "<matplotlib.figure.Figure at 0x1ce8e474208>"
      ]
     },
     "metadata": {},
     "output_type": "display_data"
    }
   ],
   "source": [
    "#importing matplotlib library \n",
    "import matplotlib.pyplot as plt\n",
    "%matplotlib inline\n",
    "\n",
    "#plotting the histogram of Trip_distance\n",
    "plt.hist(df['Trip_distance']) #number of bins=10 and histtype='bar' - by default\n",
    "plt.xlabel('Trip distance in miles') #x-axis label\n",
    "plt.ylabel('Number of trips') #y-axis label\n",
    "plt.title('Distribution of Trip_distance') #plot title"
   ]
  },
  {
   "cell_type": "markdown",
   "metadata": {
    "collapsed": true
   },
   "source": [
    "Inference-The structure obtained is highly right skewed (as evident from the histogram). There are only a handful of trips which covered a distance more than 60 miles. This can be explained by calculating the count of trips with distance greater than 60 miles."
   ]
  },
  {
   "cell_type": "code",
   "execution_count": 7,
   "metadata": {
    "collapsed": false
   },
   "outputs": [
    {
     "name": "stdout",
     "output_type": "stream",
     "text": [
      "37\n",
      "63725       62.34\n",
      "66118       69.50\n",
      "82572       69.50\n",
      "82587       69.50\n",
      "172150      69.27\n",
      "202704      89.15\n",
      "213326      73.89\n",
      "230596      60.64\n",
      "295496      68.08\n",
      "317951      66.09\n",
      "375079      94.38\n",
      "478080     246.28\n",
      "485857      76.70\n",
      "488361      76.70\n",
      "516757     120.13\n",
      "565057      76.03\n",
      "768366      65.09\n",
      "885097     100.74\n",
      "898176      66.34\n",
      "933777      98.51\n",
      "944537     134.70\n",
      "960955      77.70\n",
      "1004188     64.90\n",
      "1041503     61.15\n",
      "1059850     62.18\n",
      "1077032    105.65\n",
      "1143126     67.60\n",
      "1160937     61.21\n",
      "1236955     71.11\n",
      "1282594    108.62\n",
      "1321961    603.10\n",
      "1416994    112.60\n",
      "1419485     90.92\n",
      "1429046     89.80\n",
      "1432559     69.80\n",
      "1432692    112.60\n",
      "1457965    108.50\n",
      "Name: Trip_distance, dtype: float64\n"
     ]
    }
   ],
   "source": [
    "#printing the number of trips greater than 60 miles and also the distances of these trips\n",
    "print((df.loc[df.Trip_distance > 60,'Trip_distance']).count())\n",
    "print((df.loc[df.Trip_distance > 60,'Trip_distance']))"
   ]
  },
  {
   "cell_type": "markdown",
   "metadata": {},
   "source": [
    "Inference-We can see that there are a few outliers due to which the distribution of Trip_distance is what we obtained. \n",
    "Also, it is quite evident that almost all the trips covered distance between 0 to 60 miles. Only a handful trips were long. If we remove these observations and then plot the histogram, I believe the distribution will be better than what we have obtained. "
   ]
  },
  {
   "cell_type": "code",
   "execution_count": 8,
   "metadata": {
    "collapsed": false
   },
   "outputs": [
    {
     "data": {
      "text/plain": [
       "<matplotlib.text.Text at 0x1ce8ee8c630>"
      ]
     },
     "execution_count": 8,
     "metadata": {},
     "output_type": "execute_result"
    },
    {
     "data": {
      "image/png": "[encoded data removed]",
      "text/plain": [
       "<matplotlib.figure.Figure at 0x1ce8ee1cb70>"
      ]
     },
     "metadata": {},
     "output_type": "display_data"
    }
   ],
   "source": [
    "#subsetting the data with only the trips which have distance < 60 miles\n",
    "df1=df[df.Trip_distance<60]\n",
    "\n",
    "#plotting the histogram of Trip_distance again\n",
    "plt.hist(df1['Trip_distance'],bins=15) #number of bins=15 \n",
    "plt.xlabel('Trip distance in miles') #x-axis label\n",
    "plt.ylabel('Number of trips') #y-axis label\n",
    "plt.title('Distribution of Trip_distance') #plot title"
   ]
  },
  {
   "cell_type": "markdown",
   "metadata": {},
   "source": [
    "Inference-The histogram obtained now more clearly shows the distribution of the trip distance. Still we can hardly observe any bars beyond 20 miles.\n",
    "\n",
    "Further, I tried to subset the data with the trips having distance less than 20 miles."
   ]
  },
  {
   "cell_type": "code",
   "execution_count": 9,
   "metadata": {
    "collapsed": false
   },
   "outputs": [
    {
     "data": {
      "text/plain": [
       "<matplotlib.text.Text at 0x1ce8ef22748>"
      ]
     },
     "execution_count": 9,
     "metadata": {},
     "output_type": "execute_result"
    },
    {
     "data": {
      "image/png": "[encoded data removed]",
      "text/plain": [
       "<matplotlib.figure.Figure at 0x1ced630f9b0>"
      ]
     },
     "metadata": {},
     "output_type": "display_data"
    }
   ],
   "source": [
    "#subsetting the data with only the trips which have distance < 20 miles\n",
    "df1=df[df.Trip_distance<20]\n",
    "\n",
    "#plotting the histogram of Trip_distance again\n",
    "plt.hist(df1['Trip_distance'],bins=15) #number of bins=15 \n",
    "plt.xlabel('Trip distance in miles') #x-axis label\n",
    "plt.ylabel('Number of trips') #y-axis label\n",
    "plt.title('Distribution of Trip_distance') #plot title"
   ]
  },
  {
   "cell_type": "markdown",
   "metadata": {},
   "source": [
    "Inference- The distribution was very highly right-skewed initially. Further, when I subsetted the data with trip_distance < 60 miles, the skewness decreased only a little bit. But, with the final subset of data (with trip_distance < 20 miles), the distribution was much better than the two cases before, but still it was right skewed.\n",
    "\n",
    "For the next parts, I am moving forward with this subset of data (only with trip_distance < 20 miles)."
   ]
  },
  {
   "cell_type": "code",
   "execution_count": 10,
   "metadata": {
    "collapsed": false
   },
   "outputs": [
    {
     "data": {
      "text/plain": [
       "(1491532, 20)"
      ]
     },
     "execution_count": 10,
     "metadata": {},
     "output_type": "execute_result"
    }
   ],
   "source": [
    "##looking at the dimensions of the data set\n",
    "df1.shape"
   ]
  },
  {
   "cell_type": "markdown",
   "metadata": {},
   "source": [
    "Question 3\n",
    "1. Report mean and median trip distance grouped by hour of day."
   ]
  },
  {
   "cell_type": "markdown",
   "metadata": {},
   "source": [
    "I have considered the Pickup time from where the Hour value will be extracted.\n",
    "For this, I will create a new column where the value of Hour extracted from the variable-lpep_pickup_datetime will be stored.\n",
    "Then, I created groups based on the hour value and then calculated the mean and the median of the trip distance using NumPy functions."
   ]
  },
  {
   "cell_type": "code",
   "execution_count": 11,
   "metadata": {
    "collapsed": false,
    "scrolled": false
   },
   "outputs": [
    {
     "name": "stderr",
     "output_type": "stream",
     "text": [
      "C:\\Users\\sethi\\Anaconda3\\lib\\site-packages\\ipykernel\\__main__.py:2: SettingWithCopyWarning: \n",
      "A value is trying to be set on a copy of a slice from a DataFrame.\n",
      "Try using .loc[row_indexer,col_indexer] = value instead\n",
      "\n",
      "See the caveats in the documentation: http://pandas.pydata.org/pandas-docs/stable/indexing.html#indexing-view-versus-copy\n",
      "  from ipykernel import kernelapp as app\n"
     ]
    },
    {
     "data": {
      "text/html": [
       "<div>\n",
       "<table border=\"1\" class=\"dataframe\">\n",
       "  <thead>\n",
       "    <tr style=\"text-align: right;\">\n",
       "      <th></th>\n",
       "      <th>mean</th>\n",
       "      <th>median</th>\n",
       "    </tr>\n",
       "    <tr>\n",
       "      <th>Hour</th>\n",
       "      <th></th>\n",
       "      <th></th>\n",
       "    </tr>\n",
       "  </thead>\n",
       "  <tbody>\n",
       "    <tr>\n",
       "      <th>0</th>\n",
       "      <td>3.074820</td>\n",
       "      <td>2.20</td>\n",
       "    </tr>\n",
       "    <tr>\n",
       "      <th>1</th>\n",
       "      <td>2.978560</td>\n",
       "      <td>2.12</td>\n",
       "    </tr>\n",
       "    <tr>\n",
       "      <th>2</th>\n",
       "      <td>2.997813</td>\n",
       "      <td>2.14</td>\n",
       "    </tr>\n",
       "    <tr>\n",
       "      <th>3</th>\n",
       "      <td>3.134582</td>\n",
       "      <td>2.20</td>\n",
       "    </tr>\n",
       "    <tr>\n",
       "      <th>4</th>\n",
       "      <td>3.438384</td>\n",
       "      <td>2.34</td>\n",
       "    </tr>\n",
       "    <tr>\n",
       "      <th>5</th>\n",
       "      <td>4.034607</td>\n",
       "      <td>2.88</td>\n",
       "    </tr>\n",
       "    <tr>\n",
       "      <th>6</th>\n",
       "      <td>3.927335</td>\n",
       "      <td>2.82</td>\n",
       "    </tr>\n",
       "    <tr>\n",
       "      <th>7</th>\n",
       "      <td>3.222625</td>\n",
       "      <td>2.16</td>\n",
       "    </tr>\n",
       "    <tr>\n",
       "      <th>8</th>\n",
       "      <td>2.994085</td>\n",
       "      <td>1.97</td>\n",
       "    </tr>\n",
       "    <tr>\n",
       "      <th>9</th>\n",
       "      <td>2.944555</td>\n",
       "      <td>1.95</td>\n",
       "    </tr>\n",
       "    <tr>\n",
       "      <th>10</th>\n",
       "      <td>2.889217</td>\n",
       "      <td>1.91</td>\n",
       "    </tr>\n",
       "    <tr>\n",
       "      <th>11</th>\n",
       "      <td>2.846158</td>\n",
       "      <td>1.87</td>\n",
       "    </tr>\n",
       "    <tr>\n",
       "      <th>12</th>\n",
       "      <td>2.840140</td>\n",
       "      <td>1.88</td>\n",
       "    </tr>\n",
       "    <tr>\n",
       "      <th>13</th>\n",
       "      <td>2.815002</td>\n",
       "      <td>1.84</td>\n",
       "    </tr>\n",
       "    <tr>\n",
       "      <th>14</th>\n",
       "      <td>2.794771</td>\n",
       "      <td>1.82</td>\n",
       "    </tr>\n",
       "    <tr>\n",
       "      <th>15</th>\n",
       "      <td>2.789602</td>\n",
       "      <td>1.80</td>\n",
       "    </tr>\n",
       "    <tr>\n",
       "      <th>16</th>\n",
       "      <td>2.725254</td>\n",
       "      <td>1.80</td>\n",
       "    </tr>\n",
       "    <tr>\n",
       "      <th>17</th>\n",
       "      <td>2.636094</td>\n",
       "      <td>1.77</td>\n",
       "    </tr>\n",
       "    <tr>\n",
       "      <th>18</th>\n",
       "      <td>2.616516</td>\n",
       "      <td>1.80</td>\n",
       "    </tr>\n",
       "    <tr>\n",
       "      <th>19</th>\n",
       "      <td>2.686459</td>\n",
       "      <td>1.85</td>\n",
       "    </tr>\n",
       "    <tr>\n",
       "      <th>20</th>\n",
       "      <td>2.742251</td>\n",
       "      <td>1.90</td>\n",
       "    </tr>\n",
       "    <tr>\n",
       "      <th>21</th>\n",
       "      <td>2.957649</td>\n",
       "      <td>2.03</td>\n",
       "    </tr>\n",
       "    <tr>\n",
       "      <th>22</th>\n",
       "      <td>3.134980</td>\n",
       "      <td>2.19</td>\n",
       "    </tr>\n",
       "    <tr>\n",
       "      <th>23</th>\n",
       "      <td>3.154673</td>\n",
       "      <td>2.21</td>\n",
       "    </tr>\n",
       "  </tbody>\n",
       "</table>\n",
       "</div>"
      ],
      "text/plain": [
       "          mean  median\n",
       "Hour                  \n",
       "0     3.074820    2.20\n",
       "1     2.978560    2.12\n",
       "2     2.997813    2.14\n",
       "3     3.134582    2.20\n",
       "4     3.438384    2.34\n",
       "5     4.034607    2.88\n",
       "6     3.927335    2.82\n",
       "7     3.222625    2.16\n",
       "8     2.994085    1.97\n",
       "9     2.944555    1.95\n",
       "10    2.889217    1.91\n",
       "11    2.846158    1.87\n",
       "12    2.840140    1.88\n",
       "13    2.815002    1.84\n",
       "14    2.794771    1.82\n",
       "15    2.789602    1.80\n",
       "16    2.725254    1.80\n",
       "17    2.636094    1.77\n",
       "18    2.616516    1.80\n",
       "19    2.686459    1.85\n",
       "20    2.742251    1.90\n",
       "21    2.957649    2.03\n",
       "22    3.134980    2.19\n",
       "23    3.154673    2.21"
      ]
     },
     "execution_count": 11,
     "metadata": {},
     "output_type": "execute_result"
    }
   ],
   "source": [
    "#Creating a column \"Hour\"\n",
    "df1['Hour']=pd.DatetimeIndex(df1['lpep_pickup_datetime']).hour\n",
    "\n",
    "#importing NumPy library \n",
    "import numpy as np\n",
    "\n",
    "#Grouping the data based on the hour value and calculating mean and median\n",
    "df1.groupby(['Hour']).Trip_distance.agg([np.mean, np.median])"
   ]
  },
  {
   "cell_type": "markdown",
   "metadata": {},
   "source": [
    "Question 3\n",
    "2.  We'd like to get a rough sense of identifying trips that originate or terminate at one of the NYC area airports. Can you provide a count of how many transactions fit this criteria, the average fair, and any other interesting characteristics of these trips."
   ]
  },
  {
   "cell_type": "markdown",
   "metadata": {},
   "source": [
    "To calculate the distance between any airport and the pickup or dropoff location, I chose the LaGuardia Airport with the (Latitude,Longitude) = (40.7747222222,-73.8719444444).\n",
    "\n",
    "I tried calculating the exact distance using the Haversine formula using the math library, but it was taking a lot of time. So, I calculated the distance using NumPy, which uses vectorization, that results in faster calculation.\n",
    "\n",
    "The function for haversine using math library is as follows:\n",
    "\n",
    "import math\n",
    "def haversine(lat1, lon1, lat2, lon2):\n",
    "    radius = 3959                        #radius of Earth in miles=3959\n",
    "\n",
    "    dlat = math.radians(lat2-lat1)\n",
    "    dlon = math.radians(lon2-lon1)\n",
    "    a = math.sin(dlat/2) * math.sin(dlat/2) + math.cos(math.radians(lat1))* math.cos(math.radians(lat2)) * math.sin\\            (dlon/2) * math.sin(dlon/2)\n",
    "    c = 2 * math.atan2(math.sqrt(a), math.sqrt(1-a))\n",
    "    d = radius * c\n",
    "\n",
    "    return d"
   ]
  },
  {
   "cell_type": "code",
   "execution_count": 12,
   "metadata": {
    "collapsed": true
   },
   "outputs": [],
   "source": [
    "#creating a function to calculate the distance using NumPy\n",
    "def haversine_np(lat1,lon1):\n",
    "    \n",
    "    lat2=40.7747222222\n",
    "    lon2=-73.8719444444\n",
    "    lat1, lon1 = map(np.radians, [lat1, lon1])\n",
    "    lat2, lon2 = map(np.radians, [lat2, lon2])\n",
    "    dlon = lon2 - lon1\n",
    "    dlat = lat2 - lat1\n",
    "\n",
    "    a = np.sin(dlat/2.0)**2 + np.cos(lat1) * np.cos(lat2) * np.sin(dlon/2.0)**2\n",
    "\n",
    "    c = 2 * np.arcsin(np.sqrt(a))\n",
    "    d = 3959 * c\n",
    "    return d"
   ]
  },
  {
   "cell_type": "code",
   "execution_count": 13,
   "metadata": {
    "collapsed": false
   },
   "outputs": [
    {
     "name": "stderr",
     "output_type": "stream",
     "text": [
      "C:\\Users\\sethi\\Anaconda3\\lib\\site-packages\\ipykernel\\__main__.py:2: SettingWithCopyWarning: \n",
      "A value is trying to be set on a copy of a slice from a DataFrame.\n",
      "Try using .loc[row_indexer,col_indexer] = value instead\n",
      "\n",
      "See the caveats in the documentation: http://pandas.pydata.org/pandas-docs/stable/indexing.html#indexing-view-versus-copy\n",
      "  from ipykernel import kernelapp as app\n"
     ]
    },
    {
     "data": {
      "text/plain": [
       "0           8.372211\n",
       "1          11.955013\n",
       "2           2.328091\n",
       "3           3.120131\n",
       "4           5.619267\n",
       "5           4.704421\n",
       "6           1.298932\n",
       "7           4.006468\n",
       "8           7.880147\n",
       "9           1.752920\n",
       "10          5.045947\n",
       "11          1.288453\n",
       "12          5.443978\n",
       "13          6.425545\n",
       "14          4.483764\n",
       "15          8.831912\n",
       "16         10.806292\n",
       "17          7.236671\n",
       "18          5.048121\n",
       "19          3.767036\n",
       "20          7.735687\n",
       "21          1.214168\n",
       "22          7.137323\n",
       "23          7.307780\n",
       "24          4.327010\n",
       "25          1.782817\n",
       "26          0.052609\n",
       "27          2.844804\n",
       "28          4.729465\n",
       "29          6.595297\n",
       "             ...    \n",
       "1494896    10.155501\n",
       "1494897     3.564189\n",
       "1494898     7.067779\n",
       "1494899     5.861752\n",
       "1494900     6.245522\n",
       "1494901     5.143011\n",
       "1494902     8.978497\n",
       "1494903    14.341810\n",
       "1494904    10.490836\n",
       "1494905    13.480310\n",
       "1494906     6.779575\n",
       "1494907     2.215382\n",
       "1494908     2.125005\n",
       "1494909     8.211115\n",
       "1494910     5.765411\n",
       "1494911     3.216549\n",
       "1494912     3.825253\n",
       "1494913     2.691796\n",
       "1494914     3.977467\n",
       "1494915     5.777839\n",
       "1494916     2.169625\n",
       "1494917     7.203160\n",
       "1494918     3.622356\n",
       "1494919     5.314805\n",
       "1494920     7.287525\n",
       "1494921     4.476617\n",
       "1494922     9.531431\n",
       "1494923    10.204160\n",
       "1494924    13.211810\n",
       "1494925     7.251390\n",
       "Name: Dropoff_distance, dtype: float64"
      ]
     },
     "execution_count": 13,
     "metadata": {},
     "output_type": "execute_result"
    }
   ],
   "source": [
    "#calculating distance between the LaGuardia airport and the dropoff location\n",
    "df1['Dropoff_distance'] = haversine_np(df['Dropoff_latitude'],df['Dropoff_longitude'])\n",
    "df1['Dropoff_distance']"
   ]
  },
  {
   "cell_type": "code",
   "execution_count": 14,
   "metadata": {
    "collapsed": false
   },
   "outputs": [
    {
     "name": "stderr",
     "output_type": "stream",
     "text": [
      "C:\\Users\\sethi\\Anaconda3\\lib\\site-packages\\ipykernel\\__main__.py:2: SettingWithCopyWarning: \n",
      "A value is trying to be set on a copy of a slice from a DataFrame.\n",
      "Try using .loc[row_indexer,col_indexer] = value instead\n",
      "\n",
      "See the caveats in the documentation: http://pandas.pydata.org/pandas-docs/stable/indexing.html#indexing-view-versus-copy\n",
      "  from ipykernel import kernelapp as app\n"
     ]
    },
    {
     "data": {
      "text/plain": [
       "0           8.377410\n",
       "1          11.955706\n",
       "2           2.647058\n",
       "3           2.646330\n",
       "4           6.058276\n",
       "5           4.480122\n",
       "6           2.191971\n",
       "7           4.211292\n",
       "8           7.351684\n",
       "9           2.366170\n",
       "10          4.751804\n",
       "11          1.764528\n",
       "12          4.728618\n",
       "13          6.496463\n",
       "14          4.827388\n",
       "15          7.378676\n",
       "16         11.794346\n",
       "17          7.715051\n",
       "18          3.693204\n",
       "19          4.476931\n",
       "20          7.817133\n",
       "21          2.099408\n",
       "22          6.311372\n",
       "23          6.375366\n",
       "24          3.953409\n",
       "25          2.167124\n",
       "26          1.964409\n",
       "27          2.851526\n",
       "28          4.831435\n",
       "29          5.933797\n",
       "             ...    \n",
       "1494896     8.202674\n",
       "1494897     3.946384\n",
       "1494898     4.798895\n",
       "1494899     4.899603\n",
       "1494900     1.265618\n",
       "1494901     4.570197\n",
       "1494902     9.386904\n",
       "1494903    13.641242\n",
       "1494904     9.058219\n",
       "1494905    13.321532\n",
       "1494906     6.808187\n",
       "1494907     2.182355\n",
       "1494908     5.464526\n",
       "1494909     7.691372\n",
       "1494910     8.175285\n",
       "1494911     2.587870\n",
       "1494912     4.528026\n",
       "1494913     2.021724\n",
       "1494914     3.974371\n",
       "1494915     8.677484\n",
       "1494916     5.797457\n",
       "1494917     6.280715\n",
       "1494918     4.513296\n",
       "1494919     4.812376\n",
       "1494920     8.724570\n",
       "1494921     2.933908\n",
       "1494922     8.153598\n",
       "1494923     9.168551\n",
       "1494924    13.627081\n",
       "1494925     8.120222\n",
       "Name: Pickup_distance, dtype: float64"
      ]
     },
     "execution_count": 14,
     "metadata": {},
     "output_type": "execute_result"
    }
   ],
   "source": [
    "#calculating distance between the LaGuardia airport and the pickup location\n",
    "df1['Pickup_distance'] = haversine_np(df['Pickup_latitude'],df['Pickup_longitude'])\n",
    "df1['Pickup_distance']"
   ]
  },
  {
   "cell_type": "code",
   "execution_count": 15,
   "metadata": {
    "collapsed": false
   },
   "outputs": [
    {
     "data": {
      "text/plain": [
       "VendorID                   int64\n",
       "lpep_pickup_datetime      object\n",
       "Lpep_dropoff_datetime     object\n",
       "Store_and_fwd_flag        object\n",
       "RateCodeID                 int64\n",
       "Pickup_longitude         float64\n",
       "Pickup_latitude          float64\n",
       "Dropoff_longitude        float64\n",
       "Dropoff_latitude         float64\n",
       "Passenger_count            int64\n",
       "Trip_distance            float64\n",
       "Fare_amount              float64\n",
       "Extra                    float64\n",
       "MTA_tax                  float64\n",
       "Tip_amount               float64\n",
       "Tolls_amount             float64\n",
       "improvement_surcharge    float64\n",
       "Total_amount             float64\n",
       "Payment_type               int64\n",
       "Trip_type                float64\n",
       "Hour                       int32\n",
       "Dropoff_distance         float64\n",
       "Pickup_distance          float64\n",
       "dtype: object"
      ]
     },
     "execution_count": 15,
     "metadata": {},
     "output_type": "execute_result"
    }
   ],
   "source": [
    "df1.dtypes"
   ]
  },
  {
   "cell_type": "markdown",
   "metadata": {},
   "source": [
    "To check whether the trip originated or terminated at the LaGuardia Airport, I assumed a threshold of 0.1 miles, i.e if the pickup distance or dropoff distance is less than 0.1 miles, then the trip originated or terminated at the airport (assuming the size of an average airport).\n",
    "\n",
    "In order to select only such trips, I made a subset of the data which such condition."
   ]
  },
  {
   "cell_type": "code",
   "execution_count": 16,
   "metadata": {
    "collapsed": true
   },
   "outputs": [],
   "source": [
    "#Creating a new data frame satisfying the condition\n",
    "df_airport=df1[(df1.Pickup_distance < 0.1) | (df1.Dropoff_distance < 0.1)]"
   ]
  },
  {
   "cell_type": "code",
   "execution_count": 17,
   "metadata": {
    "collapsed": false
   },
   "outputs": [
    {
     "data": {
      "text/plain": [
       "(10071, 23)"
      ]
     },
     "execution_count": 17,
     "metadata": {},
     "output_type": "execute_result"
    }
   ],
   "source": [
    "#Looking at the dimensions of this data frame\n",
    "df_airport.shape"
   ]
  },
  {
   "cell_type": "markdown",
   "metadata": {},
   "source": [
    "Inference- 10071 trips either originated from or terminated at the LaGuardia Airport during September 2015. This number is very small as compared to the total number of trips. \n",
    "Next, I found the average total fare for these trips, i.e. the Total amount charged to the customers."
   ]
  },
  {
   "cell_type": "code",
   "execution_count": 18,
   "metadata": {
    "collapsed": false
   },
   "outputs": [
    {
     "data": {
      "text/plain": [
       "26.039665375829326"
      ]
     },
     "execution_count": 18,
     "metadata": {},
     "output_type": "execute_result"
    }
   ],
   "source": [
    "df_airport.Total_amount.mean()"
   ]
  },
  {
   "cell_type": "markdown",
   "metadata": {},
   "source": [
    "Inference-The average total fare for the trips to or from the airport was about $26. \n",
    "\n",
    "Now, I found some interesting characterstics about these trips. I calculated, separately, the number of trips that originated and those which terminated at the airport."
   ]
  },
  {
   "cell_type": "code",
   "execution_count": 19,
   "metadata": {
    "collapsed": false
   },
   "outputs": [
    {
     "name": "stdout",
     "output_type": "stream",
     "text": [
      "(100, 23)\n",
      "(10049, 23)\n"
     ]
    }
   ],
   "source": [
    "#Finding the number of trips that originated from the LaGuardia airport.\n",
    "df_airport_p=df1[(df1.Pickup_distance < 0.1)]\n",
    "print(df_airport_p.shape)\n",
    "\n",
    "#Finding the number of trips that terminated at the LaGuardia airport.\n",
    "df_airport_d=df1[(df1.Dropoff_distance < 0.1)]\n",
    "print(df_airport_d.shape)"
   ]
  },
  {
   "cell_type": "markdown",
   "metadata": {},
   "source": [
    "Inference- Only 100 trips started from the airport and around 10,000 ended at the airport. This can be attributed to the fact that customers tend to prefer taking other means of transportation rather than taking the green taxi, when it comes to leaving the airport."
   ]
  },
  {
   "cell_type": "markdown",
   "metadata": {},
   "source": [
    "By looking at the numbers separately, the total number of trips come out to be 100+10049=10149. But the overall picture was different, 10071. There is a difference of 10149-10071=78. These 78 trips were those where both the pickup and dropoff distance from the airport was less than 0.1 miles.\n",
    "This number is found below.\n",
    "Since, I assumed the threshold to be 0.1 miles, and the actual geographical spread of the airport would definitely differ from this, there is such descrepancy."
   ]
  },
  {
   "cell_type": "code",
   "execution_count": 20,
   "metadata": {
    "collapsed": false
   },
   "outputs": [
    {
     "data": {
      "text/plain": [
       "(78, 23)"
      ]
     },
     "execution_count": 20,
     "metadata": {},
     "output_type": "execute_result"
    }
   ],
   "source": [
    "df_airport_b=df1[(df1.Pickup_distance < 0.1) & (df1.Dropoff_distance < 0.1)]\n",
    "df_airport_b.shape"
   ]
  },
  {
   "cell_type": "markdown",
   "metadata": {},
   "source": [
    "Further, I tried to find the number of trips based on the time of the day when these trips to and from the airport were made by grouping the data based on the hour value of both pickup and dropoff time."
   ]
  },
  {
   "cell_type": "code",
   "execution_count": 21,
   "metadata": {
    "collapsed": false
   },
   "outputs": [
    {
     "name": "stdout",
     "output_type": "stream",
     "text": [
      "Hour\n",
      "0      2\n",
      "1      1\n",
      "3      4\n",
      "4      4\n",
      "5      9\n",
      "6     11\n",
      "7     11\n",
      "8      5\n",
      "9      4\n",
      "10     6\n",
      "11     5\n",
      "12     2\n",
      "13     4\n",
      "14     7\n",
      "15     8\n",
      "16     5\n",
      "17     2\n",
      "18     2\n",
      "19     2\n",
      "20     4\n",
      "21     2\n",
      "dtype: int64\n"
     ]
    },
    {
     "name": "stderr",
     "output_type": "stream",
     "text": [
      "C:\\Users\\sethi\\Anaconda3\\lib\\site-packages\\ipykernel\\__main__.py:2: SettingWithCopyWarning: \n",
      "A value is trying to be set on a copy of a slice from a DataFrame.\n",
      "Try using .loc[row_indexer,col_indexer] = value instead\n",
      "\n",
      "See the caveats in the documentation: http://pandas.pydata.org/pandas-docs/stable/indexing.html#indexing-view-versus-copy\n",
      "  from ipykernel import kernelapp as app\n"
     ]
    }
   ],
   "source": [
    "#Creating a column \"Hour\" based on the pickup time\n",
    "df_airport_p['Hour']=pd.DatetimeIndex(df_airport_p['lpep_pickup_datetime']).hour\n",
    "\n",
    "#Grouping the data based on the hour value of pickup time and calculating the number of trips\n",
    "print(df_airport_p.groupby(['Hour']).size())"
   ]
  },
  {
   "cell_type": "markdown",
   "metadata": {},
   "source": [
    "Inference-There were only 2 hours (6 & 7) where the maximum number of trips were made when compared to the other hours."
   ]
  },
  {
   "cell_type": "code",
   "execution_count": 22,
   "metadata": {
    "collapsed": false
   },
   "outputs": [
    {
     "name": "stdout",
     "output_type": "stream",
     "text": [
      "Hour\n",
      "0       7\n",
      "1      12\n",
      "2      18\n",
      "3     173\n",
      "4     467\n",
      "5     502\n",
      "6     566\n",
      "7     618\n",
      "8     678\n",
      "9     634\n",
      "10    635\n",
      "11    564\n",
      "12    593\n",
      "13    567\n",
      "14    691\n",
      "15    741\n",
      "16    726\n",
      "17    635\n",
      "18    600\n",
      "19    310\n",
      "20    140\n",
      "21     95\n",
      "22     44\n",
      "23     33\n",
      "dtype: int64\n"
     ]
    }
   ],
   "source": [
    "#Creating a column \"Hour\" based on the dropoff time\n",
    "#df_airport_d['Hour']=pd.DatetimeIndex(df_airport_d['lpep_pickup_datetime']).hour\n",
    "\n",
    "#Grouping the data based on the hour value of dropoff time and calculating the number of trips\n",
    "print(df_airport_d.groupby(['Hour']).size())"
   ]
  },
  {
   "cell_type": "markdown",
   "metadata": {},
   "source": [
    "Inference-The majority of these trips were made from 4 in the morning to 7 in the evening. During the night hours, the number of trips drop down significantly. It can be assumed that the customers prefer taking other transportation facility at night over the green taxis due to safety reasons, i.e. they are not comfortable traveling with green taxis at night."
   ]
  },
  {
   "cell_type": "markdown",
   "metadata": {},
   "source": [
    "Question 4\n",
    "1. Build a derived variable for tip as a percentage of the total fare."
   ]
  },
  {
   "cell_type": "markdown",
   "metadata": {},
   "source": [
    "For this, I have used the following calculation- (Tip_amount/Total_amount)*100 and stored the values in a new variable named Tip_percent.\n",
    "But before creating, since the tip details are not present for cash payments, it is better to remove the trips which involved cash payment. So, I subsetted the dataframe satisfying this condition.\n",
    "Also, I checked the values in the Tip_amount and found some negative values. So I removed the trips with negative tip amounts as tips can't be negative. For this, I didn't consider the trips with cash payment."
   ]
  },
  {
   "cell_type": "code",
   "execution_count": 23,
   "metadata": {
    "collapsed": false
   },
   "outputs": [
    {
     "data": {
      "text/plain": [
       "count    703853.000000\n",
       "mean          2.589965\n",
       "std           2.866505\n",
       "min         -50.000000\n",
       "25%           1.160000\n",
       "50%           2.000000\n",
       "75%           3.350000\n",
       "max         300.000000\n",
       "Name: Tip_amount, dtype: float64"
      ]
     },
     "execution_count": 23,
     "metadata": {},
     "output_type": "execute_result"
    }
   ],
   "source": [
    "#Checking the summary statistics of Tip_amount\n",
    "df1[df1.Payment_type.isin([1,4,5,6])].Tip_amount.describe()"
   ]
  },
  {
   "cell_type": "code",
   "execution_count": 24,
   "metadata": {
    "collapsed": false
   },
   "outputs": [
    {
     "data": {
      "text/plain": [
       "(1491494, 23)"
      ]
     },
     "execution_count": 24,
     "metadata": {},
     "output_type": "execute_result"
    }
   ],
   "source": [
    "#Removing the trips with negative tip amount\n",
    "df1=df1[df1.Tip_amount>=0]\n",
    "\n",
    "#Looking at the dimensions of this data set\n",
    "df1.shape"
   ]
  },
  {
   "cell_type": "markdown",
   "metadata": {},
   "source": [
    "Since, the data doesn't contain information about the tip for trips with cash payment, I have removed such trips from the data."
   ]
  },
  {
   "cell_type": "code",
   "execution_count": 25,
   "metadata": {
    "collapsed": false
   },
   "outputs": [
    {
     "data": {
      "text/plain": [
       "(709280, 23)"
      ]
     },
     "execution_count": 25,
     "metadata": {},
     "output_type": "execute_result"
    }
   ],
   "source": [
    "#Removing the trips with cash payment, i.e. Payment type=2\n",
    "df1=df1[df1.Payment_type!=2]\n",
    "\n",
    "#Looking at the dimensions of this data set\n",
    "df1.shape"
   ]
  },
  {
   "cell_type": "markdown",
   "metadata": {},
   "source": [
    "Now, analyzing the trips with other payment types-3,4,5,6 and deciding whether to remover them or keep them."
   ]
  },
  {
   "cell_type": "code",
   "execution_count": 26,
   "metadata": {
    "collapsed": false
   },
   "outputs": [
    {
     "data": {
      "text/plain": [
       "count    5430.0\n",
       "mean        0.0\n",
       "std         0.0\n",
       "min         0.0\n",
       "25%         0.0\n",
       "50%         0.0\n",
       "75%         0.0\n",
       "max         0.0\n",
       "Name: Tip_amount, dtype: float64"
      ]
     },
     "execution_count": 26,
     "metadata": {},
     "output_type": "execute_result"
    }
   ],
   "source": [
    "#Payment type=3-No Charge\n",
    "df1[df1.Payment_type==3].Tip_amount.describe()"
   ]
  },
  {
   "cell_type": "markdown",
   "metadata": {},
   "source": [
    "Inference-Payment type=3 has all zero values."
   ]
  },
  {
   "cell_type": "code",
   "execution_count": 27,
   "metadata": {
    "collapsed": false
   },
   "outputs": [
    {
     "data": {
      "text/plain": [
       "count    4352.000000\n",
       "mean        0.000908\n",
       "std         0.059876\n",
       "min         0.000000\n",
       "25%         0.000000\n",
       "50%         0.000000\n",
       "75%         0.000000\n",
       "max         3.950000\n",
       "Name: Tip_amount, dtype: float64"
      ]
     },
     "execution_count": 27,
     "metadata": {},
     "output_type": "execute_result"
    }
   ],
   "source": [
    "#Payment type=4-Dispute\n",
    "df1[df1.Payment_type==4].Tip_amount.describe()"
   ]
  },
  {
   "cell_type": "markdown",
   "metadata": {},
   "source": [
    "Inference-Payment type=4 has no anomalies. So, I will retain these trips."
   ]
  },
  {
   "cell_type": "code",
   "execution_count": 28,
   "metadata": {
    "collapsed": false
   },
   "outputs": [
    {
     "data": {
      "text/plain": [
       "count    72.0\n",
       "mean      0.0\n",
       "std       0.0\n",
       "min       0.0\n",
       "25%       0.0\n",
       "50%       0.0\n",
       "75%       0.0\n",
       "max       0.0\n",
       "Name: Tip_amount, dtype: float64"
      ]
     },
     "execution_count": 28,
     "metadata": {},
     "output_type": "execute_result"
    }
   ],
   "source": [
    "#Payment type=5-Unknown\n",
    "df1[df1.Payment_type==5].Tip_amount.describe()"
   ]
  },
  {
   "cell_type": "markdown",
   "metadata": {},
   "source": [
    "Inference-Payment type=5 has all zero values. So, I will remove these trips, assuming them to be cash payment as it is unknown."
   ]
  },
  {
   "cell_type": "code",
   "execution_count": 29,
   "metadata": {
    "collapsed": false
   },
   "outputs": [
    {
     "data": {
      "text/plain": [
       "count    0.0\n",
       "mean     NaN\n",
       "std      NaN\n",
       "min      NaN\n",
       "25%      NaN\n",
       "50%      NaN\n",
       "75%      NaN\n",
       "max      NaN\n",
       "Name: Tip_amount, dtype: float64"
      ]
     },
     "execution_count": 29,
     "metadata": {},
     "output_type": "execute_result"
    }
   ],
   "source": [
    "#Payment type=6-Voided trip\n",
    "df1[df1.Payment_type==6].Tip_amount.describe()"
   ]
  },
  {
   "cell_type": "markdown",
   "metadata": {},
   "source": [
    "Inference-There is no such trip. So, nothing needs to be done."
   ]
  },
  {
   "cell_type": "code",
   "execution_count": 30,
   "metadata": {
    "collapsed": false
   },
   "outputs": [
    {
     "data": {
      "text/plain": [
       "(709208, 23)"
      ]
     },
     "execution_count": 30,
     "metadata": {},
     "output_type": "execute_result"
    }
   ],
   "source": [
    "#Removing the trips with Payment type=5\n",
    "df1=df1[df1.Payment_type!=5]\n",
    "\n",
    "#Looking at the dimensions of this data set\n",
    "df1.shape"
   ]
  },
  {
   "cell_type": "markdown",
   "metadata": {},
   "source": [
    "Now looking for anomalies in data for Payment type=1, i.e. Credit card"
   ]
  },
  {
   "cell_type": "code",
   "execution_count": 31,
   "metadata": {
    "collapsed": false
   },
   "outputs": [
    {
     "data": {
      "text/plain": [
       "count    699426.000000\n",
       "mean          2.606427\n",
       "std           2.867434\n",
       "min           0.000000\n",
       "25%           1.160000\n",
       "50%           2.000000\n",
       "75%           3.360000\n",
       "max         300.000000\n",
       "Name: Tip_amount, dtype: float64"
      ]
     },
     "execution_count": 31,
     "metadata": {},
     "output_type": "execute_result"
    }
   ],
   "source": [
    "#Payment type=1-Credit Card\n",
    "df1[df1.Payment_type==1].Tip_amount.describe()"
   ]
  },
  {
   "cell_type": "markdown",
   "metadata": {},
   "source": [
    "Inference-We can see a maximum tip amount of 300. This seemed to be an issue with the data. So I analyzed the same."
   ]
  },
  {
   "cell_type": "code",
   "execution_count": 32,
   "metadata": {
    "collapsed": false
   },
   "outputs": [
    {
     "data": {
      "text/html": [
       "<div>\n",
       "<table border=\"1\" class=\"dataframe\">\n",
       "  <thead>\n",
       "    <tr style=\"text-align: right;\">\n",
       "      <th></th>\n",
       "      <th>Tip_amount</th>\n",
       "      <th>Trip_distance</th>\n",
       "      <th>Total_amount</th>\n",
       "    </tr>\n",
       "  </thead>\n",
       "  <tbody>\n",
       "    <tr>\n",
       "      <th>3412</th>\n",
       "      <td>78.00</td>\n",
       "      <td>0.00</td>\n",
       "      <td>81.80</td>\n",
       "    </tr>\n",
       "    <tr>\n",
       "      <th>16195</th>\n",
       "      <td>80.00</td>\n",
       "      <td>0.00</td>\n",
       "      <td>480.00</td>\n",
       "    </tr>\n",
       "    <tr>\n",
       "      <th>16243</th>\n",
       "      <td>80.00</td>\n",
       "      <td>0.00</td>\n",
       "      <td>480.00</td>\n",
       "    </tr>\n",
       "    <tr>\n",
       "      <th>23938</th>\n",
       "      <td>65.00</td>\n",
       "      <td>6.00</td>\n",
       "      <td>92.80</td>\n",
       "    </tr>\n",
       "    <tr>\n",
       "      <th>32335</th>\n",
       "      <td>100.00</td>\n",
       "      <td>0.70</td>\n",
       "      <td>104.30</td>\n",
       "    </tr>\n",
       "    <tr>\n",
       "      <th>39274</th>\n",
       "      <td>75.00</td>\n",
       "      <td>1.70</td>\n",
       "      <td>78.80</td>\n",
       "    </tr>\n",
       "    <tr>\n",
       "      <th>43922</th>\n",
       "      <td>70.00</td>\n",
       "      <td>0.00</td>\n",
       "      <td>73.80</td>\n",
       "    </tr>\n",
       "    <tr>\n",
       "      <th>44566</th>\n",
       "      <td>55.55</td>\n",
       "      <td>0.00</td>\n",
       "      <td>59.35</td>\n",
       "    </tr>\n",
       "    <tr>\n",
       "      <th>56209</th>\n",
       "      <td>60.00</td>\n",
       "      <td>4.50</td>\n",
       "      <td>63.30</td>\n",
       "    </tr>\n",
       "    <tr>\n",
       "      <th>60960</th>\n",
       "      <td>80.00</td>\n",
       "      <td>1.47</td>\n",
       "      <td>93.30</td>\n",
       "    </tr>\n",
       "    <tr>\n",
       "      <th>74529</th>\n",
       "      <td>150.00</td>\n",
       "      <td>1.10</td>\n",
       "      <td>154.30</td>\n",
       "    </tr>\n",
       "    <tr>\n",
       "      <th>82302</th>\n",
       "      <td>60.00</td>\n",
       "      <td>4.10</td>\n",
       "      <td>81.80</td>\n",
       "    </tr>\n",
       "    <tr>\n",
       "      <th>107998</th>\n",
       "      <td>57.67</td>\n",
       "      <td>1.84</td>\n",
       "      <td>70.47</td>\n",
       "    </tr>\n",
       "    <tr>\n",
       "      <th>112737</th>\n",
       "      <td>60.00</td>\n",
       "      <td>0.48</td>\n",
       "      <td>67.30</td>\n",
       "    </tr>\n",
       "    <tr>\n",
       "      <th>117642</th>\n",
       "      <td>90.00</td>\n",
       "      <td>1.15</td>\n",
       "      <td>101.80</td>\n",
       "    </tr>\n",
       "    <tr>\n",
       "      <th>130023</th>\n",
       "      <td>69.00</td>\n",
       "      <td>0.00</td>\n",
       "      <td>73.80</td>\n",
       "    </tr>\n",
       "    <tr>\n",
       "      <th>132960</th>\n",
       "      <td>55.00</td>\n",
       "      <td>0.90</td>\n",
       "      <td>61.30</td>\n",
       "    </tr>\n",
       "    <tr>\n",
       "      <th>150353</th>\n",
       "      <td>57.00</td>\n",
       "      <td>7.10</td>\n",
       "      <td>109.59</td>\n",
       "    </tr>\n",
       "    <tr>\n",
       "      <th>150370</th>\n",
       "      <td>60.00</td>\n",
       "      <td>12.60</td>\n",
       "      <td>162.30</td>\n",
       "    </tr>\n",
       "    <tr>\n",
       "      <th>156391</th>\n",
       "      <td>55.00</td>\n",
       "      <td>12.10</td>\n",
       "      <td>155.30</td>\n",
       "    </tr>\n",
       "    <tr>\n",
       "      <th>161465</th>\n",
       "      <td>200.22</td>\n",
       "      <td>3.94</td>\n",
       "      <td>221.52</td>\n",
       "    </tr>\n",
       "    <tr>\n",
       "      <th>175418</th>\n",
       "      <td>65.00</td>\n",
       "      <td>11.05</td>\n",
       "      <td>119.34</td>\n",
       "    </tr>\n",
       "    <tr>\n",
       "      <th>190498</th>\n",
       "      <td>55.00</td>\n",
       "      <td>0.00</td>\n",
       "      <td>152.77</td>\n",
       "    </tr>\n",
       "    <tr>\n",
       "      <th>199040</th>\n",
       "      <td>54.00</td>\n",
       "      <td>13.33</td>\n",
       "      <td>94.30</td>\n",
       "    </tr>\n",
       "    <tr>\n",
       "      <th>207400</th>\n",
       "      <td>60.00</td>\n",
       "      <td>0.00</td>\n",
       "      <td>63.00</td>\n",
       "    </tr>\n",
       "    <tr>\n",
       "      <th>224030</th>\n",
       "      <td>100.00</td>\n",
       "      <td>19.60</td>\n",
       "      <td>167.34</td>\n",
       "    </tr>\n",
       "    <tr>\n",
       "      <th>232716</th>\n",
       "      <td>80.80</td>\n",
       "      <td>2.40</td>\n",
       "      <td>94.10</td>\n",
       "    </tr>\n",
       "    <tr>\n",
       "      <th>235585</th>\n",
       "      <td>60.00</td>\n",
       "      <td>17.70</td>\n",
       "      <td>109.30</td>\n",
       "    </tr>\n",
       "    <tr>\n",
       "      <th>241711</th>\n",
       "      <td>100.00</td>\n",
       "      <td>3.50</td>\n",
       "      <td>148.30</td>\n",
       "    </tr>\n",
       "    <tr>\n",
       "      <th>259609</th>\n",
       "      <td>60.00</td>\n",
       "      <td>3.60</td>\n",
       "      <td>75.30</td>\n",
       "    </tr>\n",
       "    <tr>\n",
       "      <th>...</th>\n",
       "      <td>...</td>\n",
       "      <td>...</td>\n",
       "      <td>...</td>\n",
       "    </tr>\n",
       "    <tr>\n",
       "      <th>1207925</th>\n",
       "      <td>75.00</td>\n",
       "      <td>0.60</td>\n",
       "      <td>80.30</td>\n",
       "    </tr>\n",
       "    <tr>\n",
       "      <th>1208334</th>\n",
       "      <td>150.00</td>\n",
       "      <td>0.00</td>\n",
       "      <td>154.80</td>\n",
       "    </tr>\n",
       "    <tr>\n",
       "      <th>1211679</th>\n",
       "      <td>55.00</td>\n",
       "      <td>12.69</td>\n",
       "      <td>94.30</td>\n",
       "    </tr>\n",
       "    <tr>\n",
       "      <th>1249656</th>\n",
       "      <td>77.00</td>\n",
       "      <td>0.00</td>\n",
       "      <td>80.80</td>\n",
       "    </tr>\n",
       "    <tr>\n",
       "      <th>1260269</th>\n",
       "      <td>120.00</td>\n",
       "      <td>5.30</td>\n",
       "      <td>120.80</td>\n",
       "    </tr>\n",
       "    <tr>\n",
       "      <th>1298752</th>\n",
       "      <td>60.00</td>\n",
       "      <td>0.00</td>\n",
       "      <td>63.80</td>\n",
       "    </tr>\n",
       "    <tr>\n",
       "      <th>1302877</th>\n",
       "      <td>60.00</td>\n",
       "      <td>1.70</td>\n",
       "      <td>64.30</td>\n",
       "    </tr>\n",
       "    <tr>\n",
       "      <th>1303108</th>\n",
       "      <td>80.00</td>\n",
       "      <td>5.10</td>\n",
       "      <td>99.80</td>\n",
       "    </tr>\n",
       "    <tr>\n",
       "      <th>1314707</th>\n",
       "      <td>80.00</td>\n",
       "      <td>4.93</td>\n",
       "      <td>101.30</td>\n",
       "    </tr>\n",
       "    <tr>\n",
       "      <th>1315861</th>\n",
       "      <td>66.20</td>\n",
       "      <td>0.00</td>\n",
       "      <td>70.00</td>\n",
       "    </tr>\n",
       "    <tr>\n",
       "      <th>1319285</th>\n",
       "      <td>58.00</td>\n",
       "      <td>5.90</td>\n",
       "      <td>61.80</td>\n",
       "    </tr>\n",
       "    <tr>\n",
       "      <th>1335893</th>\n",
       "      <td>50.50</td>\n",
       "      <td>0.49</td>\n",
       "      <td>55.30</td>\n",
       "    </tr>\n",
       "    <tr>\n",
       "      <th>1344256</th>\n",
       "      <td>80.00</td>\n",
       "      <td>0.00</td>\n",
       "      <td>83.30</td>\n",
       "    </tr>\n",
       "    <tr>\n",
       "      <th>1365685</th>\n",
       "      <td>111.15</td>\n",
       "      <td>1.50</td>\n",
       "      <td>114.95</td>\n",
       "    </tr>\n",
       "    <tr>\n",
       "      <th>1369283</th>\n",
       "      <td>60.00</td>\n",
       "      <td>0.00</td>\n",
       "      <td>63.30</td>\n",
       "    </tr>\n",
       "    <tr>\n",
       "      <th>1379511</th>\n",
       "      <td>80.00</td>\n",
       "      <td>18.20</td>\n",
       "      <td>485.54</td>\n",
       "    </tr>\n",
       "    <tr>\n",
       "      <th>1380152</th>\n",
       "      <td>80.00</td>\n",
       "      <td>0.00</td>\n",
       "      <td>83.30</td>\n",
       "    </tr>\n",
       "    <tr>\n",
       "      <th>1398845</th>\n",
       "      <td>70.00</td>\n",
       "      <td>16.30</td>\n",
       "      <td>159.80</td>\n",
       "    </tr>\n",
       "    <tr>\n",
       "      <th>1400408</th>\n",
       "      <td>86.74</td>\n",
       "      <td>0.09</td>\n",
       "      <td>375.86</td>\n",
       "    </tr>\n",
       "    <tr>\n",
       "      <th>1402371</th>\n",
       "      <td>70.00</td>\n",
       "      <td>1.42</td>\n",
       "      <td>77.80</td>\n",
       "    </tr>\n",
       "    <tr>\n",
       "      <th>1404483</th>\n",
       "      <td>60.00</td>\n",
       "      <td>0.20</td>\n",
       "      <td>60.00</td>\n",
       "    </tr>\n",
       "    <tr>\n",
       "      <th>1438459</th>\n",
       "      <td>60.00</td>\n",
       "      <td>4.90</td>\n",
       "      <td>95.30</td>\n",
       "    </tr>\n",
       "    <tr>\n",
       "      <th>1443358</th>\n",
       "      <td>80.00</td>\n",
       "      <td>2.00</td>\n",
       "      <td>90.80</td>\n",
       "    </tr>\n",
       "    <tr>\n",
       "      <th>1451048</th>\n",
       "      <td>68.89</td>\n",
       "      <td>3.50</td>\n",
       "      <td>87.69</td>\n",
       "    </tr>\n",
       "    <tr>\n",
       "      <th>1466002</th>\n",
       "      <td>59.17</td>\n",
       "      <td>5.98</td>\n",
       "      <td>78.47</td>\n",
       "    </tr>\n",
       "    <tr>\n",
       "      <th>1471673</th>\n",
       "      <td>134.00</td>\n",
       "      <td>0.03</td>\n",
       "      <td>137.30</td>\n",
       "    </tr>\n",
       "    <tr>\n",
       "      <th>1472501</th>\n",
       "      <td>90.00</td>\n",
       "      <td>2.50</td>\n",
       "      <td>102.30</td>\n",
       "    </tr>\n",
       "    <tr>\n",
       "      <th>1477297</th>\n",
       "      <td>80.00</td>\n",
       "      <td>0.06</td>\n",
       "      <td>480.00</td>\n",
       "    </tr>\n",
       "    <tr>\n",
       "      <th>1482751</th>\n",
       "      <td>80.00</td>\n",
       "      <td>0.00</td>\n",
       "      <td>480.00</td>\n",
       "    </tr>\n",
       "    <tr>\n",
       "      <th>1492171</th>\n",
       "      <td>77.77</td>\n",
       "      <td>0.00</td>\n",
       "      <td>81.57</td>\n",
       "    </tr>\n",
       "  </tbody>\n",
       "</table>\n",
       "<p>208 rows × 3 columns</p>\n",
       "</div>"
      ],
      "text/plain": [
       "         Tip_amount  Trip_distance  Total_amount\n",
       "3412          78.00           0.00         81.80\n",
       "16195         80.00           0.00        480.00\n",
       "16243         80.00           0.00        480.00\n",
       "23938         65.00           6.00         92.80\n",
       "32335        100.00           0.70        104.30\n",
       "39274         75.00           1.70         78.80\n",
       "43922         70.00           0.00         73.80\n",
       "44566         55.55           0.00         59.35\n",
       "56209         60.00           4.50         63.30\n",
       "60960         80.00           1.47         93.30\n",
       "74529        150.00           1.10        154.30\n",
       "82302         60.00           4.10         81.80\n",
       "107998        57.67           1.84         70.47\n",
       "112737        60.00           0.48         67.30\n",
       "117642        90.00           1.15        101.80\n",
       "130023        69.00           0.00         73.80\n",
       "132960        55.00           0.90         61.30\n",
       "150353        57.00           7.10        109.59\n",
       "150370        60.00          12.60        162.30\n",
       "156391        55.00          12.10        155.30\n",
       "161465       200.22           3.94        221.52\n",
       "175418        65.00          11.05        119.34\n",
       "190498        55.00           0.00        152.77\n",
       "199040        54.00          13.33         94.30\n",
       "207400        60.00           0.00         63.00\n",
       "224030       100.00          19.60        167.34\n",
       "232716        80.80           2.40         94.10\n",
       "235585        60.00          17.70        109.30\n",
       "241711       100.00           3.50        148.30\n",
       "259609        60.00           3.60         75.30\n",
       "...             ...            ...           ...\n",
       "1207925       75.00           0.60         80.30\n",
       "1208334      150.00           0.00        154.80\n",
       "1211679       55.00          12.69         94.30\n",
       "1249656       77.00           0.00         80.80\n",
       "1260269      120.00           5.30        120.80\n",
       "1298752       60.00           0.00         63.80\n",
       "1302877       60.00           1.70         64.30\n",
       "1303108       80.00           5.10         99.80\n",
       "1314707       80.00           4.93        101.30\n",
       "1315861       66.20           0.00         70.00\n",
       "1319285       58.00           5.90         61.80\n",
       "1335893       50.50           0.49         55.30\n",
       "1344256       80.00           0.00         83.30\n",
       "1365685      111.15           1.50        114.95\n",
       "1369283       60.00           0.00         63.30\n",
       "1379511       80.00          18.20        485.54\n",
       "1380152       80.00           0.00         83.30\n",
       "1398845       70.00          16.30        159.80\n",
       "1400408       86.74           0.09        375.86\n",
       "1402371       70.00           1.42         77.80\n",
       "1404483       60.00           0.20         60.00\n",
       "1438459       60.00           4.90         95.30\n",
       "1443358       80.00           2.00         90.80\n",
       "1451048       68.89           3.50         87.69\n",
       "1466002       59.17           5.98         78.47\n",
       "1471673      134.00           0.03        137.30\n",
       "1472501       90.00           2.50        102.30\n",
       "1477297       80.00           0.06        480.00\n",
       "1482751       80.00           0.00        480.00\n",
       "1492171       77.77           0.00         81.57\n",
       "\n",
       "[208 rows x 3 columns]"
      ]
     },
     "execution_count": 32,
     "metadata": {},
     "output_type": "execute_result"
    }
   ],
   "source": [
    "#Looking at the trips with tip amount > $50\n",
    "df1.loc[df1.Tip_amount>50,['Tip_amount','Trip_distance','Total_amount']]"
   ]
  },
  {
   "cell_type": "markdown",
   "metadata": {},
   "source": [
    "Inference- As we can see that the tip amount in almost all such trips is outrageous. This might be a mistake from the passenger or some other reason. \n",
    "I think that such tip amounts will not help in making a correct predictive model. So, it is better to remove them."
   ]
  },
  {
   "cell_type": "code",
   "execution_count": 33,
   "metadata": {
    "collapsed": false
   },
   "outputs": [
    {
     "data": {
      "text/plain": [
       "(709000, 23)"
      ]
     },
     "execution_count": 33,
     "metadata": {},
     "output_type": "execute_result"
    }
   ],
   "source": [
    "#Removing trips with tip amount > 50\n",
    "df1=df1[df1.Tip_amount <= 50]\n",
    "\n",
    "#Looking at the dimensions of this data set\n",
    "df1.shape"
   ]
  },
  {
   "cell_type": "markdown",
   "metadata": {},
   "source": [
    "Now, I created a new column with values equal to the tip percentage"
   ]
  },
  {
   "cell_type": "code",
   "execution_count": 34,
   "metadata": {
    "collapsed": false
   },
   "outputs": [
    {
     "name": "stderr",
     "output_type": "stream",
     "text": [
      "C:\\Users\\sethi\\Anaconda3\\lib\\site-packages\\numpy\\lib\\function_base.py:3834: RuntimeWarning: Invalid value encountered in percentile\n",
      "  RuntimeWarning)\n"
     ]
    },
    {
     "data": {
      "text/plain": [
       "count    708418.000000\n",
       "mean         13.941980\n",
       "std           7.860491\n",
       "min           0.000000\n",
       "25%                NaN\n",
       "50%                NaN\n",
       "75%                NaN\n",
       "max         100.000000\n",
       "Name: Tip_percent, dtype: float64"
      ]
     },
     "execution_count": 34,
     "metadata": {},
     "output_type": "execute_result"
    }
   ],
   "source": [
    "#Creating Tip_percent column\n",
    "df1['Tip_percent']=(df1['Tip_amount']/df1['Total_amount'])*100\n",
    "\n",
    "#Looking at the summary statistics of Tip_percent\n",
    "df1['Tip_percent'].describe()"
   ]
  },
  {
   "cell_type": "markdown",
   "metadata": {},
   "source": [
    "Inference-As we can see NaN values in the quantiles, this can be due to the fact that the total amount for such trips would be zero. So, I checked for such trips."
   ]
  },
  {
   "cell_type": "code",
   "execution_count": 35,
   "metadata": {
    "collapsed": false
   },
   "outputs": [
    {
     "data": {
      "text/plain": [
       "582"
      ]
     },
     "execution_count": 35,
     "metadata": {},
     "output_type": "execute_result"
    }
   ],
   "source": [
    "df1[df1.Total_amount==0].Total_amount.count()"
   ]
  },
  {
   "cell_type": "markdown",
   "metadata": {},
   "source": [
    "Inference-There are 582 trips with total amount=0. So, we need to remove such trips as well."
   ]
  },
  {
   "cell_type": "code",
   "execution_count": 36,
   "metadata": {
    "collapsed": false
   },
   "outputs": [
    {
     "data": {
      "text/plain": [
       "(706244, 24)"
      ]
     },
     "execution_count": 36,
     "metadata": {},
     "output_type": "execute_result"
    }
   ],
   "source": [
    "#Removing trips with Total_amount=0\n",
    "df1=df1[df1.Total_amount > 0]\n",
    "\n",
    "#Looking at the dimensions of this data set\n",
    "df1.shape"
   ]
  },
  {
   "cell_type": "markdown",
   "metadata": {},
   "source": [
    "Inference-So now we have only those rows which have total amount>0. The above code removed rows which had negative Total amount."
   ]
  },
  {
   "cell_type": "code",
   "execution_count": 37,
   "metadata": {
    "collapsed": false
   },
   "outputs": [
    {
     "data": {
      "text/plain": [
       "count    706244.000000\n",
       "mean         13.984897\n",
       "std           7.834368\n",
       "min           0.000000\n",
       "25%          10.510511\n",
       "50%          16.666667\n",
       "75%          16.666667\n",
       "max         100.000000\n",
       "Name: Tip_percent, dtype: float64"
      ]
     },
     "execution_count": 37,
     "metadata": {},
     "output_type": "execute_result"
    }
   ],
   "source": [
    "#Creating Tip_percent column\n",
    "df1['Tip_percent']=(df1['Tip_amount']/df1['Total_amount'])*100\n",
    "\n",
    "#Looking at the summary statistics of Tip_percent\n",
    "df1['Tip_percent'].describe()"
   ]
  },
  {
   "cell_type": "markdown",
   "metadata": {},
   "source": [
    "Inference-Now we have the newly created column-Tip_percent with valid values.\n",
    "As we can see, there are tip percentage values =100, i.e. the tips were only paid as the total amount. I think these trips can be removed as well.\n",
    "But for the time, I have not removed them."
   ]
  },
  {
   "cell_type": "markdown",
   "metadata": {},
   "source": [
    "Question 4\n",
    "2. Build a predictive model for tip as a percentage of the total fare. Use as much of the data as you like (or all of it). We will validate a sample."
   ]
  },
  {
   "cell_type": "markdown",
   "metadata": {},
   "source": [
    "To build a predictive model, we first need to do the data exploratory analysis.\n",
    "As we saw before, there are 4 missing values in the variable-Trip_type. So, I imputed the missing values by the most frequent value for that variable."
   ]
  },
  {
   "cell_type": "code",
   "execution_count": 38,
   "metadata": {
    "collapsed": false
   },
   "outputs": [
    {
     "data": {
      "text/plain": [
       "count     706240.0\n",
       "unique         2.0\n",
       "top            1.0\n",
       "freq      694894.0\n",
       "Name: Trip_type , dtype: float64"
      ]
     },
     "execution_count": 38,
     "metadata": {},
     "output_type": "execute_result"
    }
   ],
   "source": [
    "#Converting Trip_type variable to categorical type\n",
    "df1['Trip_type ']=df1['Trip_type '].astype('category')\n",
    "\n",
    "#Checking the frequency count of the values of Trip_type variable\n",
    "df1['Trip_type '].describe()"
   ]
  },
  {
   "cell_type": "markdown",
   "metadata": {},
   "source": [
    "Inference-\n",
    "count     706240.0\n",
    "unique         2.0\n",
    "top            1.0\n",
    "freq      694894.0\n",
    "\n",
    "Most Frequent value=1.\n",
    "So filling the 4 missing values with 1"
   ]
  },
  {
   "cell_type": "code",
   "execution_count": 39,
   "metadata": {
    "collapsed": false
   },
   "outputs": [
    {
     "data": {
      "text/plain": [
       "VendorID                 0\n",
       "lpep_pickup_datetime     0\n",
       "Lpep_dropoff_datetime    0\n",
       "Store_and_fwd_flag       0\n",
       "RateCodeID               0\n",
       "Pickup_longitude         0\n",
       "Pickup_latitude          0\n",
       "Dropoff_longitude        0\n",
       "Dropoff_latitude         0\n",
       "Passenger_count          0\n",
       "Trip_distance            0\n",
       "Fare_amount              0\n",
       "Extra                    0\n",
       "MTA_tax                  0\n",
       "Tip_amount               0\n",
       "Tolls_amount             0\n",
       "improvement_surcharge    0\n",
       "Total_amount             0\n",
       "Payment_type             0\n",
       "Trip_type                0\n",
       "Hour                     0\n",
       "Dropoff_distance         0\n",
       "Pickup_distance          0\n",
       "Tip_percent              0\n",
       "dtype: int64"
      ]
     },
     "execution_count": 39,
     "metadata": {},
     "output_type": "execute_result"
    }
   ],
   "source": [
    "#Imputing it with the most frequent value, i.e. 1\n",
    "df1['Trip_type '].fillna(value=1,inplace=True)\n",
    "\n",
    "#Checking for missing values in the data set\n",
    "df1.isnull().sum()"
   ]
  },
  {
   "cell_type": "markdown",
   "metadata": {},
   "source": [
    "Inference-There are no missing values in the data now."
   ]
  },
  {
   "cell_type": "markdown",
   "metadata": {},
   "source": [
    "In order to calculate the trip duration, I will create another column (Trip_duration), which is the difference between the dropoff time and the pickup time. For this, we need to first convert the columns \"lpep_pickup_datetime\" and \"Lpep_dropoff_datetime\" to datetime type."
   ]
  },
  {
   "cell_type": "code",
   "execution_count": 40,
   "metadata": {
    "collapsed": true
   },
   "outputs": [],
   "source": [
    "#\"lpep_pickup_datetime\" and \"Lpep_dropoff_datetime\" have indexes 1 and 2 respectively\n",
    "df1.iloc[:,1:3] = df1.iloc[:,1:3].apply(pd.to_datetime, errors='coerce')\n",
    "#Passing errors='coerce' to convert invalid data to NaT (not a time)\n",
    "\n",
    "#Creating the \"Trip_duration\" column\n",
    "df1['Trip_duration']=df1['Lpep_dropoff_datetime']-df1['lpep_pickup_datetime']"
   ]
  },
  {
   "cell_type": "markdown",
   "metadata": {},
   "source": [
    "Since the Trip_duration column contained both the date and time, I only calculated the total seconds in the trip duration."
   ]
  },
  {
   "cell_type": "code",
   "execution_count": 41,
   "metadata": {
    "collapsed": false
   },
   "outputs": [
    {
     "data": {
      "text/plain": [
       "count    706244.000000\n",
       "mean       1249.059876\n",
       "std        5451.465792\n",
       "min           0.000000\n",
       "25%         422.000000\n",
       "50%         716.000000\n",
       "75%        1164.000000\n",
       "max       86393.000000\n",
       "Name: Trip_duration, dtype: float64"
      ]
     },
     "execution_count": 41,
     "metadata": {},
     "output_type": "execute_result"
    }
   ],
   "source": [
    "#Converting the duration equal to total seconds\n",
    "df1['Trip_duration']=df1['Trip_duration'].astype('timedelta64[s]')\n",
    "\n",
    "#Looking at the summary statistics of the Trip_duration column\n",
    "df1['Trip_duration'].describe()"
   ]
  },
  {
   "cell_type": "markdown",
   "metadata": {},
   "source": [
    "As we can see that there are trips with duration=0 seconds. We can remove such trips, as trips must be of some duration."
   ]
  },
  {
   "cell_type": "code",
   "execution_count": 42,
   "metadata": {
    "collapsed": false
   },
   "outputs": [
    {
     "data": {
      "text/plain": [
       "(706076, 25)"
      ]
     },
     "execution_count": 42,
     "metadata": {},
     "output_type": "execute_result"
    }
   ],
   "source": [
    "#Removing trips with zero duration\n",
    "df1=df1[df1.Trip_duration>0]\n",
    "\n",
    "#Looking at the shape of the data\n",
    "df1.shape"
   ]
  },
  {
   "cell_type": "markdown",
   "metadata": {},
   "source": [
    "Looking at the RateCodeID column. Since it has categories, we will first convert it into categorical type."
   ]
  },
  {
   "cell_type": "code",
   "execution_count": 43,
   "metadata": {
    "collapsed": false
   },
   "outputs": [],
   "source": [
    "#Converting into categorical type\n",
    "df1['RateCodeID']=df1.RateCodeID.astype('category')"
   ]
  },
  {
   "cell_type": "markdown",
   "metadata": {},
   "source": [
    "Inference- Found RateCodeID=99 for some observations, which is not present in the data dictionary. So I removed them.\n",
    "According to the data dictionary, only 1,2,3,4,5,6 are valid IDs. "
   ]
  },
  {
   "cell_type": "code",
   "execution_count": 44,
   "metadata": {
    "collapsed": false
   },
   "outputs": [
    {
     "data": {
      "text/plain": [
       "(706072, 25)"
      ]
     },
     "execution_count": 44,
     "metadata": {},
     "output_type": "execute_result"
    }
   ],
   "source": [
    "#Removing rows where the RateCodeID=99\n",
    "df1=df1[(df1.RateCodeID!=99)]\n",
    "\n",
    "#Looking at the shape of the data\n",
    "df1.shape"
   ]
  },
  {
   "cell_type": "markdown",
   "metadata": {},
   "source": [
    "To remove variables irrelevant based on my intuition, I decided to remove the following variables after careful analysis of them using the data dictionary, located at http://www.nyc.gov/html/tlc/downloads/pdf/data_dictionary_trip_records_green.pdf, and also those variables which I created for the different calculations :\n",
    "1. VendorID\n",
    "2. Dropoff_longitude\n",
    "3. Dropoff_latitude\n",
    "4. Pickup_longitude\n",
    "5. Pickup_latitude\n",
    "6. Dropoff_distance\n",
    "7. Pickup_distance\n",
    "8. Hour\n",
    "9. lpep_pickup_datetime\n",
    "10. Lpep_dropoff_datetime\n",
    "11. Store_and_fwd_flag"
   ]
  },
  {
   "cell_type": "code",
   "execution_count": 45,
   "metadata": {
    "collapsed": false
   },
   "outputs": [
    {
     "data": {
      "text/plain": [
       "Index(['RateCodeID', 'Passenger_count', 'Trip_distance', 'Fare_amount',\n",
       "       'Extra', 'MTA_tax', 'Tip_amount', 'Tolls_amount',\n",
       "       'improvement_surcharge', 'Total_amount', 'Payment_type', 'Trip_type ',\n",
       "       'Tip_percent', 'Trip_duration'],\n",
       "      dtype='object')"
      ]
     },
     "execution_count": 45,
     "metadata": {},
     "output_type": "execute_result"
    }
   ],
   "source": [
    "#Dropping the irrelevant variables\n",
    "df5=df1.drop(['VendorID','Dropoff_longitude','Dropoff_latitude','Pickup_longitude','Pickup_latitude'\\\n",
    "            ,'Dropoff_distance','Pickup_distance','Hour','lpep_pickup_datetime','Lpep_dropoff_datetime'\\\n",
    "            ,'Store_and_fwd_flag'],axis=1)\n",
    "\n",
    "#Looking at the columns of the transformed data\n",
    "df5.columns"
   ]
  },
  {
   "cell_type": "markdown",
   "metadata": {},
   "source": [
    "Creating dummy variables for the variables with categorical values:\n",
    "1. RateCodeID\n",
    "2. Payment_type\n",
    "3. Trip_type "
   ]
  },
  {
   "cell_type": "code",
   "execution_count": 46,
   "metadata": {
    "collapsed": false
   },
   "outputs": [
    {
     "data": {
      "text/plain": [
       "Passenger_count            int64\n",
       "Trip_distance            float64\n",
       "Fare_amount              float64\n",
       "Extra                    float64\n",
       "MTA_tax                  float64\n",
       "Tip_amount               float64\n",
       "Tolls_amount             float64\n",
       "improvement_surcharge    float64\n",
       "Total_amount             float64\n",
       "Tip_percent              float64\n",
       "Trip_duration            float64\n",
       "RateCodeID_2             float64\n",
       "RateCodeID_3             float64\n",
       "RateCodeID_4             float64\n",
       "RateCodeID_5             float64\n",
       "RateCodeID_6             float64\n",
       "RateCodeID_99            float64\n",
       "Payment_type_3           float64\n",
       "Payment_type_4           float64\n",
       "Trip_type _2.0           float64\n",
       "dtype: object"
      ]
     },
     "execution_count": 46,
     "metadata": {},
     "output_type": "execute_result"
    }
   ],
   "source": [
    "#Creating dummy variables by dropping the first value, i.e. keeping the first value as reference\n",
    "df5=pd.get_dummies(df5,columns=['RateCodeID','Payment_type','Trip_type '],drop_first=True)\n",
    "\n",
    "#Looking at the columns and their data types\n",
    "df5.dtypes"
   ]
  },
  {
   "cell_type": "markdown",
   "metadata": {},
   "source": [
    "Even after removing the RateCodeID=99, it is still getting created as a dummy variable. But when we find the sum of this variable, it is zero.\n",
    "So we can remove the column in the new data set."
   ]
  },
  {
   "cell_type": "code",
   "execution_count": 47,
   "metadata": {
    "collapsed": false
   },
   "outputs": [
    {
     "data": {
      "text/plain": [
       "0.0"
      ]
     },
     "execution_count": 47,
     "metadata": {},
     "output_type": "execute_result"
    }
   ],
   "source": [
    "#Sum of RateCodeID_99 variable\n",
    "df5.RateCodeID_99.sum()"
   ]
  },
  {
   "cell_type": "markdown",
   "metadata": {},
   "source": [
    "Inference- Since the sum is 0, we can remove this variable."
   ]
  },
  {
   "cell_type": "code",
   "execution_count": 48,
   "metadata": {
    "collapsed": false
   },
   "outputs": [
    {
     "data": {
      "text/plain": [
       "Passenger_count            int64\n",
       "Trip_distance            float64\n",
       "Fare_amount              float64\n",
       "Extra                    float64\n",
       "MTA_tax                  float64\n",
       "Tip_amount               float64\n",
       "Tolls_amount             float64\n",
       "improvement_surcharge    float64\n",
       "Total_amount             float64\n",
       "Tip_percent              float64\n",
       "Trip_duration            float64\n",
       "RateCodeID_2             float64\n",
       "RateCodeID_3             float64\n",
       "RateCodeID_4             float64\n",
       "RateCodeID_5             float64\n",
       "RateCodeID_6             float64\n",
       "Payment_type_3           float64\n",
       "Payment_type_4           float64\n",
       "Trip_type _2.0           float64\n",
       "dtype: object"
      ]
     },
     "execution_count": 48,
     "metadata": {},
     "output_type": "execute_result"
    }
   ],
   "source": [
    "#Removing RateCodeID_99 column\n",
    "df5.drop('RateCodeID_99',axis=1,inplace=True)\n",
    "\n",
    "#Checking the columns\n",
    "df5.dtypes"
   ]
  },
  {
   "cell_type": "markdown",
   "metadata": {},
   "source": [
    "Since all the variables are now numeric, we will find the correlation between each pair of variables."
   ]
  },
  {
   "cell_type": "code",
   "execution_count": 49,
   "metadata": {
    "collapsed": false
   },
   "outputs": [
    {
     "data": {
      "text/html": [
       "<div>\n",
       "<table border=\"1\" class=\"dataframe\">\n",
       "  <thead>\n",
       "    <tr style=\"text-align: right;\">\n",
       "      <th></th>\n",
       "      <th>Passenger_count</th>\n",
       "      <th>Trip_distance</th>\n",
       "      <th>Fare_amount</th>\n",
       "      <th>Extra</th>\n",
       "      <th>MTA_tax</th>\n",
       "      <th>Tip_amount</th>\n",
       "      <th>Tolls_amount</th>\n",
       "      <th>improvement_surcharge</th>\n",
       "      <th>Total_amount</th>\n",
       "      <th>Tip_percent</th>\n",
       "      <th>Trip_duration</th>\n",
       "      <th>RateCodeID_2</th>\n",
       "      <th>RateCodeID_3</th>\n",
       "      <th>RateCodeID_4</th>\n",
       "      <th>RateCodeID_5</th>\n",
       "      <th>RateCodeID_6</th>\n",
       "      <th>Payment_type_3</th>\n",
       "      <th>Payment_type_4</th>\n",
       "      <th>Trip_type _2.0</th>\n",
       "    </tr>\n",
       "  </thead>\n",
       "  <tbody>\n",
       "    <tr>\n",
       "      <th>Passenger_count</th>\n",
       "      <td>1.000000</td>\n",
       "      <td>0.012744</td>\n",
       "      <td>0.011221</td>\n",
       "      <td>0.020069</td>\n",
       "      <td>0.009739</td>\n",
       "      <td>0.016183</td>\n",
       "      <td>0.008365</td>\n",
       "      <td>0.009959</td>\n",
       "      <td>0.014249</td>\n",
       "      <td>0.014129</td>\n",
       "      <td>0.004480</td>\n",
       "      <td>-0.003273</td>\n",
       "      <td>-0.001728</td>\n",
       "      <td>0.001978</td>\n",
       "      <td>-0.009950</td>\n",
       "      <td>-0.000088</td>\n",
       "      <td>-0.016052</td>\n",
       "      <td>-0.019489</td>\n",
       "      <td>-0.009489</td>\n",
       "    </tr>\n",
       "    <tr>\n",
       "      <th>Trip_distance</th>\n",
       "      <td>0.012744</td>\n",
       "      <td>1.000000</td>\n",
       "      <td>0.867618</td>\n",
       "      <td>-0.053628</td>\n",
       "      <td>0.045591</td>\n",
       "      <td>0.571415</td>\n",
       "      <td>0.295645</td>\n",
       "      <td>0.052636</td>\n",
       "      <td>0.874731</td>\n",
       "      <td>-0.038264</td>\n",
       "      <td>0.093479</td>\n",
       "      <td>0.198225</td>\n",
       "      <td>0.042189</td>\n",
       "      <td>0.059809</td>\n",
       "      <td>-0.053994</td>\n",
       "      <td>-0.001013</td>\n",
       "      <td>-0.028881</td>\n",
       "      <td>-0.023121</td>\n",
       "      <td>-0.053603</td>\n",
       "    </tr>\n",
       "    <tr>\n",
       "      <th>Fare_amount</th>\n",
       "      <td>0.011221</td>\n",
       "      <td>0.867618</td>\n",
       "      <td>1.000000</td>\n",
       "      <td>-0.085954</td>\n",
       "      <td>-0.154616</td>\n",
       "      <td>0.564549</td>\n",
       "      <td>0.259928</td>\n",
       "      <td>-0.139940</td>\n",
       "      <td>0.979172</td>\n",
       "      <td>-0.070664</td>\n",
       "      <td>0.099187</td>\n",
       "      <td>0.180614</td>\n",
       "      <td>0.072926</td>\n",
       "      <td>0.068730</td>\n",
       "      <td>0.145466</td>\n",
       "      <td>-0.003299</td>\n",
       "      <td>-0.026968</td>\n",
       "      <td>-0.020838</td>\n",
       "      <td>0.142824</td>\n",
       "    </tr>\n",
       "    <tr>\n",
       "      <th>Extra</th>\n",
       "      <td>0.020069</td>\n",
       "      <td>-0.053628</td>\n",
       "      <td>-0.085954</td>\n",
       "      <td>1.000000</td>\n",
       "      <td>0.124052</td>\n",
       "      <td>-0.025372</td>\n",
       "      <td>-0.042727</td>\n",
       "      <td>0.122933</td>\n",
       "      <td>-0.049744</td>\n",
       "      <td>0.013119</td>\n",
       "      <td>-0.005243</td>\n",
       "      <td>-0.046657</td>\n",
       "      <td>-0.002990</td>\n",
       "      <td>-0.000084</td>\n",
       "      <td>-0.126522</td>\n",
       "      <td>-0.002870</td>\n",
       "      <td>0.000542</td>\n",
       "      <td>-0.006465</td>\n",
       "      <td>-0.124703</td>\n",
       "    </tr>\n",
       "    <tr>\n",
       "      <th>MTA_tax</th>\n",
       "      <td>0.009739</td>\n",
       "      <td>0.045591</td>\n",
       "      <td>-0.154616</td>\n",
       "      <td>0.124052</td>\n",
       "      <td>1.000000</td>\n",
       "      <td>0.000523</td>\n",
       "      <td>-0.021914</td>\n",
       "      <td>0.955822</td>\n",
       "      <td>-0.119866</td>\n",
       "      <td>0.103812</td>\n",
       "      <td>0.003885</td>\n",
       "      <td>0.006159</td>\n",
       "      <td>-0.178307</td>\n",
       "      <td>-0.000898</td>\n",
       "      <td>-0.971357</td>\n",
       "      <td>0.000379</td>\n",
       "      <td>-0.020191</td>\n",
       "      <td>-0.004112</td>\n",
       "      <td>-0.976507</td>\n",
       "    </tr>\n",
       "    <tr>\n",
       "      <th>Tip_amount</th>\n",
       "      <td>0.016183</td>\n",
       "      <td>0.571415</td>\n",
       "      <td>0.564549</td>\n",
       "      <td>-0.025372</td>\n",
       "      <td>0.000523</td>\n",
       "      <td>1.000000</td>\n",
       "      <td>0.236343</td>\n",
       "      <td>0.007534</td>\n",
       "      <td>0.703878</td>\n",
       "      <td>0.614762</td>\n",
       "      <td>0.042256</td>\n",
       "      <td>0.131015</td>\n",
       "      <td>0.042746</td>\n",
       "      <td>0.041157</td>\n",
       "      <td>-0.007989</td>\n",
       "      <td>-0.003024</td>\n",
       "      <td>-0.077348</td>\n",
       "      <td>-0.072551</td>\n",
       "      <td>-0.008034</td>\n",
       "    </tr>\n",
       "    <tr>\n",
       "      <th>Tolls_amount</th>\n",
       "      <td>0.008365</td>\n",
       "      <td>0.295645</td>\n",
       "      <td>0.259928</td>\n",
       "      <td>-0.042727</td>\n",
       "      <td>-0.021914</td>\n",
       "      <td>0.236343</td>\n",
       "      <td>1.000000</td>\n",
       "      <td>-0.001456</td>\n",
       "      <td>0.352685</td>\n",
       "      <td>-0.003656</td>\n",
       "      <td>0.023262</td>\n",
       "      <td>0.194187</td>\n",
       "      <td>0.112639</td>\n",
       "      <td>0.048959</td>\n",
       "      <td>0.001111</td>\n",
       "      <td>-0.000478</td>\n",
       "      <td>-0.007207</td>\n",
       "      <td>0.000318</td>\n",
       "      <td>0.001435</td>\n",
       "    </tr>\n",
       "    <tr>\n",
       "      <th>improvement_surcharge</th>\n",
       "      <td>0.009959</td>\n",
       "      <td>0.052636</td>\n",
       "      <td>-0.139940</td>\n",
       "      <td>0.122933</td>\n",
       "      <td>0.955822</td>\n",
       "      <td>0.007534</td>\n",
       "      <td>-0.001456</td>\n",
       "      <td>1.000000</td>\n",
       "      <td>-0.104408</td>\n",
       "      <td>0.098873</td>\n",
       "      <td>0.004968</td>\n",
       "      <td>0.005410</td>\n",
       "      <td>0.002992</td>\n",
       "      <td>-0.000943</td>\n",
       "      <td>-0.962159</td>\n",
       "      <td>-0.003450</td>\n",
       "      <td>-0.011429</td>\n",
       "      <td>0.000866</td>\n",
       "      <td>-0.977429</td>\n",
       "    </tr>\n",
       "    <tr>\n",
       "      <th>Total_amount</th>\n",
       "      <td>0.014249</td>\n",
       "      <td>0.874731</td>\n",
       "      <td>0.979172</td>\n",
       "      <td>-0.049744</td>\n",
       "      <td>-0.119866</td>\n",
       "      <td>0.703878</td>\n",
       "      <td>0.352685</td>\n",
       "      <td>-0.104408</td>\n",
       "      <td>1.000000</td>\n",
       "      <td>0.069472</td>\n",
       "      <td>0.094307</td>\n",
       "      <td>0.194854</td>\n",
       "      <td>0.079005</td>\n",
       "      <td>0.070713</td>\n",
       "      <td>0.108871</td>\n",
       "      <td>-0.003549</td>\n",
       "      <td>-0.039602</td>\n",
       "      <td>-0.032877</td>\n",
       "      <td>0.106641</td>\n",
       "    </tr>\n",
       "    <tr>\n",
       "      <th>Tip_percent</th>\n",
       "      <td>0.014129</td>\n",
       "      <td>-0.038264</td>\n",
       "      <td>-0.070664</td>\n",
       "      <td>0.013119</td>\n",
       "      <td>0.103812</td>\n",
       "      <td>0.614762</td>\n",
       "      <td>-0.003656</td>\n",
       "      <td>0.098873</td>\n",
       "      <td>0.069472</td>\n",
       "      <td>1.000000</td>\n",
       "      <td>-0.041180</td>\n",
       "      <td>-0.003045</td>\n",
       "      <td>-0.015978</td>\n",
       "      <td>-0.006106</td>\n",
       "      <td>-0.103385</td>\n",
       "      <td>-0.005205</td>\n",
       "      <td>-0.133156</td>\n",
       "      <td>-0.124911</td>\n",
       "      <td>-0.101424</td>\n",
       "    </tr>\n",
       "    <tr>\n",
       "      <th>Trip_duration</th>\n",
       "      <td>0.004480</td>\n",
       "      <td>0.093479</td>\n",
       "      <td>0.099187</td>\n",
       "      <td>-0.005243</td>\n",
       "      <td>0.003885</td>\n",
       "      <td>0.042256</td>\n",
       "      <td>0.023262</td>\n",
       "      <td>0.004968</td>\n",
       "      <td>0.094307</td>\n",
       "      <td>-0.041180</td>\n",
       "      <td>1.000000</td>\n",
       "      <td>0.011356</td>\n",
       "      <td>0.001403</td>\n",
       "      <td>0.003150</td>\n",
       "      <td>-0.004115</td>\n",
       "      <td>-0.000653</td>\n",
       "      <td>-0.010711</td>\n",
       "      <td>-0.007923</td>\n",
       "      <td>-0.004257</td>\n",
       "    </tr>\n",
       "    <tr>\n",
       "      <th>RateCodeID_2</th>\n",
       "      <td>-0.003273</td>\n",
       "      <td>0.198225</td>\n",
       "      <td>0.180614</td>\n",
       "      <td>-0.046657</td>\n",
       "      <td>0.006159</td>\n",
       "      <td>0.131015</td>\n",
       "      <td>0.194187</td>\n",
       "      <td>0.005410</td>\n",
       "      <td>0.194854</td>\n",
       "      <td>-0.003045</td>\n",
       "      <td>0.011356</td>\n",
       "      <td>1.000000</td>\n",
       "      <td>-0.001098</td>\n",
       "      <td>-0.001085</td>\n",
       "      <td>-0.006089</td>\n",
       "      <td>-0.000138</td>\n",
       "      <td>0.020700</td>\n",
       "      <td>0.008297</td>\n",
       "      <td>-0.005786</td>\n",
       "    </tr>\n",
       "    <tr>\n",
       "      <th>RateCodeID_3</th>\n",
       "      <td>-0.001728</td>\n",
       "      <td>0.042189</td>\n",
       "      <td>0.072926</td>\n",
       "      <td>-0.002990</td>\n",
       "      <td>-0.178307</td>\n",
       "      <td>0.042746</td>\n",
       "      <td>0.112639</td>\n",
       "      <td>0.002992</td>\n",
       "      <td>0.079005</td>\n",
       "      <td>-0.015978</td>\n",
       "      <td>0.001403</td>\n",
       "      <td>-0.001098</td>\n",
       "      <td>1.000000</td>\n",
       "      <td>-0.000531</td>\n",
       "      <td>-0.002978</td>\n",
       "      <td>-0.000068</td>\n",
       "      <td>0.070003</td>\n",
       "      <td>0.034378</td>\n",
       "      <td>-0.002947</td>\n",
       "    </tr>\n",
       "    <tr>\n",
       "      <th>RateCodeID_4</th>\n",
       "      <td>0.001978</td>\n",
       "      <td>0.059809</td>\n",
       "      <td>0.068730</td>\n",
       "      <td>-0.000084</td>\n",
       "      <td>-0.000898</td>\n",
       "      <td>0.041157</td>\n",
       "      <td>0.048959</td>\n",
       "      <td>-0.000943</td>\n",
       "      <td>0.070713</td>\n",
       "      <td>-0.006106</td>\n",
       "      <td>0.003150</td>\n",
       "      <td>-0.001085</td>\n",
       "      <td>-0.000531</td>\n",
       "      <td>1.000000</td>\n",
       "      <td>-0.002942</td>\n",
       "      <td>-0.000067</td>\n",
       "      <td>0.008306</td>\n",
       "      <td>0.001952</td>\n",
       "      <td>0.000551</td>\n",
       "    </tr>\n",
       "    <tr>\n",
       "      <th>RateCodeID_5</th>\n",
       "      <td>-0.009950</td>\n",
       "      <td>-0.053994</td>\n",
       "      <td>0.145466</td>\n",
       "      <td>-0.126522</td>\n",
       "      <td>-0.971357</td>\n",
       "      <td>-0.007989</td>\n",
       "      <td>0.001111</td>\n",
       "      <td>-0.962159</td>\n",
       "      <td>0.108871</td>\n",
       "      <td>-0.103385</td>\n",
       "      <td>-0.004115</td>\n",
       "      <td>-0.006089</td>\n",
       "      <td>-0.002978</td>\n",
       "      <td>-0.002942</td>\n",
       "      <td>1.000000</td>\n",
       "      <td>-0.000375</td>\n",
       "      <td>0.007336</td>\n",
       "      <td>-0.001914</td>\n",
       "      <td>0.981656</td>\n",
       "    </tr>\n",
       "    <tr>\n",
       "      <th>RateCodeID_6</th>\n",
       "      <td>-0.000088</td>\n",
       "      <td>-0.001013</td>\n",
       "      <td>-0.003299</td>\n",
       "      <td>-0.002870</td>\n",
       "      <td>0.000379</td>\n",
       "      <td>-0.003024</td>\n",
       "      <td>-0.000478</td>\n",
       "      <td>-0.003450</td>\n",
       "      <td>-0.003549</td>\n",
       "      <td>-0.005205</td>\n",
       "      <td>-0.000653</td>\n",
       "      <td>-0.000138</td>\n",
       "      <td>-0.000068</td>\n",
       "      <td>-0.000067</td>\n",
       "      <td>-0.000375</td>\n",
       "      <td>1.000000</td>\n",
       "      <td>0.032539</td>\n",
       "      <td>0.006773</td>\n",
       "      <td>-0.000371</td>\n",
       "    </tr>\n",
       "    <tr>\n",
       "      <th>Payment_type_3</th>\n",
       "      <td>-0.016052</td>\n",
       "      <td>-0.028881</td>\n",
       "      <td>-0.026968</td>\n",
       "      <td>0.000542</td>\n",
       "      <td>-0.020191</td>\n",
       "      <td>-0.077348</td>\n",
       "      <td>-0.007207</td>\n",
       "      <td>-0.011429</td>\n",
       "      <td>-0.039602</td>\n",
       "      <td>-0.133156</td>\n",
       "      <td>-0.010711</td>\n",
       "      <td>0.020700</td>\n",
       "      <td>0.070003</td>\n",
       "      <td>0.008306</td>\n",
       "      <td>0.007336</td>\n",
       "      <td>0.032539</td>\n",
       "      <td>1.000000</td>\n",
       "      <td>-0.005219</td>\n",
       "      <td>0.006849</td>\n",
       "    </tr>\n",
       "    <tr>\n",
       "      <th>Payment_type_4</th>\n",
       "      <td>-0.019489</td>\n",
       "      <td>-0.023121</td>\n",
       "      <td>-0.020838</td>\n",
       "      <td>-0.006465</td>\n",
       "      <td>-0.004112</td>\n",
       "      <td>-0.072551</td>\n",
       "      <td>0.000318</td>\n",
       "      <td>0.000866</td>\n",
       "      <td>-0.032877</td>\n",
       "      <td>-0.124911</td>\n",
       "      <td>-0.007923</td>\n",
       "      <td>0.008297</td>\n",
       "      <td>0.034378</td>\n",
       "      <td>0.001952</td>\n",
       "      <td>-0.001914</td>\n",
       "      <td>0.006773</td>\n",
       "      <td>-0.005219</td>\n",
       "      <td>1.000000</td>\n",
       "      <td>-0.001746</td>\n",
       "    </tr>\n",
       "    <tr>\n",
       "      <th>Trip_type _2.0</th>\n",
       "      <td>-0.009489</td>\n",
       "      <td>-0.053603</td>\n",
       "      <td>0.142824</td>\n",
       "      <td>-0.124703</td>\n",
       "      <td>-0.976507</td>\n",
       "      <td>-0.008034</td>\n",
       "      <td>0.001435</td>\n",
       "      <td>-0.977429</td>\n",
       "      <td>0.106641</td>\n",
       "      <td>-0.101424</td>\n",
       "      <td>-0.004257</td>\n",
       "      <td>-0.005786</td>\n",
       "      <td>-0.002947</td>\n",
       "      <td>0.000551</td>\n",
       "      <td>0.981656</td>\n",
       "      <td>-0.000371</td>\n",
       "      <td>0.006849</td>\n",
       "      <td>-0.001746</td>\n",
       "      <td>1.000000</td>\n",
       "    </tr>\n",
       "  </tbody>\n",
       "</table>\n",
       "</div>"
      ],
      "text/plain": [
       "                       Passenger_count  Trip_distance  Fare_amount     Extra  \\\n",
       "Passenger_count               1.000000       0.012744     0.011221  0.020069   \n",
       "Trip_distance                 0.012744       1.000000     0.867618 -0.053628   \n",
       "Fare_amount                   0.011221       0.867618     1.000000 -0.085954   \n",
       "Extra                         0.020069      -0.053628    -0.085954  1.000000   \n",
       "MTA_tax                       0.009739       0.045591    -0.154616  0.124052   \n",
       "Tip_amount                    0.016183       0.571415     0.564549 -0.025372   \n",
       "Tolls_amount                  0.008365       0.295645     0.259928 -0.042727   \n",
       "improvement_surcharge         0.009959       0.052636    -0.139940  0.122933   \n",
       "Total_amount                  0.014249       0.874731     0.979172 -0.049744   \n",
       "Tip_percent                   0.014129      -0.038264    -0.070664  0.013119   \n",
       "Trip_duration                 0.004480       0.093479     0.099187 -0.005243   \n",
       "RateCodeID_2                 -0.003273       0.198225     0.180614 -0.046657   \n",
       "RateCodeID_3                 -0.001728       0.042189     0.072926 -0.002990   \n",
       "RateCodeID_4                  0.001978       0.059809     0.068730 -0.000084   \n",
       "RateCodeID_5                 -0.009950      -0.053994     0.145466 -0.126522   \n",
       "RateCodeID_6                 -0.000088      -0.001013    -0.003299 -0.002870   \n",
       "Payment_type_3               -0.016052      -0.028881    -0.026968  0.000542   \n",
       "Payment_type_4               -0.019489      -0.023121    -0.020838 -0.006465   \n",
       "Trip_type _2.0               -0.009489      -0.053603     0.142824 -0.124703   \n",
       "\n",
       "                        MTA_tax  Tip_amount  Tolls_amount  \\\n",
       "Passenger_count        0.009739    0.016183      0.008365   \n",
       "Trip_distance          0.045591    0.571415      0.295645   \n",
       "Fare_amount           -0.154616    0.564549      0.259928   \n",
       "Extra                  0.124052   -0.025372     -0.042727   \n",
       "MTA_tax                1.000000    0.000523     -0.021914   \n",
       "Tip_amount             0.000523    1.000000      0.236343   \n",
       "Tolls_amount          -0.021914    0.236343      1.000000   \n",
       "improvement_surcharge  0.955822    0.007534     -0.001456   \n",
       "Total_amount          -0.119866    0.703878      0.352685   \n",
       "Tip_percent            0.103812    0.614762     -0.003656   \n",
       "Trip_duration          0.003885    0.042256      0.023262   \n",
       "RateCodeID_2           0.006159    0.131015      0.194187   \n",
       "RateCodeID_3          -0.178307    0.042746      0.112639   \n",
       "RateCodeID_4          -0.000898    0.041157      0.048959   \n",
       "RateCodeID_5          -0.971357   -0.007989      0.001111   \n",
       "RateCodeID_6           0.000379   -0.003024     -0.000478   \n",
       "Payment_type_3        -0.020191   -0.077348     -0.007207   \n",
       "Payment_type_4        -0.004112   -0.072551      0.000318   \n",
       "Trip_type _2.0        -0.976507   -0.008034      0.001435   \n",
       "\n",
       "                       improvement_surcharge  Total_amount  Tip_percent  \\\n",
       "Passenger_count                     0.009959      0.014249     0.014129   \n",
       "Trip_distance                       0.052636      0.874731    -0.038264   \n",
       "Fare_amount                        -0.139940      0.979172    -0.070664   \n",
       "Extra                               0.122933     -0.049744     0.013119   \n",
       "MTA_tax                             0.955822     -0.119866     0.103812   \n",
       "Tip_amount                          0.007534      0.703878     0.614762   \n",
       "Tolls_amount                       -0.001456      0.352685    -0.003656   \n",
       "improvement_surcharge               1.000000     -0.104408     0.098873   \n",
       "Total_amount                       -0.104408      1.000000     0.069472   \n",
       "Tip_percent                         0.098873      0.069472     1.000000   \n",
       "Trip_duration                       0.004968      0.094307    -0.041180   \n",
       "RateCodeID_2                        0.005410      0.194854    -0.003045   \n",
       "RateCodeID_3                        0.002992      0.079005    -0.015978   \n",
       "RateCodeID_4                       -0.000943      0.070713    -0.006106   \n",
       "RateCodeID_5                       -0.962159      0.108871    -0.103385   \n",
       "RateCodeID_6                       -0.003450     -0.003549    -0.005205   \n",
       "Payment_type_3                     -0.011429     -0.039602    -0.133156   \n",
       "Payment_type_4                      0.000866     -0.032877    -0.124911   \n",
       "Trip_type _2.0                     -0.977429      0.106641    -0.101424   \n",
       "\n",
       "                       Trip_duration  RateCodeID_2  RateCodeID_3  \\\n",
       "Passenger_count             0.004480     -0.003273     -0.001728   \n",
       "Trip_distance               0.093479      0.198225      0.042189   \n",
       "Fare_amount                 0.099187      0.180614      0.072926   \n",
       "Extra                      -0.005243     -0.046657     -0.002990   \n",
       "MTA_tax                     0.003885      0.006159     -0.178307   \n",
       "Tip_amount                  0.042256      0.131015      0.042746   \n",
       "Tolls_amount                0.023262      0.194187      0.112639   \n",
       "improvement_surcharge       0.004968      0.005410      0.002992   \n",
       "Total_amount                0.094307      0.194854      0.079005   \n",
       "Tip_percent                -0.041180     -0.003045     -0.015978   \n",
       "Trip_duration               1.000000      0.011356      0.001403   \n",
       "RateCodeID_2                0.011356      1.000000     -0.001098   \n",
       "RateCodeID_3                0.001403     -0.001098      1.000000   \n",
       "RateCodeID_4                0.003150     -0.001085     -0.000531   \n",
       "RateCodeID_5               -0.004115     -0.006089     -0.002978   \n",
       "RateCodeID_6               -0.000653     -0.000138     -0.000068   \n",
       "Payment_type_3             -0.010711      0.020700      0.070003   \n",
       "Payment_type_4             -0.007923      0.008297      0.034378   \n",
       "Trip_type _2.0             -0.004257     -0.005786     -0.002947   \n",
       "\n",
       "                       RateCodeID_4  RateCodeID_5  RateCodeID_6  \\\n",
       "Passenger_count            0.001978     -0.009950     -0.000088   \n",
       "Trip_distance              0.059809     -0.053994     -0.001013   \n",
       "Fare_amount                0.068730      0.145466     -0.003299   \n",
       "Extra                     -0.000084     -0.126522     -0.002870   \n",
       "MTA_tax                   -0.000898     -0.971357      0.000379   \n",
       "Tip_amount                 0.041157     -0.007989     -0.003024   \n",
       "Tolls_amount               0.048959      0.001111     -0.000478   \n",
       "improvement_surcharge     -0.000943     -0.962159     -0.003450   \n",
       "Total_amount               0.070713      0.108871     -0.003549   \n",
       "Tip_percent               -0.006106     -0.103385     -0.005205   \n",
       "Trip_duration              0.003150     -0.004115     -0.000653   \n",
       "RateCodeID_2              -0.001085     -0.006089     -0.000138   \n",
       "RateCodeID_3              -0.000531     -0.002978     -0.000068   \n",
       "RateCodeID_4               1.000000     -0.002942     -0.000067   \n",
       "RateCodeID_5              -0.002942      1.000000     -0.000375   \n",
       "RateCodeID_6              -0.000067     -0.000375      1.000000   \n",
       "Payment_type_3             0.008306      0.007336      0.032539   \n",
       "Payment_type_4             0.001952     -0.001914      0.006773   \n",
       "Trip_type _2.0             0.000551      0.981656     -0.000371   \n",
       "\n",
       "                       Payment_type_3  Payment_type_4  Trip_type _2.0  \n",
       "Passenger_count             -0.016052       -0.019489       -0.009489  \n",
       "Trip_distance               -0.028881       -0.023121       -0.053603  \n",
       "Fare_amount                 -0.026968       -0.020838        0.142824  \n",
       "Extra                        0.000542       -0.006465       -0.124703  \n",
       "MTA_tax                     -0.020191       -0.004112       -0.976507  \n",
       "Tip_amount                  -0.077348       -0.072551       -0.008034  \n",
       "Tolls_amount                -0.007207        0.000318        0.001435  \n",
       "improvement_surcharge       -0.011429        0.000866       -0.977429  \n",
       "Total_amount                -0.039602       -0.032877        0.106641  \n",
       "Tip_percent                 -0.133156       -0.124911       -0.101424  \n",
       "Trip_duration               -0.010711       -0.007923       -0.004257  \n",
       "RateCodeID_2                 0.020700        0.008297       -0.005786  \n",
       "RateCodeID_3                 0.070003        0.034378       -0.002947  \n",
       "RateCodeID_4                 0.008306        0.001952        0.000551  \n",
       "RateCodeID_5                 0.007336       -0.001914        0.981656  \n",
       "RateCodeID_6                 0.032539        0.006773       -0.000371  \n",
       "Payment_type_3               1.000000       -0.005219        0.006849  \n",
       "Payment_type_4              -0.005219        1.000000       -0.001746  \n",
       "Trip_type _2.0               0.006849       -0.001746        1.000000  "
      ]
     },
     "execution_count": 49,
     "metadata": {},
     "output_type": "execute_result"
    }
   ],
   "source": [
    "#Creating a dataframe with pair wise correlation values\n",
    "df5.corr()"
   ]
  },
  {
   "cell_type": "code",
   "execution_count": 50,
   "metadata": {
    "collapsed": false
   },
   "outputs": [
    {
     "data": {
      "text/html": [
       "<div>\n",
       "<table border=\"1\" class=\"dataframe\">\n",
       "  <thead>\n",
       "    <tr style=\"text-align: right;\">\n",
       "      <th></th>\n",
       "      <th>Passenger_count</th>\n",
       "      <th>Trip_distance</th>\n",
       "      <th>Fare_amount</th>\n",
       "      <th>Extra</th>\n",
       "      <th>MTA_tax</th>\n",
       "      <th>Tip_amount</th>\n",
       "      <th>Tolls_amount</th>\n",
       "      <th>improvement_surcharge</th>\n",
       "      <th>Total_amount</th>\n",
       "      <th>Tip_percent</th>\n",
       "      <th>Trip_duration</th>\n",
       "      <th>RateCodeID_2</th>\n",
       "      <th>RateCodeID_3</th>\n",
       "      <th>RateCodeID_4</th>\n",
       "      <th>RateCodeID_5</th>\n",
       "      <th>RateCodeID_6</th>\n",
       "      <th>Payment_type_3</th>\n",
       "      <th>Payment_type_4</th>\n",
       "      <th>Trip_type _2.0</th>\n",
       "    </tr>\n",
       "  </thead>\n",
       "  <tbody>\n",
       "    <tr>\n",
       "      <th>Passenger_count</th>\n",
       "      <td>True</td>\n",
       "      <td>False</td>\n",
       "      <td>False</td>\n",
       "      <td>False</td>\n",
       "      <td>False</td>\n",
       "      <td>False</td>\n",
       "      <td>False</td>\n",
       "      <td>False</td>\n",
       "      <td>False</td>\n",
       "      <td>False</td>\n",
       "      <td>False</td>\n",
       "      <td>False</td>\n",
       "      <td>False</td>\n",
       "      <td>False</td>\n",
       "      <td>False</td>\n",
       "      <td>False</td>\n",
       "      <td>False</td>\n",
       "      <td>False</td>\n",
       "      <td>False</td>\n",
       "    </tr>\n",
       "    <tr>\n",
       "      <th>Trip_distance</th>\n",
       "      <td>False</td>\n",
       "      <td>True</td>\n",
       "      <td>False</td>\n",
       "      <td>False</td>\n",
       "      <td>False</td>\n",
       "      <td>False</td>\n",
       "      <td>False</td>\n",
       "      <td>False</td>\n",
       "      <td>False</td>\n",
       "      <td>False</td>\n",
       "      <td>False</td>\n",
       "      <td>False</td>\n",
       "      <td>False</td>\n",
       "      <td>False</td>\n",
       "      <td>False</td>\n",
       "      <td>False</td>\n",
       "      <td>False</td>\n",
       "      <td>False</td>\n",
       "      <td>False</td>\n",
       "    </tr>\n",
       "    <tr>\n",
       "      <th>Fare_amount</th>\n",
       "      <td>False</td>\n",
       "      <td>False</td>\n",
       "      <td>True</td>\n",
       "      <td>False</td>\n",
       "      <td>False</td>\n",
       "      <td>False</td>\n",
       "      <td>False</td>\n",
       "      <td>False</td>\n",
       "      <td>True</td>\n",
       "      <td>False</td>\n",
       "      <td>False</td>\n",
       "      <td>False</td>\n",
       "      <td>False</td>\n",
       "      <td>False</td>\n",
       "      <td>False</td>\n",
       "      <td>False</td>\n",
       "      <td>False</td>\n",
       "      <td>False</td>\n",
       "      <td>False</td>\n",
       "    </tr>\n",
       "    <tr>\n",
       "      <th>Extra</th>\n",
       "      <td>False</td>\n",
       "      <td>False</td>\n",
       "      <td>False</td>\n",
       "      <td>True</td>\n",
       "      <td>False</td>\n",
       "      <td>False</td>\n",
       "      <td>False</td>\n",
       "      <td>False</td>\n",
       "      <td>False</td>\n",
       "      <td>False</td>\n",
       "      <td>False</td>\n",
       "      <td>False</td>\n",
       "      <td>False</td>\n",
       "      <td>False</td>\n",
       "      <td>False</td>\n",
       "      <td>False</td>\n",
       "      <td>False</td>\n",
       "      <td>False</td>\n",
       "      <td>False</td>\n",
       "    </tr>\n",
       "    <tr>\n",
       "      <th>MTA_tax</th>\n",
       "      <td>False</td>\n",
       "      <td>False</td>\n",
       "      <td>False</td>\n",
       "      <td>False</td>\n",
       "      <td>True</td>\n",
       "      <td>False</td>\n",
       "      <td>False</td>\n",
       "      <td>True</td>\n",
       "      <td>False</td>\n",
       "      <td>False</td>\n",
       "      <td>False</td>\n",
       "      <td>False</td>\n",
       "      <td>False</td>\n",
       "      <td>False</td>\n",
       "      <td>False</td>\n",
       "      <td>False</td>\n",
       "      <td>False</td>\n",
       "      <td>False</td>\n",
       "      <td>False</td>\n",
       "    </tr>\n",
       "    <tr>\n",
       "      <th>Tip_amount</th>\n",
       "      <td>False</td>\n",
       "      <td>False</td>\n",
       "      <td>False</td>\n",
       "      <td>False</td>\n",
       "      <td>False</td>\n",
       "      <td>True</td>\n",
       "      <td>False</td>\n",
       "      <td>False</td>\n",
       "      <td>False</td>\n",
       "      <td>False</td>\n",
       "      <td>False</td>\n",
       "      <td>False</td>\n",
       "      <td>False</td>\n",
       "      <td>False</td>\n",
       "      <td>False</td>\n",
       "      <td>False</td>\n",
       "      <td>False</td>\n",
       "      <td>False</td>\n",
       "      <td>False</td>\n",
       "    </tr>\n",
       "    <tr>\n",
       "      <th>Tolls_amount</th>\n",
       "      <td>False</td>\n",
       "      <td>False</td>\n",
       "      <td>False</td>\n",
       "      <td>False</td>\n",
       "      <td>False</td>\n",
       "      <td>False</td>\n",
       "      <td>True</td>\n",
       "      <td>False</td>\n",
       "      <td>False</td>\n",
       "      <td>False</td>\n",
       "      <td>False</td>\n",
       "      <td>False</td>\n",
       "      <td>False</td>\n",
       "      <td>False</td>\n",
       "      <td>False</td>\n",
       "      <td>False</td>\n",
       "      <td>False</td>\n",
       "      <td>False</td>\n",
       "      <td>False</td>\n",
       "    </tr>\n",
       "    <tr>\n",
       "      <th>improvement_surcharge</th>\n",
       "      <td>False</td>\n",
       "      <td>False</td>\n",
       "      <td>False</td>\n",
       "      <td>False</td>\n",
       "      <td>True</td>\n",
       "      <td>False</td>\n",
       "      <td>False</td>\n",
       "      <td>True</td>\n",
       "      <td>False</td>\n",
       "      <td>False</td>\n",
       "      <td>False</td>\n",
       "      <td>False</td>\n",
       "      <td>False</td>\n",
       "      <td>False</td>\n",
       "      <td>False</td>\n",
       "      <td>False</td>\n",
       "      <td>False</td>\n",
       "      <td>False</td>\n",
       "      <td>False</td>\n",
       "    </tr>\n",
       "    <tr>\n",
       "      <th>Total_amount</th>\n",
       "      <td>False</td>\n",
       "      <td>False</td>\n",
       "      <td>True</td>\n",
       "      <td>False</td>\n",
       "      <td>False</td>\n",
       "      <td>False</td>\n",
       "      <td>False</td>\n",
       "      <td>False</td>\n",
       "      <td>True</td>\n",
       "      <td>False</td>\n",
       "      <td>False</td>\n",
       "      <td>False</td>\n",
       "      <td>False</td>\n",
       "      <td>False</td>\n",
       "      <td>False</td>\n",
       "      <td>False</td>\n",
       "      <td>False</td>\n",
       "      <td>False</td>\n",
       "      <td>False</td>\n",
       "    </tr>\n",
       "    <tr>\n",
       "      <th>Tip_percent</th>\n",
       "      <td>False</td>\n",
       "      <td>False</td>\n",
       "      <td>False</td>\n",
       "      <td>False</td>\n",
       "      <td>False</td>\n",
       "      <td>False</td>\n",
       "      <td>False</td>\n",
       "      <td>False</td>\n",
       "      <td>False</td>\n",
       "      <td>True</td>\n",
       "      <td>False</td>\n",
       "      <td>False</td>\n",
       "      <td>False</td>\n",
       "      <td>False</td>\n",
       "      <td>False</td>\n",
       "      <td>False</td>\n",
       "      <td>False</td>\n",
       "      <td>False</td>\n",
       "      <td>False</td>\n",
       "    </tr>\n",
       "    <tr>\n",
       "      <th>Trip_duration</th>\n",
       "      <td>False</td>\n",
       "      <td>False</td>\n",
       "      <td>False</td>\n",
       "      <td>False</td>\n",
       "      <td>False</td>\n",
       "      <td>False</td>\n",
       "      <td>False</td>\n",
       "      <td>False</td>\n",
       "      <td>False</td>\n",
       "      <td>False</td>\n",
       "      <td>True</td>\n",
       "      <td>False</td>\n",
       "      <td>False</td>\n",
       "      <td>False</td>\n",
       "      <td>False</td>\n",
       "      <td>False</td>\n",
       "      <td>False</td>\n",
       "      <td>False</td>\n",
       "      <td>False</td>\n",
       "    </tr>\n",
       "    <tr>\n",
       "      <th>RateCodeID_2</th>\n",
       "      <td>False</td>\n",
       "      <td>False</td>\n",
       "      <td>False</td>\n",
       "      <td>False</td>\n",
       "      <td>False</td>\n",
       "      <td>False</td>\n",
       "      <td>False</td>\n",
       "      <td>False</td>\n",
       "      <td>False</td>\n",
       "      <td>False</td>\n",
       "      <td>False</td>\n",
       "      <td>True</td>\n",
       "      <td>False</td>\n",
       "      <td>False</td>\n",
       "      <td>False</td>\n",
       "      <td>False</td>\n",
       "      <td>False</td>\n",
       "      <td>False</td>\n",
       "      <td>False</td>\n",
       "    </tr>\n",
       "    <tr>\n",
       "      <th>RateCodeID_3</th>\n",
       "      <td>False</td>\n",
       "      <td>False</td>\n",
       "      <td>False</td>\n",
       "      <td>False</td>\n",
       "      <td>False</td>\n",
       "      <td>False</td>\n",
       "      <td>False</td>\n",
       "      <td>False</td>\n",
       "      <td>False</td>\n",
       "      <td>False</td>\n",
       "      <td>False</td>\n",
       "      <td>False</td>\n",
       "      <td>True</td>\n",
       "      <td>False</td>\n",
       "      <td>False</td>\n",
       "      <td>False</td>\n",
       "      <td>False</td>\n",
       "      <td>False</td>\n",
       "      <td>False</td>\n",
       "    </tr>\n",
       "    <tr>\n",
       "      <th>RateCodeID_4</th>\n",
       "      <td>False</td>\n",
       "      <td>False</td>\n",
       "      <td>False</td>\n",
       "      <td>False</td>\n",
       "      <td>False</td>\n",
       "      <td>False</td>\n",
       "      <td>False</td>\n",
       "      <td>False</td>\n",
       "      <td>False</td>\n",
       "      <td>False</td>\n",
       "      <td>False</td>\n",
       "      <td>False</td>\n",
       "      <td>False</td>\n",
       "      <td>True</td>\n",
       "      <td>False</td>\n",
       "      <td>False</td>\n",
       "      <td>False</td>\n",
       "      <td>False</td>\n",
       "      <td>False</td>\n",
       "    </tr>\n",
       "    <tr>\n",
       "      <th>RateCodeID_5</th>\n",
       "      <td>False</td>\n",
       "      <td>False</td>\n",
       "      <td>False</td>\n",
       "      <td>False</td>\n",
       "      <td>False</td>\n",
       "      <td>False</td>\n",
       "      <td>False</td>\n",
       "      <td>False</td>\n",
       "      <td>False</td>\n",
       "      <td>False</td>\n",
       "      <td>False</td>\n",
       "      <td>False</td>\n",
       "      <td>False</td>\n",
       "      <td>False</td>\n",
       "      <td>True</td>\n",
       "      <td>False</td>\n",
       "      <td>False</td>\n",
       "      <td>False</td>\n",
       "      <td>True</td>\n",
       "    </tr>\n",
       "    <tr>\n",
       "      <th>RateCodeID_6</th>\n",
       "      <td>False</td>\n",
       "      <td>False</td>\n",
       "      <td>False</td>\n",
       "      <td>False</td>\n",
       "      <td>False</td>\n",
       "      <td>False</td>\n",
       "      <td>False</td>\n",
       "      <td>False</td>\n",
       "      <td>False</td>\n",
       "      <td>False</td>\n",
       "      <td>False</td>\n",
       "      <td>False</td>\n",
       "      <td>False</td>\n",
       "      <td>False</td>\n",
       "      <td>False</td>\n",
       "      <td>True</td>\n",
       "      <td>False</td>\n",
       "      <td>False</td>\n",
       "      <td>False</td>\n",
       "    </tr>\n",
       "    <tr>\n",
       "      <th>Payment_type_3</th>\n",
       "      <td>False</td>\n",
       "      <td>False</td>\n",
       "      <td>False</td>\n",
       "      <td>False</td>\n",
       "      <td>False</td>\n",
       "      <td>False</td>\n",
       "      <td>False</td>\n",
       "      <td>False</td>\n",
       "      <td>False</td>\n",
       "      <td>False</td>\n",
       "      <td>False</td>\n",
       "      <td>False</td>\n",
       "      <td>False</td>\n",
       "      <td>False</td>\n",
       "      <td>False</td>\n",
       "      <td>False</td>\n",
       "      <td>True</td>\n",
       "      <td>False</td>\n",
       "      <td>False</td>\n",
       "    </tr>\n",
       "    <tr>\n",
       "      <th>Payment_type_4</th>\n",
       "      <td>False</td>\n",
       "      <td>False</td>\n",
       "      <td>False</td>\n",
       "      <td>False</td>\n",
       "      <td>False</td>\n",
       "      <td>False</td>\n",
       "      <td>False</td>\n",
       "      <td>False</td>\n",
       "      <td>False</td>\n",
       "      <td>False</td>\n",
       "      <td>False</td>\n",
       "      <td>False</td>\n",
       "      <td>False</td>\n",
       "      <td>False</td>\n",
       "      <td>False</td>\n",
       "      <td>False</td>\n",
       "      <td>False</td>\n",
       "      <td>True</td>\n",
       "      <td>False</td>\n",
       "    </tr>\n",
       "    <tr>\n",
       "      <th>Trip_type _2.0</th>\n",
       "      <td>False</td>\n",
       "      <td>False</td>\n",
       "      <td>False</td>\n",
       "      <td>False</td>\n",
       "      <td>False</td>\n",
       "      <td>False</td>\n",
       "      <td>False</td>\n",
       "      <td>False</td>\n",
       "      <td>False</td>\n",
       "      <td>False</td>\n",
       "      <td>False</td>\n",
       "      <td>False</td>\n",
       "      <td>False</td>\n",
       "      <td>False</td>\n",
       "      <td>True</td>\n",
       "      <td>False</td>\n",
       "      <td>False</td>\n",
       "      <td>False</td>\n",
       "      <td>True</td>\n",
       "    </tr>\n",
       "  </tbody>\n",
       "</table>\n",
       "</div>"
      ],
      "text/plain": [
       "                      Passenger_count Trip_distance Fare_amount  Extra  \\\n",
       "Passenger_count                  True         False       False  False   \n",
       "Trip_distance                   False          True       False  False   \n",
       "Fare_amount                     False         False        True  False   \n",
       "Extra                           False         False       False   True   \n",
       "MTA_tax                         False         False       False  False   \n",
       "Tip_amount                      False         False       False  False   \n",
       "Tolls_amount                    False         False       False  False   \n",
       "improvement_surcharge           False         False       False  False   \n",
       "Total_amount                    False         False        True  False   \n",
       "Tip_percent                     False         False       False  False   \n",
       "Trip_duration                   False         False       False  False   \n",
       "RateCodeID_2                    False         False       False  False   \n",
       "RateCodeID_3                    False         False       False  False   \n",
       "RateCodeID_4                    False         False       False  False   \n",
       "RateCodeID_5                    False         False       False  False   \n",
       "RateCodeID_6                    False         False       False  False   \n",
       "Payment_type_3                  False         False       False  False   \n",
       "Payment_type_4                  False         False       False  False   \n",
       "Trip_type _2.0                  False         False       False  False   \n",
       "\n",
       "                      MTA_tax Tip_amount Tolls_amount improvement_surcharge  \\\n",
       "Passenger_count         False      False        False                 False   \n",
       "Trip_distance           False      False        False                 False   \n",
       "Fare_amount             False      False        False                 False   \n",
       "Extra                   False      False        False                 False   \n",
       "MTA_tax                  True      False        False                  True   \n",
       "Tip_amount              False       True        False                 False   \n",
       "Tolls_amount            False      False         True                 False   \n",
       "improvement_surcharge    True      False        False                  True   \n",
       "Total_amount            False      False        False                 False   \n",
       "Tip_percent             False      False        False                 False   \n",
       "Trip_duration           False      False        False                 False   \n",
       "RateCodeID_2            False      False        False                 False   \n",
       "RateCodeID_3            False      False        False                 False   \n",
       "RateCodeID_4            False      False        False                 False   \n",
       "RateCodeID_5            False      False        False                 False   \n",
       "RateCodeID_6            False      False        False                 False   \n",
       "Payment_type_3          False      False        False                 False   \n",
       "Payment_type_4          False      False        False                 False   \n",
       "Trip_type _2.0          False      False        False                 False   \n",
       "\n",
       "                      Total_amount Tip_percent Trip_duration RateCodeID_2  \\\n",
       "Passenger_count              False       False         False        False   \n",
       "Trip_distance                False       False         False        False   \n",
       "Fare_amount                   True       False         False        False   \n",
       "Extra                        False       False         False        False   \n",
       "MTA_tax                      False       False         False        False   \n",
       "Tip_amount                   False       False         False        False   \n",
       "Tolls_amount                 False       False         False        False   \n",
       "improvement_surcharge        False       False         False        False   \n",
       "Total_amount                  True       False         False        False   \n",
       "Tip_percent                  False        True         False        False   \n",
       "Trip_duration                False       False          True        False   \n",
       "RateCodeID_2                 False       False         False         True   \n",
       "RateCodeID_3                 False       False         False        False   \n",
       "RateCodeID_4                 False       False         False        False   \n",
       "RateCodeID_5                 False       False         False        False   \n",
       "RateCodeID_6                 False       False         False        False   \n",
       "Payment_type_3               False       False         False        False   \n",
       "Payment_type_4               False       False         False        False   \n",
       "Trip_type _2.0               False       False         False        False   \n",
       "\n",
       "                      RateCodeID_3 RateCodeID_4 RateCodeID_5 RateCodeID_6  \\\n",
       "Passenger_count              False        False        False        False   \n",
       "Trip_distance                False        False        False        False   \n",
       "Fare_amount                  False        False        False        False   \n",
       "Extra                        False        False        False        False   \n",
       "MTA_tax                      False        False        False        False   \n",
       "Tip_amount                   False        False        False        False   \n",
       "Tolls_amount                 False        False        False        False   \n",
       "improvement_surcharge        False        False        False        False   \n",
       "Total_amount                 False        False        False        False   \n",
       "Tip_percent                  False        False        False        False   \n",
       "Trip_duration                False        False        False        False   \n",
       "RateCodeID_2                 False        False        False        False   \n",
       "RateCodeID_3                  True        False        False        False   \n",
       "RateCodeID_4                 False         True        False        False   \n",
       "RateCodeID_5                 False        False         True        False   \n",
       "RateCodeID_6                 False        False        False         True   \n",
       "Payment_type_3               False        False        False        False   \n",
       "Payment_type_4               False        False        False        False   \n",
       "Trip_type _2.0               False        False         True        False   \n",
       "\n",
       "                      Payment_type_3 Payment_type_4 Trip_type _2.0  \n",
       "Passenger_count                False          False          False  \n",
       "Trip_distance                  False          False          False  \n",
       "Fare_amount                    False          False          False  \n",
       "Extra                          False          False          False  \n",
       "MTA_tax                        False          False          False  \n",
       "Tip_amount                     False          False          False  \n",
       "Tolls_amount                   False          False          False  \n",
       "improvement_surcharge          False          False          False  \n",
       "Total_amount                   False          False          False  \n",
       "Tip_percent                    False          False          False  \n",
       "Trip_duration                  False          False          False  \n",
       "RateCodeID_2                   False          False          False  \n",
       "RateCodeID_3                   False          False          False  \n",
       "RateCodeID_4                   False          False          False  \n",
       "RateCodeID_5                   False          False           True  \n",
       "RateCodeID_6                   False          False          False  \n",
       "Payment_type_3                  True          False          False  \n",
       "Payment_type_4                 False           True          False  \n",
       "Trip_type _2.0                 False          False           True  "
      ]
     },
     "execution_count": 50,
     "metadata": {},
     "output_type": "execute_result"
    }
   ],
   "source": [
    "#Looking for highly correlated variables\n",
    "df5.corr()>0.9"
   ]
  },
  {
   "cell_type": "markdown",
   "metadata": {},
   "source": [
    "Inference-On observing the above 2 tables, I found that 'MTA_tax','improvement_surcharge','RateCodeID_5' and 'Trip_type_2.0' are highly correlated (Multi-collinearity). So, any 3 of them can be removed. I have decided to retain Trip_type_2.0 as Trip_type=1 depends on its value."
   ]
  },
  {
   "cell_type": "code",
   "execution_count": 51,
   "metadata": {
    "collapsed": false
   },
   "outputs": [
    {
     "data": {
      "text/plain": [
       "Passenger_count      int64\n",
       "Trip_distance      float64\n",
       "Fare_amount        float64\n",
       "Extra              float64\n",
       "Tip_amount         float64\n",
       "Tolls_amount       float64\n",
       "Total_amount       float64\n",
       "Tip_percent        float64\n",
       "Trip_duration      float64\n",
       "RateCodeID_2       float64\n",
       "RateCodeID_3       float64\n",
       "RateCodeID_4       float64\n",
       "RateCodeID_6       float64\n",
       "Payment_type_3     float64\n",
       "Payment_type_4     float64\n",
       "Trip_type _2.0     float64\n",
       "dtype: object"
      ]
     },
     "execution_count": 51,
     "metadata": {},
     "output_type": "execute_result"
    }
   ],
   "source": [
    "#Removing the variables with high correlated variables\n",
    "df5.drop(['improvement_surcharge','RateCodeID_5','MTA_tax'], axis=1, inplace=True)\n",
    "\n",
    "#Looking at the columns\n",
    "df5.dtypes"
   ]
  },
  {
   "cell_type": "markdown",
   "metadata": {},
   "source": [
    "Now, I will create a predictive model based on these varaibles to predict the tip as a percentage of the total fare.\n",
    "For this, I will first store the target variable, which is the Tip_percent and then remove from the data."
   ]
  },
  {
   "cell_type": "markdown",
   "metadata": {},
   "source": [
    "Also, I will import the scikit learn library to build the predictive model.\n",
    "LinearRegression for the linear regression model\n",
    "train_test_split for splitting the train and test data\n",
    "cross_val_score for calculating the cv score on train data\n",
    "cross_val_predict for the test data\n",
    "metrics for calculating the metrics like R-squared, MAE (Mean Absolute Error), MSE (Mean Squared Error)"
   ]
  },
  {
   "cell_type": "code",
   "execution_count": 52,
   "metadata": {
    "collapsed": false
   },
   "outputs": [
    {
     "name": "stderr",
     "output_type": "stream",
     "text": [
      "C:\\Users\\sethi\\Anaconda3\\lib\\site-packages\\sklearn\\cross_validation.py:44: DeprecationWarning: This module was deprecated in version 0.18 in favor of the model_selection module into which all the refactored classes and functions are moved. Also note that the interface of the new CV iterators are different from that of this module. This module will be removed in 0.20.\n",
      "  \"This module will be removed in 0.20.\", DeprecationWarning)\n"
     ]
    }
   ],
   "source": [
    "from sklearn.linear_model import LinearRegression\n",
    "from sklearn.cross_validation import train_test_split, cross_val_score, cross_val_predict\n",
    "from sklearn import metrics\n",
    "\n",
    "#setting random seed for reproducibility\n",
    "np.random.seed(123)"
   ]
  },
  {
   "cell_type": "code",
   "execution_count": 53,
   "metadata": {
    "collapsed": false
   },
   "outputs": [
    {
     "data": {
      "text/plain": [
       "numpy.ndarray"
      ]
     },
     "execution_count": 53,
     "metadata": {},
     "output_type": "execute_result"
    }
   ],
   "source": [
    "#Creating the target variable as numpy array\n",
    "y=np.array(df5['Tip_percent'])\n",
    "\n",
    "#Displaying the type\n",
    "type(y)"
   ]
  },
  {
   "cell_type": "code",
   "execution_count": 54,
   "metadata": {
    "collapsed": false
   },
   "outputs": [
    {
     "data": {
      "text/plain": [
       "numpy.ndarray"
      ]
     },
     "execution_count": 54,
     "metadata": {},
     "output_type": "execute_result"
    }
   ],
   "source": [
    "#Dropping the target variable from the data\n",
    "df5.drop('Tip_percent',axis=1,inplace=True)\n",
    "\n",
    "#Creating the data as numpy array\n",
    "X=np.array(df5)\n",
    "\n",
    "#Displaying the type\n",
    "type(X)"
   ]
  },
  {
   "cell_type": "code",
   "execution_count": 55,
   "metadata": {
    "collapsed": false
   },
   "outputs": [
    {
     "name": "stdout",
     "output_type": "stream",
     "text": [
      "(706072, 15)\n",
      "(706072,)\n"
     ]
    }
   ],
   "source": [
    "#Printing the shape of the arrays\n",
    "print(X.shape)\n",
    "print(y.shape)"
   ]
  },
  {
   "cell_type": "markdown",
   "metadata": {},
   "source": [
    "Splitting the data into train and test using 30% for test set"
   ]
  },
  {
   "cell_type": "code",
   "execution_count": 56,
   "metadata": {
    "collapsed": false
   },
   "outputs": [
    {
     "name": "stdout",
     "output_type": "stream",
     "text": [
      "(494250, 15) (494250,)\n",
      "(211822, 15) (211822,)\n"
     ]
    }
   ],
   "source": [
    "#Splitting the data\n",
    "X_train, X_test, y_train, y_test = train_test_split(X, y, test_size = 0.3)\n",
    "\n",
    "#Displaying the shapes of the train and test splits\n",
    "print(X_train.shape, y_train.shape)\n",
    "print(X_test.shape, y_test.shape) "
   ]
  },
  {
   "cell_type": "markdown",
   "metadata": {},
   "source": [
    "Creating a linear regression model using scikit learn.linear_model library."
   ]
  },
  {
   "cell_type": "code",
   "execution_count": 57,
   "metadata": {
    "collapsed": false
   },
   "outputs": [
    {
     "name": "stdout",
     "output_type": "stream",
     "text": [
      "[ 0.65816293  0.67678934  0.66965192  0.66328452  0.65341537  0.66907799\n",
      "  0.65799127  0.65589896  0.66612411  0.66629594]\n",
      "0.663669234112\n",
      "0.00691618345219\n"
     ]
    }
   ],
   "source": [
    "#Creating a linear regession model\n",
    "linreg1=LinearRegression()\n",
    "\n",
    "#obtaining the 10-fold cross validation (cv=10) scores on the training data\n",
    "scores1=cross_val_score(linreg1,X_train,y_train,cv=10)\n",
    "\n",
    "#Printing the R-squared values \n",
    "print(scores1)\n",
    "print(np.mean(scores1))\n",
    "print(np.std(scores1))"
   ]
  },
  {
   "cell_type": "markdown",
   "metadata": {},
   "source": [
    "Result-\n",
    "R-squared values- 0.65816293  0.67678934  0.66965192  0.66328452  0.65341537  0.66907799 0.65799127  0.65589896     0.66612411  0.66629594\n",
    "\n",
    "mean of R-squared values-0.663669234112\n",
    "\n",
    "standard deviation of R-squared values-0.00691618345219"
   ]
  },
  {
   "cell_type": "code",
   "execution_count": 58,
   "metadata": {
    "collapsed": false
   },
   "outputs": [
    {
     "name": "stdout",
     "output_type": "stream",
     "text": [
      "0.663236159558\n",
      "2.9130013632\n",
      "4.54843594081\n"
     ]
    }
   ],
   "source": [
    "#making predictions on the test set\n",
    "predictions1 = cross_val_predict(linreg1, X_test, y_test, cv = 10)\n",
    "\n",
    "#Checking the R-squared value, Mean Absolute Error and Root Mean Squared Value for the test set\n",
    "R_sq = metrics.r2_score(y_test, predictions1)\n",
    "print(R_sq)\n",
    "MAE = metrics.mean_absolute_error(y_test, predictions1)\n",
    "print(MAE)\n",
    "RMSE = np.sqrt(metrics.mean_squared_error(y_test, predictions1))\n",
    "print(RMSE)"
   ]
  },
  {
   "cell_type": "markdown",
   "metadata": {},
   "source": [
    "Result-\n",
    "R-squared=0.663236159558\n",
    "\n",
    "MAE=2.9130013632\n",
    "\n",
    "RMSE=4.54843594081"
   ]
  },
  {
   "cell_type": "markdown",
   "metadata": {},
   "source": [
    "Assuming it to be a model with good R-Squared value, we now try to fit the model on the Training data and then predicting the values for the test data."
   ]
  },
  {
   "cell_type": "code",
   "execution_count": 59,
   "metadata": {
    "collapsed": false
   },
   "outputs": [
    {
     "data": {
      "text/plain": [
       "0.66362638979822575"
      ]
     },
     "execution_count": 59,
     "metadata": {},
     "output_type": "execute_result"
    }
   ],
   "source": [
    "#Fitting the model\n",
    "linreg1.fit(X_train, y_train)\n",
    "\n",
    "#predicting the values\n",
    "y_pred1= linreg1.predict(X_test)\n",
    "\n",
    "#scoring the model\n",
    "linreg1.score(X_test, y_test)"
   ]
  },
  {
   "cell_type": "markdown",
   "metadata": {},
   "source": [
    "Result-\n",
    "Obtained R-squared=0.66362638979822575 with linear regression."
   ]
  },
  {
   "cell_type": "markdown",
   "metadata": {},
   "source": [
    "Now, creating a Random Forest Regressor model using the ensemble library of scikit learn. For this we first import the library."
   ]
  },
  {
   "cell_type": "code",
   "execution_count": 60,
   "metadata": {
    "collapsed": false
   },
   "outputs": [
    {
     "name": "stdout",
     "output_type": "stream",
     "text": [
      "[ 0.99775512  0.99986246  0.99980575  0.99983259  0.99977515  0.99982691\n",
      "  0.99966471  0.99912715  0.99961268  0.99882599]\n",
      "0.999408851128\n",
      "0.000641304631167\n"
     ]
    }
   ],
   "source": [
    "#Importing the required library\n",
    "from sklearn.ensemble import RandomForestRegressor\n",
    "\n",
    "#Defining the model with default parameters-number of trees=10 and criterion of measurement='mse' (Mean Square Error)\n",
    "rfreg1=RandomForestRegressor()\n",
    "\n",
    "#obtaining the 10-fold cross validation scores on the training data\n",
    "scores1=cross_val_score(rfreg1,X_train,y_train,cv=10)\n",
    "\n",
    "#Printing the R-squared values \n",
    "print(scores1)\n",
    "print(np.mean(scores1))\n",
    "print(np.std(scores1))"
   ]
  },
  {
   "cell_type": "markdown",
   "metadata": {},
   "source": [
    "Result-\n",
    "R-squared values- 0.99775512  0.99986246  0.99980575  0.99983259  0.99977515  0.99982691  0.99966471  0.99912715  0.99961268  0.99882599\n",
    "\n",
    "mean of R-squared values-0.999408851128\n",
    "\n",
    "standard deviation of R-squared values-0.000641304631167"
   ]
  },
  {
   "cell_type": "code",
   "execution_count": 61,
   "metadata": {
    "collapsed": false
   },
   "outputs": [
    {
     "name": "stdout",
     "output_type": "stream",
     "text": [
      "0.998624768772\n",
      "0.0160068419939\n",
      "0.290661304644\n"
     ]
    }
   ],
   "source": [
    "#making predictions on the test set\n",
    "predictions1 = cross_val_predict(rfreg1, X_test, y_test, cv = 10)\n",
    "\n",
    "#Checking the R-squared value, Mean Absolute Error and Root Mean Squared Value for the test set\n",
    "R_sq = metrics.r2_score(y_test, predictions1)\n",
    "print(R_sq)\n",
    "MAE = metrics.mean_absolute_error(y_test, predictions1)\n",
    "print(MAE)\n",
    "RMSE = np.sqrt(metrics.mean_squared_error(y_test, predictions1))\n",
    "print(RMSE)"
   ]
  },
  {
   "cell_type": "markdown",
   "metadata": {},
   "source": [
    "Result-\n",
    "R-squared=0.998624768772\n",
    "\n",
    "MAE=0.0160068419939\n",
    "\n",
    "RMSE=0.290661304644"
   ]
  },
  {
   "cell_type": "code",
   "execution_count": 62,
   "metadata": {
    "collapsed": false
   },
   "outputs": [
    {
     "data": {
      "text/plain": [
       "0.9995954595079477"
      ]
     },
     "execution_count": 62,
     "metadata": {},
     "output_type": "execute_result"
    }
   ],
   "source": [
    "#Fitting the model\n",
    "rfreg1.fit(X_train, y_train)\n",
    "\n",
    "#predicting the values\n",
    "y_pred= rfreg1.predict(X_test)\n",
    "\n",
    "#scoring the model (R-squared value)\n",
    "rfreg1.score(X_test, y_test)"
   ]
  },
  {
   "cell_type": "markdown",
   "metadata": {},
   "source": [
    "Result-\n",
    "Obtained R-squared value=0.9995954595079477 for Random Forest model"
   ]
  },
  {
   "cell_type": "markdown",
   "metadata": {},
   "source": [
    "Though, we are getting very high R-squared values for both train and test data, we might not call it overfitting. But for the sake of trying out different approach, I will now remove the Tip_amount variable from the data and then again try building the models. I am assuming that it might be causing the very high value of R-squared."
   ]
  },
  {
   "cell_type": "code",
   "execution_count": 63,
   "metadata": {
    "collapsed": false
   },
   "outputs": [],
   "source": [
    "#Dropping the Tip_amount variable from the data\n",
    "df6=df5.drop('Tip_amount',axis=1)\n",
    "\n",
    "#Creating the data as numpy array\n",
    "X1=np.array(df6)"
   ]
  },
  {
   "cell_type": "markdown",
   "metadata": {},
   "source": [
    "Splitting the new data into train and test split with 70:30 ratio"
   ]
  },
  {
   "cell_type": "code",
   "execution_count": 64,
   "metadata": {
    "collapsed": false
   },
   "outputs": [
    {
     "name": "stdout",
     "output_type": "stream",
     "text": [
      "(494250, 14) (494250,)\n",
      "(211822, 14) (211822,)\n"
     ]
    }
   ],
   "source": [
    "#Splitting the data\n",
    "X1_train, X1_test, y_train, y_test = train_test_split(X1, y, test_size = 0.3)\n",
    "\n",
    "#Displaying the shapes of the train and test splits\n",
    "print(X1_train.shape, y_train.shape)\n",
    "print(X1_test.shape, y_test.shape) "
   ]
  },
  {
   "cell_type": "markdown",
   "metadata": {},
   "source": [
    "Creating Linear Regression Model without Tip_amount variable"
   ]
  },
  {
   "cell_type": "code",
   "execution_count": 65,
   "metadata": {
    "collapsed": false
   },
   "outputs": [
    {
     "name": "stdout",
     "output_type": "stream",
     "text": [
      "[ 0.65654611  0.66702235  0.66863651  0.65896902  0.66137885  0.64492685\n",
      "  0.66067036  0.66763038  0.67719907  0.67115996]\n",
      "0.663413945552\n",
      "0.00853504789681\n"
     ]
    }
   ],
   "source": [
    "#Creating a linear regession model\n",
    "linreg2=LinearRegression()\n",
    "\n",
    "#obtaining the 10-fold cross validation (cv=10) scores on the training data\n",
    "scores2=cross_val_score(linreg2,X1_train,y_train,cv=10)\n",
    "\n",
    "#Printing the R-squared values \n",
    "print(scores2)\n",
    "print(np.mean(scores2))\n",
    "print(np.std(scores2))"
   ]
  },
  {
   "cell_type": "markdown",
   "metadata": {},
   "source": [
    "Result-\n",
    "R-squared values- 0.65654611  0.66702235  0.66863651  0.65896902  0.66137885  0.64492685  0.66067036  0.66763038  0.67719907  0.67115996\n",
    "\n",
    "mean of R-squared values-0.663413945552\n",
    "\n",
    "standard deviation of R-squared values-0.00853504789681"
   ]
  },
  {
   "cell_type": "code",
   "execution_count": 66,
   "metadata": {
    "collapsed": false
   },
   "outputs": [
    {
     "name": "stdout",
     "output_type": "stream",
     "text": [
      "-4.0472048902e-05\n",
      "5.73860307147\n",
      "7.85964724897\n"
     ]
    }
   ],
   "source": [
    "#making predictions on the test set\n",
    "predictions2 = cross_val_predict(linreg2, X_test, y_test, cv = 10)\n",
    "\n",
    "#Checking the R-squared value, Mean Absolute Error and Root Mean Squared Value for the test set\n",
    "R_sq = metrics.r2_score(y_test, predictions2)\n",
    "print(R_sq)\n",
    "MAE = metrics.mean_absolute_error(y_test, predictions2)\n",
    "print(MAE)\n",
    "RMSE = np.sqrt(metrics.mean_squared_error(y_test, predictions2))\n",
    "print(RMSE)"
   ]
  },
  {
   "cell_type": "markdown",
   "metadata": {},
   "source": [
    "Result-\n",
    "R-squared=-4.0472048902e-05\n",
    "\n",
    "MAE=5.73860307147\n",
    "\n",
    "RMSE=7.85964724897"
   ]
  },
  {
   "cell_type": "code",
   "execution_count": 67,
   "metadata": {
    "collapsed": false
   },
   "outputs": [
    {
     "data": {
      "text/plain": [
       "0.66423427433148619"
      ]
     },
     "execution_count": 67,
     "metadata": {},
     "output_type": "execute_result"
    }
   ],
   "source": [
    "#Fitting the model\n",
    "linreg2.fit(X1_train, y_train)\n",
    "\n",
    "#predicting the values\n",
    "y_pred2= linreg2.predict(X1_test)\n",
    "\n",
    "#scoring the model\n",
    "linreg2.score(X1_test, y_test)"
   ]
  },
  {
   "cell_type": "markdown",
   "metadata": {},
   "source": [
    "Result-\n",
    "Obtained R-squared=0.66423427433148619 with linear regression."
   ]
  },
  {
   "cell_type": "markdown",
   "metadata": {},
   "source": [
    "Creating Random Forest model without Tip_amount variable"
   ]
  },
  {
   "cell_type": "code",
   "execution_count": 68,
   "metadata": {
    "collapsed": false
   },
   "outputs": [
    {
     "name": "stdout",
     "output_type": "stream",
     "text": [
      "[ 0.99636347  0.9972545   0.99402358  0.99703832  0.99507174  0.99504277\n",
      "  0.99707603  0.99585154  0.99521681  0.99787322]\n",
      "0.996081198181\n",
      "0.00117066254969\n"
     ]
    }
   ],
   "source": [
    "rfreg2=RandomForestRegressor()\n",
    "\n",
    "scores2=cross_val_score(rfreg2,X1_train,y_train,cv=10)\n",
    "\n",
    "#Printing the R-squared values \n",
    "print(scores2)\n",
    "print(np.mean(scores2))\n",
    "print(np.std(scores2))"
   ]
  },
  {
   "cell_type": "markdown",
   "metadata": {},
   "source": [
    "Result-\n",
    "R-squared values- 0.99636347  0.9972545   0.99402358  0.99703832  0.99507174  0.99504277  0.99707603  0.99585154  0.99521681  0.99787322\n",
    "\n",
    "mean of R-squared values-0.996081198181\n",
    "\n",
    "standard deviation of R-squared values-0.00117066254969"
   ]
  },
  {
   "cell_type": "code",
   "execution_count": 69,
   "metadata": {
    "collapsed": false
   },
   "outputs": [
    {
     "name": "stdout",
     "output_type": "stream",
     "text": [
      "0.991685105619\n",
      "0.0780175436049\n",
      "0.716675627026\n"
     ]
    }
   ],
   "source": [
    "#making predictions on the test set\n",
    "predictions2 = cross_val_predict(rfreg2, X1_test, y_test, cv = 10)\n",
    "\n",
    "#Checking the R-squared value, Mean Absolute Error and Root Mean Squared Value for the test set\n",
    "R_sq = metrics.r2_score(y_test, predictions2)\n",
    "print(R_sq)\n",
    "MAE = metrics.mean_absolute_error(y_test, predictions2)\n",
    "print(MAE)\n",
    "RMSE = np.sqrt(metrics.mean_squared_error(y_test, predictions2))\n",
    "print(RMSE)"
   ]
  },
  {
   "cell_type": "markdown",
   "metadata": {},
   "source": [
    "Result-\n",
    "R-squared=0.991685105619\n",
    "\n",
    "MAE=0.0780175436049\n",
    "\n",
    "RMSE=0.716675627026"
   ]
  },
  {
   "cell_type": "code",
   "execution_count": 70,
   "metadata": {
    "collapsed": false
   },
   "outputs": [
    {
     "data": {
      "text/plain": [
       "0.99528990020885022"
      ]
     },
     "execution_count": 70,
     "metadata": {},
     "output_type": "execute_result"
    }
   ],
   "source": [
    "#Fitting the model\n",
    "rfreg2.fit(X1_train, y_train)\n",
    "\n",
    "#predicting the values\n",
    "y_pred= rfreg2.predict(X1_test)\n",
    "\n",
    "#scoring the model (R-squared value)\n",
    "rfreg2.score(X1_test, y_test)"
   ]
  },
  {
   "cell_type": "markdown",
   "metadata": {},
   "source": [
    "Obtained R-squared=0.99528990020885022 with linear regression."
   ]
  },
  {
   "cell_type": "markdown",
   "metadata": {},
   "source": [
    "Inference- My assumption about the 'Tip_amount' variable proved to be wrong. The Random forest model is predicting the tip percentage very accurately.\n",
    "\n",
    "I tried changing the parameter values (like n_estimators, criterion, etc.) of the Random Forest model but it is taking a lot more time than the defualt parameters. So, for this time, I haven't performed that. But if I had more time I would have definitely gone for that. This is due to the fact that ensemble methods like Random Forests and Boosting generally perform much better than other algorithms."
   ]
  },
  {
   "cell_type": "markdown",
   "metadata": {},
   "source": [
    "I also made SVM regressor model and yet again time was the issue. It was even taking more time than Random Forest model.\n",
    "The code for building the SVM regression model I tried is as follows:\n",
    "\n",
    "from sklearn.svm import SVR\n",
    "\n",
    "#defining the model\n",
    "svm_reg=SVR() #using default parameters\n",
    "\n",
    "#calculating the 10-fold cross validation scores\n",
    "scores=cross_val_score(svm_reg,X_train,y_train,cv=10)\n",
    "\n",
    "#Printing the R-squared values \n",
    "print(scores)\n",
    "print(np.mean(scores))\n",
    "print(np.std(scores))\n",
    "\n",
    "#making predictions on the test set\n",
    "predictions = cross_val_predict(svm_reg, X_test, y_test, cv = 10)\n",
    "\n",
    "#Checking the R-squared value, Mean Absolute Error and Root Mean Squared Value for the test set\n",
    "R_sq = metrics.r2_score(y_test, predictions)\n",
    "print(R_sq)\n",
    "MAE = metrics.mean_absolute_error(y_test, predictions)\n",
    "print(MAE)\n",
    "RMSE = np.sqrt(metrics.mean_squared_error(y_test, predictions))\n",
    "print(RMSE)\n",
    "\n",
    "#Fitting the model\n",
    "svm_reg.fit(X_train, y_train)\n",
    "\n",
    "#predicting the values\n",
    "y_pred= svm_reg.predict(X_test)\n",
    "\n",
    "#scoring the model (R-squared value)\n",
    "svm_reg.score(X_test, y_test)"
   ]
  }
 ],
 "metadata": {
  "anaconda-cloud": {},
  "kernelspec": {
   "display_name": "Python [conda root]",
   "language": "python",
   "name": "conda-root-py"
  },
  "language_info": {
   "codemirror_mode": {
    "name": "ipython",
    "version": 3
   },
   "file_extension": ".py",
   "mimetype": "text/x-python",
   "name": "python",
   "nbconvert_exporter": "python",
   "pygments_lexer": "ipython3",
   "version": "3.5.2"
  }
 },
 "nbformat": 4,
 "nbformat_minor": 1
}
